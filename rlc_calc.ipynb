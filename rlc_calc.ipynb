{
 "cells": [
  {
   "cell_type": "markdown",
   "metadata": {},
   "source": [
    "# Resistor inductor capacitor circuit calculator\n",
    "\n",
    "This is a calculator for the angular-frequency, time-constant and their phases of an [RLC circuit](https://en.wikipedia.org/wiki/RLC_circuit).\n",
    "\n",
    "## Background\n",
    "\n",
    "Generic model of a circuit of resistor inductor and capacitor connected in series.\n",
    "\n",
    "$$L\\frac{\\partial^2 f(t)}{\\partial t^2} + R\\frac{\\partial f(t)}{\\partial t} + \\frac{1}C f(t) = 0$$\n",
    "\n",
    "This is actually the [Kirchhoff's voltage law](https://en.wikipedia.org/wiki/Kirchhoff%27s_circuit_laws), where individual components are respectively the voltages over the inductor, resistor and capacitor.\n",
    "\n",
    "The solution for the differential equation is the Euler's function:\n",
    "\n",
    "$$e^{\\Omega t+\\Phi}$$\n",
    "\n",
    "where:\n",
    "\n",
    "$\\Omega = -\\frac{1}\\tau + i\\omega \\to$ the complex angular frequency (combined time constant and frequency)\n",
    "\n",
    "$\\Phi = -\\frac{1}{{\\tau}_0} + i\\phi \\to$ the phase of the complex angular frequency\n",
    "\n",
    "After replacing in the equation and differentiating, we got:\n",
    "\n",
    "$$L\\Omega^2 e^{\\Omega t+\\Phi} + R\\Omega e^{\\Omega t+\\Phi} + \\frac{e^{\\Omega t+\\Phi}}{C} = 0 \\implies$$\n",
    "\n",
    "$$\\implies L\\Omega^2 + R\\Omega + \\frac{1}{C} = 0$$\n",
    "\n",
    "This is a quadratic equation, where the solutions are:\n",
    "\n",
    "$$\\Omega = \\frac{ -R \\pm\\sqrt{R^2-4\\frac{L}C} }{2L}$$\n",
    "\n",
    "> In case of oscillating system ($R^2 < 4\\frac{L}C$), these solutions are complex numbers, that can be broken down into:\n",
    "\n",
    "$$\\begin{cases}\\Omega_r = -\\frac{1}\\tau = -\\frac{R}{2L} \\\\ \\Omega_i = \\omega = \\pm\\frac{\\sqrt{4\\frac{L}C-R^2}}{2L}\\end{cases}$$\n",
    "\n",
    "## Circuit parameters calculator"
   ]
  },
  {
   "cell_type": "code",
   "execution_count": 1,
   "metadata": {
    "execution": {
     "iopub.execute_input": "2025-03-24T08:49:19.256755Z",
     "iopub.status.busy": "2025-03-24T08:49:19.256567Z",
     "iopub.status.idle": "2025-03-24T08:49:19.260016Z",
     "shell.execute_reply": "2025-03-24T08:49:19.259505Z"
    }
   },
   "outputs": [],
   "source": [
    "# Circuit parameters\n",
    "resistance = 10     # 10 Ohm\n",
    "inductance = .1     # 100 milli-Henry\n",
    "capacitance = 15e-6 # 15 micro-Farads\n",
    "\n",
    "# Initial conditions\n",
    "capacitor_voltage0 = 5      # 5 Volts\n",
    "inductor_current0 = 0"
   ]
  },
  {
   "cell_type": "markdown",
   "metadata": {},
   "source": [
    "> This mimics the schematic: [Falstad](https://falstad.com/circuit/circuitjs.html?ctz=CQAgjCAMB0l3BWEBOWkwHYwGYeIExgAcE+GISALNhQKYC0YYAUAE7gYBsIRkI2RSjz58wkZgHcO3XtP4J8UZgGN+g+YszdsCqFDRwwlZCdNnz+hCaIljWIp1PkEzADZqhsgUJ2KR0CBh4THxkBEpKDHxOXkhKBHJxAHs9MG4+SkgTcH9AkHT+ED8iwpo+GmxmARKAMTyg+HR9YKbGEABhAEMAB07lAEsAF06AO2VaKqJCur0giDBYCDaASRGAEwBXZWGxieq+GdEcpYgAJVoAZ36LnfHmIA)\n",
    "\n",
    "### Initial conditions\n",
    "\n",
    "#### Obtain the Euler's phase ($\\Phi$) from voltage and current\n",
    "\n",
    "Relation between the initial voltage on the capacitor and the phase ($\\Phi$):\n",
    "\n",
    "$V_C(t) = \\frac{1}C e^{\\Omega t + \\Phi} \\implies C V_C(t) = e^{\\Omega t + \\Phi}$\n",
    "\n",
    "$$\\Phi = \\log(C V_C(t)) - \\Omega t$$\n",
    "\n",
    "> Note that $V_C(t)$ is the complex voltage value ($V_{Cr} + iV_{Ci}$), but we know its real component only\n",
    ">\n",
    "> As $V_{C0}$ is a complex number, $\\Phi$ is also complex and includes both ${\\tau}_0$ and $\\phi$\n",
    "\n",
    "Relation between the initial current through the inductor and the phase ($\\Phi$)\n",
    "\n",
    "$I_L(t) = \\frac{\\partial e^{\\Omega t + \\Phi}}{\\partial t} \\implies I_L(t) = \\Omega e^{\\Omega t + \\Phi} \\implies \\frac{I_L(t)}{\\Omega} = e^{\\Omega t + \\Phi}$\n",
    "\n",
    "$$\\Phi = \\log\\frac{I_L(t)}{\\Omega} - \\Omega t$$\n",
    "\n",
    "> Note that $I_L(t)$ is the complex current value ($I_{Lr} + iI_{Li}$), but we know its real component only\n",
    "\n",
    "#### Obtain the imaginary components of voltage and current\n",
    "\n",
    "The imaginary compoments of $I_L(t)$ and $V_C(t)$ can be obtained from:\n",
    "\n",
    "$\\frac{I_L(t)}{\\Omega} = e^{\\Omega t + \\Phi} = C V_C(t) \\implies I_L(t) = \\Omega C V_C(t)$\n",
    "\n",
    "Split this complex-number equation into two real-number equations:\n",
    "\n",
    "$I_{Lr} + iI_{Li} = (\\Omega_r + i\\Omega_i) C(V_{Cr} + iV_{Ci}) \\implies$\n",
    "\n",
    "$$\\begin{cases} I_{Lr} = C (\\Omega_r V_{Cr} - \\Omega_i \\underline{V_{Ci}}) \\\\ \\underline{I_{Li}} = C (\\Omega_r \\underline{V_{Ci}} + \\Omega_i V_{Cr}) \\end{cases}$$\n",
    "\n",
    "here the unknowns are $\\underline{underlined}$\n",
    "\n",
    "$\\implies V_{Ci} = \\frac{\\Omega_r V_{Cr}}{\\Omega_i} - \\frac{I_{Lr}}{C\\Omega_i} = \\frac{\\Omega_r C V_{Cr} - I_{Lr}}{C \\Omega_i}$\n",
    "$\\implies \\Phi = \\log(C V_{Cr} + i \\frac{\\Omega_r C V_{Cr} - I_{Lr}}{\\Omega_i}) - \\Omega t$\n",
    "\n",
    "The $C V_{Cr}$ is the amount of charge in capacitor $Q_{Cr}$ (real-component), thus:\n",
    "\n",
    "$$\\Phi = \\log(Q_{Cr} + i \\frac{\\Omega_r Q_{Cr} - I_{Lr}}{\\Omega_i}) - \\Omega t$$\n",
    "\n",
    "> Note that this is defined for $\\Omega_i = \\omega \\ne 0$, i.e. oscillating system only\n",
    "\n",
    "#### Obtain the Euler's phase for non-oscillating system\n",
    "\n",
    "For non-oscillating system, $\\Omega_i=0$ and $I_{Li}=V_{Ci}=0$:\n",
    "\n",
    "$$\\Phi = \\log(\\frac{I_{Lr}}{\\Omega}) - \\Omega t$$\n",
    "\n",
    "> Here $V_{Cr}$/$Q_{Cr}$ is NOT an initial condition, but a dependant result $Q_{Cr} = \\frac{I_{Lr}}{\\Omega}$.\n",
    "> To properly model such system, the complete $e^{\\Omega_1 t + \\Phi_1} + e^{\\Omega_2 t + \\Phi_2}$ solution for the differential equation must be used.\n",
    "> Where $\\Omega_{1,2}$ are both solutions of the quadratic equation, then both $I_{Lr}, Q_{Cr}$ can be used to calculate $\\Phi_{1,2}$."
   ]
  },
  {
   "cell_type": "code",
   "execution_count": 2,
   "metadata": {
    "execution": {
     "iopub.execute_input": "2025-03-24T08:49:19.261806Z",
     "iopub.status.busy": "2025-03-24T08:49:19.261630Z",
     "iopub.status.idle": "2025-03-24T08:49:19.269590Z",
     "shell.execute_reply": "2025-03-24T08:49:19.269058Z"
    }
   },
   "outputs": [
    {
     "name": "stdout",
     "output_type": "stream",
     "text": [
      "Solutions for R 10, L 0.1, C 1.5e-05\n",
      "  Initial: C voltage 5, L current 0\n",
      "  Complex omega (-50+814.9642118931769j):\n",
      "    dampering: attenuation 50.0 nepers/sec, tau 0.02 sec\n",
      "    oscillation: frequency 129.7055827657899 Hz, period 0.007709768374470863 sec\n",
      "    derivative rotation angle: 93.51083221160036 degrees\n",
      "    phase: (-9.496143919989107-0.061275581577500224j):\n",
      "      dampering: attenuation0 9.496143919989107 nepers/sec, tau0: 0.1053059018929809 sec\n",
      "      angle: -3.510832211600342 degrees\n",
      "  Complex omega (-50-814.9642118931769j):\n",
      "    dampering: attenuation 50.0 nepers/sec, tau 0.02 sec\n",
      "    oscillation: frequency -129.7055827657899 Hz, period -0.007709768374470863 sec\n",
      "    derivative rotation angle: -93.51083221160036 degrees\n",
      "    phase: (-9.496143919989107+0.061275581577500224j):\n",
      "      dampering: attenuation0 9.496143919989107 nepers/sec, tau0: 0.1053059018929809 sec\n",
      "      angle: 3.510832211600342 degrees\n"
     ]
    }
   ],
   "source": [
    "# Circuit parameters\n",
    "import cmath\n",
    "\n",
    "print(f'Solutions for R {resistance}, L {inductance}, C {capacitance}')\n",
    "\n",
    "def solve_quadratic(a: complex, b: complex, c: complex) -> list[complex]:\n",
    "    \"\"\"Calculate the two solutions of quadratic equation\"\"\"\n",
    "    sqrt = cmath.sqrt(b**2 - 4*a*c)\n",
    "    return [(-b + sq) / (2*a) for sq in (sqrt, -sqrt)]\n",
    "\n",
    "def calc_phases(q_c: float, i_l: float, omegas: list[complex], t:float = 0) -> list[complex]:\n",
    "    \"\"\"Calculate the initial Euler's phase\"\"\"\n",
    "    # In case of non-oscillating system (omega.imag==0),\n",
    "    # the capacitor's charge must be later adjusted\n",
    "    return [cmath.log(\n",
    "                complex(q_c, (omega.real * q_c - i_l) / omega.imag) if omega.imag else i_l / omega\n",
    "                ) - omega * t if omega.imag or i_l else -cmath.inf for omega in omegas]\n",
    "\n",
    "def adjust_phase(omega: complex, phase: complex, t:float) -> complex:\n",
    "    \"\"\"Adjust the Euler's phase to be closer to a time\"\"\"\n",
    "    pers = (t * abs(omega.imag) - phase.imag) // (2 * cmath.pi)\n",
    "    return phase + 2j * cmath.pi * pers\n",
    "\n",
    "omegas = solve_quadratic(inductance, resistance, 1/capacitance)\n",
    "phases = calc_phases(capacitance * capacitor_voltage0, inductor_current0, omegas)\n",
    "\n",
    "def print_parameters(capacitor_voltage, inductor_current, omegas, phases):\n",
    "    \"\"\"Print the circuit parameters in various formats\"\"\"\n",
    "    print(f'  Initial: C voltage {capacitor_voltage}, L current {inductor_current}')\n",
    "    for omega, phase in zip(omegas, phases):\n",
    "        print(f'  Complex omega {omega}:')\n",
    "        print(f'    dampering: attenuation {-omega.real} nepers/sec, tau {-1/omega.real} sec')\n",
    "        print(f'    oscillation: frequency {omega.imag/(2*cmath.pi)} Hz, period {2*cmath.pi/omega.imag if omega.imag else \"INF\"} sec')\n",
    "        print(f'    derivative rotation angle: {cmath.log(omega).imag * 180 / cmath.pi} degrees')\n",
    "        print(f'    phase: {phase}:')\n",
    "        print(f'      dampering: attenuation0 {-phase.real} nepers/sec, tau0: {-1/phase.real} sec')\n",
    "        print(f'      angle: {phase.imag * 180 / cmath.pi} degrees')\n",
    "print_parameters(capacitor_voltage0, inductor_current0, omegas, phases)\n"
   ]
  },
  {
   "cell_type": "markdown",
   "metadata": {},
   "source": [
    "### Voltage / current diagram"
   ]
  },
  {
   "cell_type": "code",
   "execution_count": 3,
   "metadata": {
    "execution": {
     "iopub.execute_input": "2025-03-24T08:49:19.306001Z",
     "iopub.status.busy": "2025-03-24T08:49:19.305708Z",
     "iopub.status.idle": "2025-03-24T08:49:20.379552Z",
     "shell.execute_reply": "2025-03-24T08:49:20.379006Z"
    }
   },
   "outputs": [
    {
     "data": {
      "application/vnd.plotly.v1+json": {
       "config": {
        "plotlyServerURL": "https://plot.ly"
       },
       "data": [
        {
         "name": "capacitor",
         "type": "scatter",
         "x": [
          0.0,
          0.0004625861024682518,
          0.0009251722049365036,
          0.0013877583074047553,
          0.0018503444098730071,
          0.0023129305123412588,
          0.0027755166148095106,
          0.003238102717277762,
          0.0037006888197460143,
          0.0041632749222142666,
          0.0046258610246825175,
          0.005088447127150769,
          0.005551033229619021,
          0.006013619332087273,
          0.006476205434555524,
          0.006938791537023776,
          0.0074013776394920286,
          0.00786396374196028,
          0.008326549844428533,
          0.008789135946896783,
          0.009251722049365035,
          0.009714308151833287,
          0.010176894254301539,
          0.01063948035676979,
          0.011102066459238042,
          0.011564652561706294,
          0.012027238664174546,
          0.012489824766642798,
          0.012952410869111048,
          0.0134149969715793,
          0.013877583074047552,
          0.014340169176515805,
          0.014802755278984057,
          0.015265341381452309,
          0.01572792748392056,
          0.016190513586388813,
          0.016653099688857066,
          0.017115685791325316,
          0.017578271893793566,
          0.01804085799626182,
          0.01850344409873007,
          0.018966030201198324,
          0.019428616303666574,
          0.019891202406134827,
          0.020353788508603077,
          0.02081637461107133,
          0.02127896071353958,
          0.021741546816007835,
          0.022204132918476085,
          0.022666719020944335
         ],
         "y": [
          5.000000000000002,
          4.652935632769733,
          3.680578306127143,
          2.2451449870440428,
          0.5653123367483515,
          -1.116460144651985,
          -2.56840610774915,
          -3.6008967829641025,
          -4.09065914965939,
          -3.994758246642796,
          -3.352880152117186,
          -2.2781300010197354,
          -0.9381318698150877,
          0.47052741345335175,
          1.7506890605569498,
          2.7318085014950593,
          3.2922462739724945,
          3.3738141532112835,
          2.9869227690794533,
          2.2060464415625924,
          1.1565677026367511,
          -0.0047965337342515,
          -1.1130005481018503,
          -2.017782789956715,
          -2.603697383647459,
          -2.8044439508958976,
          -2.6097794378458112,
          -2.0643951132833895,
          -1.2592766555599884,
          -0.31707735263215486,
          0.6262099798171169,
          1.4405901944642352,
          2.0197026401568325,
          2.294404861487846,
          2.2406151200177797,
          1.880592892136792,
          1.277777580142851,
          0.5261876494891167,
          -0.2639135516779851,
          -0.9819418691557112,
          -1.532240765404758,
          -1.846584029580343,
          -1.8923345386840695,
          -1.6753314983076202,
          -1.237346719687129,
          -0.6487058594922418,
          0.0026903220032527047,
          0.6242695308936097,
          1.1317517479031927,
          1.4603846755067165
         ]
        },
        {
         "name": "resistor",
         "type": "scatter",
         "x": [
          0.0,
          0.0004625861024682518,
          0.0009251722049365036,
          0.0013877583074047553,
          0.0018503444098730071,
          0.0023129305123412588,
          0.0027755166148095106,
          0.003238102717277762,
          0.0037006888197460143,
          0.0041632749222142666,
          0.0046258610246825175,
          0.005088447127150769,
          0.005551033229619021,
          0.006013619332087273,
          0.006476205434555524,
          0.006938791537023776,
          0.0074013776394920286,
          0.00786396374196028,
          0.008326549844428533,
          0.008789135946896783,
          0.009251722049365035,
          0.009714308151833287,
          0.010176894254301539,
          0.01063948035676979,
          0.011102066459238042,
          0.011564652561706294,
          0.012027238664174546,
          0.012489824766642798,
          0.012952410869111048,
          0.0134149969715793,
          0.013877583074047552,
          0.014340169176515805,
          0.014802755278984057,
          0.015265341381452309,
          0.01572792748392056,
          0.016190513586388813,
          0.016653099688857066,
          0.017115685791325316,
          0.017578271893793566,
          0.01804085799626182,
          0.01850344409873007,
          0.018966030201198324,
          0.019428616303666574,
          0.019891202406134827,
          0.020353788508603077,
          0.02081637461107133,
          0.02127896071353958,
          0.021741546816007835,
          0.022204132918476085,
          0.022666719020944335
         ],
         "y": [
          0.0,
          -0.22068932253495585,
          -0.40100052962169497,
          -0.5179194901468004,
          -0.5582052550770659,
          -0.5197723157573265,
          -0.4114736191434131,
          -0.251386525258708,
          -0.063905505494,
          0.12390397110605594,
          0.28615468198015553,
          0.40165057653491754,
          0.4565946504844324,
          0.4461551283361003,
          0.3747258090501716,
          0.25490374035373864,
          0.10538303903154433,
          -0.051896002782466366,
          -0.19491612533591296,
          -0.3046196479395472,
          -0.3674000410548339,
          -0.3767299238212214,
          -0.33374025420626185,
          -0.2467183346681773,
          -0.1296426623124109,
          -3.9898639947466563e-16,
          0.12378216712209365,
          0.22491670192072225,
          0.29049523623865603,
          0.3130910701918363,
          0.2915344653537576,
          0.23079094043199813,
          0.14099988401970492,
          0.03584388166231866,
          -0.06949634845207091,
          -0.16050095337995707,
          -0.22528130594743984,
          -0.2560988211124986,
          -0.25024341016467233,
          -0.210179505687065,
          -0.14297265053915656,
          -0.05910816526780844,
          0.0291078862157926,
          0.10932626972607323,
          0.17085774579761992,
          0.20607056453902695,
          0.21130359119637937,
          0.18719116741584205,
          0.13838154824705562,
          0.07271511602001642
         ]
        },
        {
         "name": "inductor",
         "type": "scatter",
         "x": [
          0.0,
          0.0004625861024682518,
          0.0009251722049365036,
          0.0013877583074047553,
          0.0018503444098730071,
          0.0023129305123412588,
          0.0027755166148095106,
          0.003238102717277762,
          0.0037006888197460143,
          0.0041632749222142666,
          0.0046258610246825175,
          0.005088447127150769,
          0.005551033229619021,
          0.006013619332087273,
          0.006476205434555524,
          0.006938791537023776,
          0.0074013776394920286,
          0.00786396374196028,
          0.008326549844428533,
          0.008789135946896783,
          0.009251722049365035,
          0.009714308151833287,
          0.010176894254301539,
          0.01063948035676979,
          0.011102066459238042,
          0.011564652561706294,
          0.012027238664174546,
          0.012489824766642798,
          0.012952410869111048,
          0.0134149969715793,
          0.013877583074047552,
          0.014340169176515805,
          0.014802755278984057,
          0.015265341381452309,
          0.01572792748392056,
          0.016190513586388813,
          0.016653099688857066,
          0.017115685791325316,
          0.017578271893793566,
          0.01804085799626182,
          0.01850344409873007,
          0.018966030201198324,
          0.019428616303666574,
          0.019891202406134827,
          0.020353788508603077,
          0.02081637461107133,
          0.02127896071353958,
          0.021741546816007835,
          0.022204132918476085,
          0.022666719020944335
         ],
         "y": [
          -5.0000000000000036,
          -4.432246310234778,
          -3.27957777650545,
          -1.7272254968972434,
          -0.007107081671285798,
          1.6362324604093121,
          2.9798797268925643,
          3.852283308222812,
          4.154564655153393,
          3.870854275536742,
          3.0667254701370315,
          1.8764794244848186,
          0.4815372193306556,
          -0.9166825417894522,
          -2.125414869607122,
          -2.986712241848799,
          -3.39762931300404,
          -3.321918150428819,
          -2.792006643743542,
          -1.9014267936230462,
          -0.7891676615819176,
          0.3815264575554729,
          1.4467408023081127,
          2.264501124624893,
          2.7333400459598707,
          2.804443950895899,
          2.485997270723719,
          1.8394784113626679,
          0.9687814193213328,
          0.003986282440318734,
          -0.9177444451708748,
          -1.671381134896234,
          -2.1607025241765383,
          -2.3302487431501655,
          -2.1711187715657094,
          -1.7200919387568356,
          -1.0524962741954116,
          -0.2700888283766184,
          0.5141569618426575,
          1.1921213748427764,
          1.6752134159439152,
          1.905692194848152,
          1.8632266524682777,
          1.5660052285815476,
          1.0664889738895098,
          0.4426352949532151,
          -0.21399391319963207,
          -0.811460698309452,
          -1.2701332961502487,
          -1.5330997915267335
         ]
        },
        {
         "marker": {
          "size": 10,
          "symbol": "x"
         },
         "mode": "markers",
         "name": "V<sub>C0</sub>",
         "type": "scatter",
         "x": [
          0.0
         ],
         "y": [
          5
         ]
        },
        {
         "line": {
          "dash": "dot"
         },
         "name": "V<sub>sum</sub>",
         "type": "scatter",
         "x": [
          0.0,
          0.0004625861024682518,
          0.0009251722049365036,
          0.0013877583074047553,
          0.0018503444098730071,
          0.0023129305123412588,
          0.0027755166148095106,
          0.003238102717277762,
          0.0037006888197460143,
          0.0041632749222142666,
          0.0046258610246825175,
          0.005088447127150769,
          0.005551033229619021,
          0.006013619332087273,
          0.006476205434555524,
          0.006938791537023776,
          0.0074013776394920286,
          0.00786396374196028,
          0.008326549844428533,
          0.008789135946896783,
          0.009251722049365035,
          0.009714308151833287,
          0.010176894254301539,
          0.01063948035676979,
          0.011102066459238042,
          0.011564652561706294,
          0.012027238664174546,
          0.012489824766642798,
          0.012952410869111048,
          0.0134149969715793,
          0.013877583074047552,
          0.014340169176515805,
          0.014802755278984057,
          0.015265341381452309,
          0.01572792748392056,
          0.016190513586388813,
          0.016653099688857066,
          0.017115685791325316,
          0.017578271893793566,
          0.01804085799626182,
          0.01850344409873007,
          0.018966030201198324,
          0.019428616303666574,
          0.019891202406134827,
          0.020353788508603077,
          0.02081637461107133,
          0.02127896071353958,
          0.021741546816007835,
          0.022204132918476085,
          0.022666719020944335
         ],
         "y": [
          -1.7763568394002505e-15,
          -1.4155343563970746e-15,
          -1.9984014443252818e-15,
          -9.992007221626409e-16,
          -2.0036056147532122e-16,
          5.551115123125783e-16,
          1.1657341758564144e-15,
          1.4988010832439613e-15,
          2.3175905639050143e-15,
          1.8318679906315083e-15,
          1.1657341758564144e-15,
          7.771561172376096e-16,
          2.7755575615628914e-16,
          -1.1102230246251565e-16,
          -5.551115123125783e-16,
          -1.1102230246251565e-15,
          -9.992007221626409e-16,
          -1.7208456881689926e-15,
          -1.4432899320127035e-15,
          -9.992007221626409e-16,
          -4.440892098500626e-16,
          -1.5612511283791264e-17,
          5.551115123125783e-16,
          7.494005416219807e-16,
          7.216449660063518e-16,
          9.332812300755222e-16,
          1.2073675392798577e-15,
          5.828670879282072e-16,
          4.440892098500626e-16,
          1.6653345369377348e-16,
          -3.3306690738754696e-16,
          -6.38378239159465e-16,
          -8.326672684688674e-16,
          -7.840950111415168e-16,
          -5.967448757360216e-16,
          -6.661338147750939e-16,
          -3.885780586188048e-16,
          -3.3306690738754696e-16,
          5.551115123125783e-17,
          1.1102230246251565e-16,
          5.273559366969494e-16,
          4.926614671774132e-16,
          7.424616477180734e-16,
          6.106226635438361e-16,
          6.661338147750939e-16,
          2.220446049250313e-16,
          6.071532165918825e-18,
          -2.498001805406602e-16,
          -4.440892098500626e-16,
          -5.967448757360216e-16
         ]
        },
        {
         "line": {
          "dash": "dash"
         },
         "name": "current",
         "type": "scatter",
         "x": [
          0.0,
          0.0004625861024682518,
          0.0009251722049365036,
          0.0013877583074047553,
          0.0018503444098730071,
          0.0023129305123412588,
          0.0027755166148095106,
          0.003238102717277762,
          0.0037006888197460143,
          0.0041632749222142666,
          0.0046258610246825175,
          0.005088447127150769,
          0.005551033229619021,
          0.006013619332087273,
          0.006476205434555524,
          0.006938791537023776,
          0.0074013776394920286,
          0.00786396374196028,
          0.008326549844428533,
          0.008789135946896783,
          0.009251722049365035,
          0.009714308151833287,
          0.010176894254301539,
          0.01063948035676979,
          0.011102066459238042,
          0.011564652561706294,
          0.012027238664174546,
          0.012489824766642798,
          0.012952410869111048,
          0.0134149969715793,
          0.013877583074047552,
          0.014340169176515805,
          0.014802755278984057,
          0.015265341381452309,
          0.01572792748392056,
          0.016190513586388813,
          0.016653099688857066,
          0.017115685791325316,
          0.017578271893793566,
          0.01804085799626182,
          0.01850344409873007,
          0.018966030201198324,
          0.019428616303666574,
          0.019891202406134827,
          0.020353788508603077,
          0.02081637461107133,
          0.02127896071353958,
          0.021741546816007835,
          0.022204132918476085,
          0.022666719020944335
         ],
         "y": [
          0.0,
          -0.022068932253495585,
          -0.040100052962169494,
          -0.05179194901468004,
          -0.05582052550770659,
          -0.051977231575732655,
          -0.04114736191434131,
          -0.025138652525870803,
          -0.0063905505493999995,
          0.012390397110605595,
          0.028615468198015553,
          0.04016505765349175,
          0.04565946504844324,
          0.04461551283361003,
          0.037472580905017164,
          0.025490374035373863,
          0.010538303903154434,
          -0.005189600278246637,
          -0.019491612533591295,
          -0.030461964793954723,
          -0.03674000410548339,
          -0.03767299238212214,
          -0.03337402542062619,
          -0.02467183346681773,
          -0.012964266231241089,
          -3.9898639947466563e-17,
          0.012378216712209365,
          0.022491670192072225,
          0.029049523623865606,
          0.03130910701918363,
          0.02915344653537576,
          0.023079094043199813,
          0.014099988401970492,
          0.003584388166231866,
          -0.006949634845207091,
          -0.016050095337995708,
          -0.022528130594743984,
          -0.025609882111249857,
          -0.025024341016467236,
          -0.0210179505687065,
          -0.014297265053915655,
          -0.005910816526780844,
          0.00291078862157926,
          0.010932626972607324,
          0.017085774579761993,
          0.020607056453902695,
          0.021130359119637936,
          0.018719116741584205,
          0.013838154824705563,
          0.007271511602001642
         ],
         "yaxis": "y2"
        },
        {
         "marker": {
          "size": 10,
          "symbol": "cross"
         },
         "mode": "markers",
         "name": "I<sub>L0</sub>",
         "type": "scatter",
         "x": [
          0.0
         ],
         "y": [
          0
         ],
         "yaxis": "y2"
        }
       ],
       "layout": {
        "annotations": [
         {
          "showarrow": false,
          "text": "tau",
          "x": 0.02,
          "xanchor": "left",
          "xref": "x",
          "y": 1,
          "yanchor": "top",
          "yref": "y domain"
         },
         {
          "showarrow": false,
          "text": "period",
          "x": 0.007634580310156781,
          "xanchor": "right",
          "xref": "x",
          "y": 1,
          "yanchor": "top",
          "yref": "y domain"
         }
        ],
        "margin": {
         "b": 8,
         "l": 8,
         "r": 8,
         "t": 8
        },
        "shapes": [
         {
          "line": {
           "dash": "dot"
          },
          "type": "line",
          "x0": 0.02,
          "x1": 0.02,
          "xref": "x",
          "y0": 0,
          "y1": 1,
          "yref": "y domain"
         },
         {
          "line": {
           "dash": "dot"
          },
          "type": "rect",
          "x0": -7.51880643140831e-05,
          "x1": 0.007634580310156781,
          "xref": "x",
          "y0": 0,
          "y1": 1,
          "yref": "y domain"
         }
        ],
        "template": {
         "data": {
          "bar": [
           {
            "error_x": {
             "color": "#2a3f5f"
            },
            "error_y": {
             "color": "#2a3f5f"
            },
            "marker": {
             "line": {
              "color": "#E5ECF6",
              "width": 0.5
             },
             "pattern": {
              "fillmode": "overlay",
              "size": 10,
              "solidity": 0.2
             }
            },
            "type": "bar"
           }
          ],
          "barpolar": [
           {
            "marker": {
             "line": {
              "color": "#E5ECF6",
              "width": 0.5
             },
             "pattern": {
              "fillmode": "overlay",
              "size": 10,
              "solidity": 0.2
             }
            },
            "type": "barpolar"
           }
          ],
          "carpet": [
           {
            "aaxis": {
             "endlinecolor": "#2a3f5f",
             "gridcolor": "white",
             "linecolor": "white",
             "minorgridcolor": "white",
             "startlinecolor": "#2a3f5f"
            },
            "baxis": {
             "endlinecolor": "#2a3f5f",
             "gridcolor": "white",
             "linecolor": "white",
             "minorgridcolor": "white",
             "startlinecolor": "#2a3f5f"
            },
            "type": "carpet"
           }
          ],
          "choropleth": [
           {
            "colorbar": {
             "outlinewidth": 0,
             "ticks": ""
            },
            "type": "choropleth"
           }
          ],
          "contour": [
           {
            "colorbar": {
             "outlinewidth": 0,
             "ticks": ""
            },
            "colorscale": [
             [
              0.0,
              "#0d0887"
             ],
             [
              0.1111111111111111,
              "#46039f"
             ],
             [
              0.2222222222222222,
              "#7201a8"
             ],
             [
              0.3333333333333333,
              "#9c179e"
             ],
             [
              0.4444444444444444,
              "#bd3786"
             ],
             [
              0.5555555555555556,
              "#d8576b"
             ],
             [
              0.6666666666666666,
              "#ed7953"
             ],
             [
              0.7777777777777778,
              "#fb9f3a"
             ],
             [
              0.8888888888888888,
              "#fdca26"
             ],
             [
              1.0,
              "#f0f921"
             ]
            ],
            "type": "contour"
           }
          ],
          "contourcarpet": [
           {
            "colorbar": {
             "outlinewidth": 0,
             "ticks": ""
            },
            "type": "contourcarpet"
           }
          ],
          "heatmap": [
           {
            "colorbar": {
             "outlinewidth": 0,
             "ticks": ""
            },
            "colorscale": [
             [
              0.0,
              "#0d0887"
             ],
             [
              0.1111111111111111,
              "#46039f"
             ],
             [
              0.2222222222222222,
              "#7201a8"
             ],
             [
              0.3333333333333333,
              "#9c179e"
             ],
             [
              0.4444444444444444,
              "#bd3786"
             ],
             [
              0.5555555555555556,
              "#d8576b"
             ],
             [
              0.6666666666666666,
              "#ed7953"
             ],
             [
              0.7777777777777778,
              "#fb9f3a"
             ],
             [
              0.8888888888888888,
              "#fdca26"
             ],
             [
              1.0,
              "#f0f921"
             ]
            ],
            "type": "heatmap"
           }
          ],
          "histogram": [
           {
            "marker": {
             "pattern": {
              "fillmode": "overlay",
              "size": 10,
              "solidity": 0.2
             }
            },
            "type": "histogram"
           }
          ],
          "histogram2d": [
           {
            "colorbar": {
             "outlinewidth": 0,
             "ticks": ""
            },
            "colorscale": [
             [
              0.0,
              "#0d0887"
             ],
             [
              0.1111111111111111,
              "#46039f"
             ],
             [
              0.2222222222222222,
              "#7201a8"
             ],
             [
              0.3333333333333333,
              "#9c179e"
             ],
             [
              0.4444444444444444,
              "#bd3786"
             ],
             [
              0.5555555555555556,
              "#d8576b"
             ],
             [
              0.6666666666666666,
              "#ed7953"
             ],
             [
              0.7777777777777778,
              "#fb9f3a"
             ],
             [
              0.8888888888888888,
              "#fdca26"
             ],
             [
              1.0,
              "#f0f921"
             ]
            ],
            "type": "histogram2d"
           }
          ],
          "histogram2dcontour": [
           {
            "colorbar": {
             "outlinewidth": 0,
             "ticks": ""
            },
            "colorscale": [
             [
              0.0,
              "#0d0887"
             ],
             [
              0.1111111111111111,
              "#46039f"
             ],
             [
              0.2222222222222222,
              "#7201a8"
             ],
             [
              0.3333333333333333,
              "#9c179e"
             ],
             [
              0.4444444444444444,
              "#bd3786"
             ],
             [
              0.5555555555555556,
              "#d8576b"
             ],
             [
              0.6666666666666666,
              "#ed7953"
             ],
             [
              0.7777777777777778,
              "#fb9f3a"
             ],
             [
              0.8888888888888888,
              "#fdca26"
             ],
             [
              1.0,
              "#f0f921"
             ]
            ],
            "type": "histogram2dcontour"
           }
          ],
          "mesh3d": [
           {
            "colorbar": {
             "outlinewidth": 0,
             "ticks": ""
            },
            "type": "mesh3d"
           }
          ],
          "parcoords": [
           {
            "line": {
             "colorbar": {
              "outlinewidth": 0,
              "ticks": ""
             }
            },
            "type": "parcoords"
           }
          ],
          "pie": [
           {
            "automargin": true,
            "type": "pie"
           }
          ],
          "scatter": [
           {
            "fillpattern": {
             "fillmode": "overlay",
             "size": 10,
             "solidity": 0.2
            },
            "type": "scatter"
           }
          ],
          "scatter3d": [
           {
            "line": {
             "colorbar": {
              "outlinewidth": 0,
              "ticks": ""
             }
            },
            "marker": {
             "colorbar": {
              "outlinewidth": 0,
              "ticks": ""
             }
            },
            "type": "scatter3d"
           }
          ],
          "scattercarpet": [
           {
            "marker": {
             "colorbar": {
              "outlinewidth": 0,
              "ticks": ""
             }
            },
            "type": "scattercarpet"
           }
          ],
          "scattergeo": [
           {
            "marker": {
             "colorbar": {
              "outlinewidth": 0,
              "ticks": ""
             }
            },
            "type": "scattergeo"
           }
          ],
          "scattergl": [
           {
            "marker": {
             "colorbar": {
              "outlinewidth": 0,
              "ticks": ""
             }
            },
            "type": "scattergl"
           }
          ],
          "scattermap": [
           {
            "marker": {
             "colorbar": {
              "outlinewidth": 0,
              "ticks": ""
             }
            },
            "type": "scattermap"
           }
          ],
          "scattermapbox": [
           {
            "marker": {
             "colorbar": {
              "outlinewidth": 0,
              "ticks": ""
             }
            },
            "type": "scattermapbox"
           }
          ],
          "scatterpolar": [
           {
            "marker": {
             "colorbar": {
              "outlinewidth": 0,
              "ticks": ""
             }
            },
            "type": "scatterpolar"
           }
          ],
          "scatterpolargl": [
           {
            "marker": {
             "colorbar": {
              "outlinewidth": 0,
              "ticks": ""
             }
            },
            "type": "scatterpolargl"
           }
          ],
          "scatterternary": [
           {
            "marker": {
             "colorbar": {
              "outlinewidth": 0,
              "ticks": ""
             }
            },
            "type": "scatterternary"
           }
          ],
          "surface": [
           {
            "colorbar": {
             "outlinewidth": 0,
             "ticks": ""
            },
            "colorscale": [
             [
              0.0,
              "#0d0887"
             ],
             [
              0.1111111111111111,
              "#46039f"
             ],
             [
              0.2222222222222222,
              "#7201a8"
             ],
             [
              0.3333333333333333,
              "#9c179e"
             ],
             [
              0.4444444444444444,
              "#bd3786"
             ],
             [
              0.5555555555555556,
              "#d8576b"
             ],
             [
              0.6666666666666666,
              "#ed7953"
             ],
             [
              0.7777777777777778,
              "#fb9f3a"
             ],
             [
              0.8888888888888888,
              "#fdca26"
             ],
             [
              1.0,
              "#f0f921"
             ]
            ],
            "type": "surface"
           }
          ],
          "table": [
           {
            "cells": {
             "fill": {
              "color": "#EBF0F8"
             },
             "line": {
              "color": "white"
             }
            },
            "header": {
             "fill": {
              "color": "#C8D4E3"
             },
             "line": {
              "color": "white"
             }
            },
            "type": "table"
           }
          ]
         },
         "layout": {
          "annotationdefaults": {
           "arrowcolor": "#2a3f5f",
           "arrowhead": 0,
           "arrowwidth": 1
          },
          "autotypenumbers": "strict",
          "coloraxis": {
           "colorbar": {
            "outlinewidth": 0,
            "ticks": ""
           }
          },
          "colorscale": {
           "diverging": [
            [
             0,
             "#8e0152"
            ],
            [
             0.1,
             "#c51b7d"
            ],
            [
             0.2,
             "#de77ae"
            ],
            [
             0.3,
             "#f1b6da"
            ],
            [
             0.4,
             "#fde0ef"
            ],
            [
             0.5,
             "#f7f7f7"
            ],
            [
             0.6,
             "#e6f5d0"
            ],
            [
             0.7,
             "#b8e186"
            ],
            [
             0.8,
             "#7fbc41"
            ],
            [
             0.9,
             "#4d9221"
            ],
            [
             1,
             "#276419"
            ]
           ],
           "sequential": [
            [
             0.0,
             "#0d0887"
            ],
            [
             0.1111111111111111,
             "#46039f"
            ],
            [
             0.2222222222222222,
             "#7201a8"
            ],
            [
             0.3333333333333333,
             "#9c179e"
            ],
            [
             0.4444444444444444,
             "#bd3786"
            ],
            [
             0.5555555555555556,
             "#d8576b"
            ],
            [
             0.6666666666666666,
             "#ed7953"
            ],
            [
             0.7777777777777778,
             "#fb9f3a"
            ],
            [
             0.8888888888888888,
             "#fdca26"
            ],
            [
             1.0,
             "#f0f921"
            ]
           ],
           "sequentialminus": [
            [
             0.0,
             "#0d0887"
            ],
            [
             0.1111111111111111,
             "#46039f"
            ],
            [
             0.2222222222222222,
             "#7201a8"
            ],
            [
             0.3333333333333333,
             "#9c179e"
            ],
            [
             0.4444444444444444,
             "#bd3786"
            ],
            [
             0.5555555555555556,
             "#d8576b"
            ],
            [
             0.6666666666666666,
             "#ed7953"
            ],
            [
             0.7777777777777778,
             "#fb9f3a"
            ],
            [
             0.8888888888888888,
             "#fdca26"
            ],
            [
             1.0,
             "#f0f921"
            ]
           ]
          },
          "colorway": [
           "#636efa",
           "#EF553B",
           "#00cc96",
           "#ab63fa",
           "#FFA15A",
           "#19d3f3",
           "#FF6692",
           "#B6E880",
           "#FF97FF",
           "#FECB52"
          ],
          "font": {
           "color": "#2a3f5f"
          },
          "geo": {
           "bgcolor": "white",
           "lakecolor": "white",
           "landcolor": "#E5ECF6",
           "showlakes": true,
           "showland": true,
           "subunitcolor": "white"
          },
          "hoverlabel": {
           "align": "left"
          },
          "hovermode": "closest",
          "mapbox": {
           "style": "light"
          },
          "paper_bgcolor": "white",
          "plot_bgcolor": "#E5ECF6",
          "polar": {
           "angularaxis": {
            "gridcolor": "white",
            "linecolor": "white",
            "ticks": ""
           },
           "bgcolor": "#E5ECF6",
           "radialaxis": {
            "gridcolor": "white",
            "linecolor": "white",
            "ticks": ""
           }
          },
          "scene": {
           "xaxis": {
            "backgroundcolor": "#E5ECF6",
            "gridcolor": "white",
            "gridwidth": 2,
            "linecolor": "white",
            "showbackground": true,
            "ticks": "",
            "zerolinecolor": "white"
           },
           "yaxis": {
            "backgroundcolor": "#E5ECF6",
            "gridcolor": "white",
            "gridwidth": 2,
            "linecolor": "white",
            "showbackground": true,
            "ticks": "",
            "zerolinecolor": "white"
           },
           "zaxis": {
            "backgroundcolor": "#E5ECF6",
            "gridcolor": "white",
            "gridwidth": 2,
            "linecolor": "white",
            "showbackground": true,
            "ticks": "",
            "zerolinecolor": "white"
           }
          },
          "shapedefaults": {
           "line": {
            "color": "#2a3f5f"
           }
          },
          "ternary": {
           "aaxis": {
            "gridcolor": "white",
            "linecolor": "white",
            "ticks": ""
           },
           "baxis": {
            "gridcolor": "white",
            "linecolor": "white",
            "ticks": ""
           },
           "bgcolor": "#E5ECF6",
           "caxis": {
            "gridcolor": "white",
            "linecolor": "white",
            "ticks": ""
           }
          },
          "title": {
           "x": 0.05
          },
          "xaxis": {
           "automargin": true,
           "gridcolor": "white",
           "linecolor": "white",
           "ticks": "",
           "title": {
            "standoff": 15
           },
           "zerolinecolor": "white",
           "zerolinewidth": 2
          },
          "yaxis": {
           "automargin": true,
           "gridcolor": "white",
           "linecolor": "white",
           "ticks": "",
           "title": {
            "standoff": 15
           },
           "zerolinecolor": "white",
           "zerolinewidth": 2
          }
         }
        },
        "yaxis": {
         "title": {
          "text": "Voltage"
         }
        },
        "yaxis2": {
         "overlaying": "y",
         "side": "right",
         "title": {
          "text": "Current"
         }
        }
       }
      },
      "image/png": "[encoded data removed]"
     },
     "metadata": {},
     "output_type": "display_data"
    }
   ],
   "source": [
    "# Voltage diagrams\n",
    "import plotly.graph_objects as go\n",
    "\n",
    "# Default plotly figure parameters\n",
    "DEF_FIGURE={'layout': {'margin': {'b': 8, 'l': 8, 'r': 8, 't': 8}}}\n",
    "\n",
    "def calc_poly(coefs: list[complex], t: float) -> complex:\n",
    "    \"\"\"Polynomial for the Euler's formula exponent\"\"\"\n",
    "    return sum(c * t ** i for i, c in enumerate(coefs))\n",
    "\n",
    "def calc_euler_deriv(euler_omega: complex, euler_phi: complex, t: float, lvl: int=0) -> complex:\n",
    "    \"\"\"Euler formula from complex frequency and phase\"\"\"\n",
    "    return euler_omega ** lvl * cmath.exp(calc_poly([euler_phi, euler_omega], t))\n",
    "\n",
    "# Use the first omega/phase solution only\n",
    "omega, phase = omegas[0], phases[0]\n",
    "\n",
    "# Select time range: 'pi' tau-s or 1-3 oscillation periods\n",
    "per = cmath.pi / abs(omega.real) if omega.real else 0\n",
    "if omega.imag:\n",
    "    per = max(per, 2*cmath.pi / abs(omega.imag))\n",
    "    per = min(per, 6*cmath.pi / abs(omega.imag))\n",
    "t_range = [1 * per * t / 50 for t in range(50)]\n",
    "\n",
    "# Obtain first 3 derivatives\n",
    "deriv_vals = []\n",
    "for lvl in range(3):\n",
    "    deriv_vals.append([calc_euler_deriv(omega, phase, t, lvl) for t in t_range])\n",
    "\n",
    "# Figure with canvas\n",
    "fig = go.Figure(**DEF_FIGURE)\n",
    "def fig_canvas(omega, phase, base_t=None):\n",
    "    \"\"\"Figure canvas with tau and oscillation period\"\"\"\n",
    "    if base_t is not None:\n",
    "        phase = adjust_phase(omega, phase, base_t)\n",
    "        fig.add_vline(base_t, line_dash='dot', annotation_text='base')\n",
    "    else:\n",
    "        base_t = 0\n",
    "    if omega.real:\n",
    "        fig.add_vline(1 / abs(omega.real) + base_t, line_dash='dot', annotation_text='tau')\n",
    "    if omega.imag:\n",
    "        per = 1 / abs(omega.imag)\n",
    "        fig.add_vrect(phase.imag * per, (phase.imag + 2*cmath.pi) * per, line_dash='dot', annotation_text='period')\n",
    "fig_canvas(omega, phase)\n",
    "\n",
    "# Voltages\n",
    "voltages = {\n",
    "    'capacitor': [v.real / capacitance for v in deriv_vals[0]],\n",
    "    'resistor': [v.real * resistance for v in deriv_vals[1]],\n",
    "    'inductor': [v.real * inductance for v in deriv_vals[2]],\n",
    "}\n",
    "for n, vals in voltages.items():\n",
    "    fig.add_scatter(x=t_range, y=vals, name=n)\n",
    "fig.add_scatter(x=t_range[:1], y=[capacitor_voltage0], name='V<sub>C0</sub>',\n",
    "        mode='markers', marker_size=10, marker_symbol='x')\n",
    "# Sum of voltages, must be zero according to Kirchhoff's law\n",
    "v_sum = [sum(vals) for vals in zip(*voltages.values())]\n",
    "fig.add_scatter(x=t_range, y=v_sum, name='V<sub>sum</sub>', line_dash='dot')\n",
    "# Current\n",
    "current = [v.real for v in deriv_vals[1]]\n",
    "fig.add_scatter(x=t_range, y=current, name='current', yaxis='y2', line_dash='dash')\n",
    "fig.add_scatter(x=t_range[:1], y=[inductor_current0], name='I<sub>L0</sub>', yaxis='y2',\n",
    "        mode='markers', marker_size=10, marker_symbol='cross')\n",
    "\n",
    "fig.update_layout(\n",
    "        yaxis=dict(title='Voltage',\n",
    "        ),\n",
    "        yaxis2=dict(title='Current', overlaying='y', side='right'),\n",
    "    )\n",
    "fig.show()"
   ]
  },
  {
   "cell_type": "markdown",
   "metadata": {},
   "source": [
    "### Euler's function diagram"
   ]
  },
  {
   "cell_type": "code",
   "execution_count": 4,
   "metadata": {
    "execution": {
     "iopub.execute_input": "2025-03-24T08:49:20.382571Z",
     "iopub.status.busy": "2025-03-24T08:49:20.382393Z",
     "iopub.status.idle": "2025-03-24T08:49:20.543719Z",
     "shell.execute_reply": "2025-03-24T08:49:20.543188Z"
    }
   },
   "outputs": [
    {
     "data": {
      "application/vnd.plotly.v1+json": {
       "config": {
        "plotlyServerURL": "https://plot.ly"
       },
       "data": [
        {
         "name": "exponent/real",
         "type": "scatter",
         "x": [
          0.0,
          0.0004625861024682518,
          0.0009251722049365036,
          0.0013877583074047553,
          0.0018503444098730071,
          0.0023129305123412588,
          0.0027755166148095106,
          0.003238102717277762,
          0.0037006888197460143,
          0.0041632749222142666,
          0.0046258610246825175,
          0.005088447127150769,
          0.005551033229619021,
          0.006013619332087273,
          0.006476205434555524,
          0.006938791537023776,
          0.0074013776394920286,
          0.00786396374196028,
          0.008326549844428533,
          0.008789135946896783,
          0.009251722049365035,
          0.009714308151833287,
          0.010176894254301539,
          0.01063948035676979,
          0.011102066459238042,
          0.011564652561706294,
          0.012027238664174546,
          0.012489824766642798,
          0.012952410869111048,
          0.0134149969715793,
          0.013877583074047552,
          0.014340169176515805,
          0.014802755278984057,
          0.015265341381452309,
          0.01572792748392056,
          0.016190513586388813,
          0.016653099688857066,
          0.017115685791325316,
          0.017578271893793566,
          0.01804085799626182,
          0.01850344409873007,
          0.018966030201198324,
          0.019428616303666574,
          0.019891202406134827,
          0.020353788508603077,
          0.02081637461107133,
          0.02127896071353958,
          0.021741546816007835,
          0.022204132918476085,
          0.022666719020944335
         ],
         "y": [
          -9.496143919989107,
          -9.519273225112519,
          -9.542402530235933,
          -9.565531835359344,
          -9.588661140482758,
          -9.61179044560617,
          -9.634919750729583,
          -9.658049055852995,
          -9.681178360976407,
          -9.70430766609982,
          -9.727436971223232,
          -9.750566276346646,
          -9.773695581470058,
          -9.796824886593472,
          -9.819954191716883,
          -9.843083496840295,
          -9.866212801963709,
          -9.88934210708712,
          -9.912471412210534,
          -9.935600717333946,
          -9.95873002245736,
          -9.981859327580771,
          -10.004988632704183,
          -10.028117937827597,
          -10.051247242951009,
          -10.074376548074422,
          -10.097505853197834,
          -10.120635158321248,
          -10.14376446344466,
          -10.166893768568071,
          -10.190023073691485,
          -10.213152378814897,
          -10.23628168393831,
          -10.259410989061722,
          -10.282540294185136,
          -10.305669599308548,
          -10.328798904431961,
          -10.351928209555373,
          -10.375057514678785,
          -10.398186819802198,
          -10.42131612492561,
          -10.444445430049024,
          -10.467574735172436,
          -10.49070404029585,
          -10.513833345419261,
          -10.536962650542673,
          -10.560091955666087,
          -10.583221260789498,
          -10.606350565912912,
          -10.629479871036324
         ]
        },
        {
         "name": "exponent/imag",
         "type": "scatter",
         "x": [
          0.0,
          0.0004625861024682518,
          0.0009251722049365036,
          0.0013877583074047553,
          0.0018503444098730071,
          0.0023129305123412588,
          0.0027755166148095106,
          0.003238102717277762,
          0.0037006888197460143,
          0.0041632749222142666,
          0.0046258610246825175,
          0.005088447127150769,
          0.005551033229619021,
          0.006013619332087273,
          0.006476205434555524,
          0.006938791537023776,
          0.0074013776394920286,
          0.00786396374196028,
          0.008326549844428533,
          0.008789135946896783,
          0.009251722049365035,
          0.009714308151833287,
          0.010176894254301539,
          0.01063948035676979,
          0.011102066459238042,
          0.011564652561706294,
          0.012027238664174546,
          0.012489824766642798,
          0.012952410869111048,
          0.0134149969715793,
          0.013877583074047552,
          0.014340169176515805,
          0.014802755278984057,
          0.015265341381452309,
          0.01572792748392056,
          0.016190513586388813,
          0.016653099688857066,
          0.017115685791325316,
          0.017578271893793566,
          0.01804085799626182,
          0.01850344409873007,
          0.018966030201198324,
          0.019428616303666574,
          0.019891202406134827,
          0.020353788508603077,
          0.02081637461107133,
          0.02127896071353958,
          0.021741546816007835,
          0.022204132918476085,
          0.022666719020944335
         ],
         "y": [
          -0.061275581577500224,
          0.3157155368532749,
          0.69270665528405,
          1.0696977737148254,
          1.4466888921456005,
          1.8236800105763755,
          2.200671129007151,
          2.577662247437926,
          2.954653365868701,
          -2.95154082288011,
          -2.5745497044493355,
          -2.1975585860185602,
          -1.8205674675877843,
          -1.4435763491570095,
          -1.0665852307262347,
          -0.6895941122954599,
          -0.31260299386468415,
          0.06438812456609064,
          0.44137924299686726,
          0.8183703614276411,
          1.195361479858416,
          1.5723525982891917,
          1.9493437167199656,
          2.3263348351507402,
          2.703325953581517,
          3.0803170720122917,
          -2.8258771167365198,
          -2.448885998305745,
          -2.07189487987497,
          -1.6949037614441953,
          -1.3179126430134205,
          -0.940921524582644,
          -0.5639304061518692,
          -0.18693928772109253,
          0.1900518307096805,
          0.5670429491404572,
          0.9440340675712338,
          1.3210251860020086,
          1.6980163044327816,
          2.075007422863558,
          2.4519985412943313,
          2.828989659725108,
          -3.077204529023704,
          -2.7002134105929274,
          -2.3232222921621544,
          -1.9462311737313776,
          -1.5692400553006045,
          -1.1922489368698281,
          -0.8152578184390513,
          -0.43826670000827833
         ]
        },
        {
         "line": {
          "dash": "dash"
         },
         "name": "function/real",
         "type": "scatter",
         "x": [
          0.0,
          0.0004625861024682518,
          0.0009251722049365036,
          0.0013877583074047553,
          0.0018503444098730071,
          0.0023129305123412588,
          0.0027755166148095106,
          0.003238102717277762,
          0.0037006888197460143,
          0.0041632749222142666,
          0.0046258610246825175,
          0.005088447127150769,
          0.005551033229619021,
          0.006013619332087273,
          0.006476205434555524,
          0.006938791537023776,
          0.0074013776394920286,
          0.00786396374196028,
          0.008326549844428533,
          0.008789135946896783,
          0.009251722049365035,
          0.009714308151833287,
          0.010176894254301539,
          0.01063948035676979,
          0.011102066459238042,
          0.011564652561706294,
          0.012027238664174546,
          0.012489824766642798,
          0.012952410869111048,
          0.0134149969715793,
          0.013877583074047552,
          0.014340169176515805,
          0.014802755278984057,
          0.015265341381452309,
          0.01572792748392056,
          0.016190513586388813,
          0.016653099688857066,
          0.017115685791325316,
          0.017578271893793566,
          0.01804085799626182,
          0.01850344409873007,
          0.018966030201198324,
          0.019428616303666574,
          0.019891202406134827,
          0.020353788508603077,
          0.02081637461107133,
          0.02127896071353958,
          0.021741546816007835,
          0.022204132918476085,
          0.022666719020944335
         ],
         "y": [
          7.500000000000003e-05,
          6.979403449154599e-05,
          5.5208674591907146e-05,
          3.3677174805660645e-05,
          8.479685051225271e-06,
          -1.6746902169779778e-05,
          -3.852609161623725e-05,
          -5.401345174446154e-05,
          -6.135988724489086e-05,
          -5.992137369964194e-05,
          -5.0293202281757785e-05,
          -3.417195001529603e-05,
          -1.4071978047226315e-05,
          7.057911201800277e-06,
          2.626033590835425e-05,
          4.097712752242589e-05,
          4.938369410958742e-05,
          5.060721229816926e-05,
          4.48038415361918e-05,
          3.309069662343889e-05,
          1.7348515539551266e-05,
          -7.19480060137725e-08,
          -1.6695008221527756e-05,
          -3.0266741849350726e-05,
          -3.905546075471189e-05,
          -4.2066659263438464e-05,
          -3.914669156768717e-05,
          -3.0965926699250844e-05,
          -1.8889149833399826e-05,
          -4.756160289482323e-06,
          9.393149697256754e-06,
          2.1608852916963528e-05,
          3.029553960235249e-05,
          3.441607292231769e-05,
          3.3609226800266694e-05,
          2.820889338205188e-05,
          1.9166663702142767e-05,
          7.892814742336751e-06,
          -3.958703275169776e-06,
          -1.4729128037335668e-05,
          -2.298361148107137e-05,
          -2.7698760443705145e-05,
          -2.8385018080261043e-05,
          -2.5129972474614304e-05,
          -1.8560200795306938e-05,
          -9.730587892383627e-06,
          4.035483004879057e-08,
          9.364042963404146e-06,
          1.697627621854789e-05,
          2.190577013260075e-05
         ],
         "yaxis": "y2"
        },
        {
         "line": {
          "dash": "dot"
         },
         "name": "function/imag",
         "type": "scatter",
         "visible": "legendonly",
         "x": [
          0.0,
          0.0004625861024682518,
          0.0009251722049365036,
          0.0013877583074047553,
          0.0018503444098730071,
          0.0023129305123412588,
          0.0027755166148095106,
          0.003238102717277762,
          0.0037006888197460143,
          0.0041632749222142666,
          0.0046258610246825175,
          0.005088447127150769,
          0.005551033229619021,
          0.006013619332087273,
          0.006476205434555524,
          0.006938791537023776,
          0.0074013776394920286,
          0.00786396374196028,
          0.008326549844428533,
          0.008789135946896783,
          0.009251722049365035,
          0.009714308151833287,
          0.010176894254301539,
          0.01063948035676979,
          0.011102066459238042,
          0.011564652561706294,
          0.012027238664174546,
          0.012489824766642798,
          0.012952410869111048,
          0.0134149969715793,
          0.013877583074047552,
          0.014340169176515805,
          0.014802755278984057,
          0.015265341381452309,
          0.01572792748392056,
          0.016190513586388813,
          0.016653099688857066,
          0.017115685791325316,
          0.017578271893793566,
          0.01804085799626182,
          0.01850344409873007,
          0.018966030201198324,
          0.019428616303666574,
          0.019891202406134827,
          0.020353788508603077,
          0.02081637461107133,
          0.02127896071353958,
          0.021741546816007835,
          0.022204132918476085,
          0.022666719020944335
         ],
         "y": [
          -4.6014290508397695e-06,
          2.279760295947032e-05,
          4.581749564908318e-05,
          6.148501927218987e-05,
          6.79742011326585e-05,
          6.480600732335524e-05,
          5.285344542319503e-05,
          3.4160181154976875e-05,
          1.160608622269703e-05,
          -1.1527289528211674e-05,
          -3.202693775140752e-05,
          -4.718791278379192e-05,
          -5.516299426406543e-05,
          -5.5178384200746195e-05,
          -4.759178027012403e-05,
          -3.379195062752635e-05,
          -1.5960809589929316e-05,
          3.263014037341237e-06,
          2.1168316602156477e-05,
          3.534809202954151e-05,
          4.401736641314981e-05,
          4.623097460304351e-05,
          4.197580130817642e-05,
          3.213045453671718e-05,
          1.830391942527651e-05,
          2.5808899734208967e-06,
          -1.278691994292253e-05,
          -2.569851970365403e-05,
          -3.448625807372207e-05,
          -3.812596743669309e-05,
          -3.6348963043939786e-05,
          -2.9644905060217238e-05,
          -1.9160062680316635e-05,
          -6.509723660163791e-06,
          6.465527477523669e-06,
          1.796355036853083e-05,
          2.6467171312381692e-05,
          3.0940305115432674e-05,
          3.094893715839854e-05,
          2.669369605818321e-05,
          1.8953526305267867e-05,
          8.952239181175733e-06,
          -1.8301879957419704e-06,
          -1.187307148911335e-05,
          -1.982634857359179e-05,
          -2.468884739434528e-05,
          -2.5930435413905446e-05,
          -2.354375641254469e-05,
          -1.8021611773006398e-05,
          -1.0266463221980569e-05
         ],
         "yaxis": "y2"
        },
        {
         "line": {
          "dash": "dash"
         },
         "name": "derivative/real",
         "type": "scatter",
         "x": [
          0.0,
          0.0004625861024682518,
          0.0009251722049365036,
          0.0013877583074047553,
          0.0018503444098730071,
          0.0023129305123412588,
          0.0027755166148095106,
          0.003238102717277762,
          0.0037006888197460143,
          0.0041632749222142666,
          0.0046258610246825175,
          0.005088447127150769,
          0.005551033229619021,
          0.006013619332087273,
          0.006476205434555524,
          0.006938791537023776,
          0.0074013776394920286,
          0.00786396374196028,
          0.008326549844428533,
          0.008789135946896783,
          0.009251722049365035,
          0.009714308151833287,
          0.010176894254301539,
          0.01063948035676979,
          0.011102066459238042,
          0.011564652561706294,
          0.012027238664174546,
          0.012489824766642798,
          0.012952410869111048,
          0.0134149969715793,
          0.013877583074047552,
          0.014340169176515805,
          0.014802755278984057,
          0.015265341381452309,
          0.01572792748392056,
          0.016190513586388813,
          0.016653099688857066,
          0.017115685791325316,
          0.017578271893793566,
          0.01804085799626182,
          0.01850344409873007,
          0.018966030201198324,
          0.019428616303666574,
          0.019891202406134827,
          0.020353788508603077,
          0.02081637461107133,
          0.02127896071353958,
          0.021741546816007835,
          0.022204132918476085,
          0.022666719020944335
         ],
         "y": [
          0.0,
          -0.022068932253495585,
          -0.040100052962169494,
          -0.05179194901468004,
          -0.05582052550770659,
          -0.051977231575732655,
          -0.04114736191434131,
          -0.025138652525870803,
          -0.0063905505493999995,
          0.012390397110605595,
          0.028615468198015553,
          0.04016505765349175,
          0.04565946504844324,
          0.04461551283361003,
          0.037472580905017164,
          0.025490374035373863,
          0.010538303903154434,
          -0.005189600278246637,
          -0.019491612533591295,
          -0.030461964793954723,
          -0.03674000410548339,
          -0.03767299238212214,
          -0.03337402542062619,
          -0.02467183346681773,
          -0.012964266231241089,
          -3.9898639947466563e-17,
          0.012378216712209365,
          0.022491670192072225,
          0.029049523623865606,
          0.03130910701918363,
          0.02915344653537576,
          0.023079094043199813,
          0.014099988401970492,
          0.003584388166231866,
          -0.006949634845207091,
          -0.016050095337995708,
          -0.022528130594743984,
          -0.025609882111249857,
          -0.025024341016467236,
          -0.0210179505687065,
          -0.014297265053915655,
          -0.005910816526780844,
          0.00291078862157926,
          0.010932626972607324,
          0.017085774579761993,
          0.020607056453902695,
          0.021130359119637936,
          0.018719116741584205,
          0.013838154824705563,
          0.007271511602001642
         ],
         "yaxis": "y3"
        },
        {
         "line": {
          "dash": "dot"
         },
         "name": "derivative/imag",
         "type": "scatter",
         "visible": "legendonly",
         "x": [
          0.0,
          0.0004625861024682518,
          0.0009251722049365036,
          0.0013877583074047553,
          0.0018503444098730071,
          0.0023129305123412588,
          0.0027755166148095106,
          0.003238102717277762,
          0.0037006888197460143,
          0.0041632749222142666,
          0.0046258610246825175,
          0.005088447127150769,
          0.005551033229619021,
          0.006013619332087273,
          0.006476205434555524,
          0.006938791537023776,
          0.0074013776394920286,
          0.00786396374196028,
          0.008326549844428533,
          0.008789135946896783,
          0.009251722049365035,
          0.009714308151833287,
          0.010176894254301539,
          0.01063948035676979,
          0.011102066459238042,
          0.011564652561706294,
          0.012027238664174546,
          0.012489824766642798,
          0.012952410869111048,
          0.0134149969715793,
          0.013877583074047552,
          0.014340169176515805,
          0.014802755278984057,
          0.015265341381452309,
          0.01572792748392056,
          0.016190513586388813,
          0.016653099688857066,
          0.017115685791325316,
          0.017578271893793566,
          0.01804085799626182,
          0.01850344409873007,
          0.018966030201198324,
          0.019428616303666574,
          0.019891202406134827,
          0.020353788508603077,
          0.02081637461107133,
          0.02127896071353958,
          0.021741546816007835,
          0.022204132918476085,
          0.022666719020944335
         ],
         "y": [
          0.06135238734453028,
          0.05573976016627446,
          0.0427022191960063,
          0.02437144126067449,
          0.0035119297882412314,
          -0.016888426294614473,
          -0.03404005816251087,
          -0.04572703919030408,
          -0.050586416461521524,
          -0.04825741061627465,
          -0.039385813073566485,
          -0.02548952067387917,
          -0.008710008785832607,
          0.008510864250224497,
          0.023780822971108215,
          0.035084489968336345,
          0.04104398382989009,
          0.04107991618482113,
          0.03545511157722151,
          0.025200328893240007,
          0.011937550973549439,
          -0.002370183780170475,
          -0.015704624283216298,
          -0.026272834144666208,
          -0.0327439987653525,
          -0.03441186631227798,
          -0.031263806644539316,
          -0.023951196062814144,
          -0.013669668203622719,
          -0.001969802050120931,
          0.009472528992416473,
          0.019092687040399618,
          0.025647783689925558,
          0.028373353928602928,
          0.0270670406577422,
          0.022091061045056024,
          0.014296786413019255,
          0.004885346290335685,
          -0.0047736483526876015,
          -0.013338397025730118,
          -0.019678497132393696,
          -0.023021110434480855,
          -0.023041264489566417,
          -0.019886374638215607,
          -0.014134581985046843,
          -0.006695638523256447,
          0.001329409512962068,
          0.008808547714431743,
          0.014736138157980081,
          0.01836574185312709
         ],
         "yaxis": "y3"
        }
       ],
       "layout": {
        "annotations": [
         {
          "showarrow": false,
          "text": "tau",
          "x": 0.02,
          "xanchor": "left",
          "xref": "x",
          "y": 1,
          "yanchor": "top",
          "yref": "y domain"
         },
         {
          "showarrow": false,
          "text": "period",
          "x": 0.007634580310156781,
          "xanchor": "right",
          "xref": "x",
          "y": 1,
          "yanchor": "top",
          "yref": "y domain"
         }
        ],
        "margin": {
         "b": 8,
         "l": 8,
         "r": 8,
         "t": 8
        },
        "shapes": [
         {
          "line": {
           "dash": "dot"
          },
          "type": "line",
          "x0": 0.02,
          "x1": 0.02,
          "xref": "x",
          "y0": 0,
          "y1": 1,
          "yref": "y domain"
         },
         {
          "line": {
           "dash": "dot"
          },
          "type": "rect",
          "x0": -7.51880643140831e-05,
          "x1": 0.007634580310156781,
          "xref": "x",
          "y0": 0,
          "y1": 1,
          "yref": "y domain"
         }
        ],
        "template": {
         "data": {
          "bar": [
           {
            "error_x": {
             "color": "#2a3f5f"
            },
            "error_y": {
             "color": "#2a3f5f"
            },
            "marker": {
             "line": {
              "color": "#E5ECF6",
              "width": 0.5
             },
             "pattern": {
              "fillmode": "overlay",
              "size": 10,
              "solidity": 0.2
             }
            },
            "type": "bar"
           }
          ],
          "barpolar": [
           {
            "marker": {
             "line": {
              "color": "#E5ECF6",
              "width": 0.5
             },
             "pattern": {
              "fillmode": "overlay",
              "size": 10,
              "solidity": 0.2
             }
            },
            "type": "barpolar"
           }
          ],
          "carpet": [
           {
            "aaxis": {
             "endlinecolor": "#2a3f5f",
             "gridcolor": "white",
             "linecolor": "white",
             "minorgridcolor": "white",
             "startlinecolor": "#2a3f5f"
            },
            "baxis": {
             "endlinecolor": "#2a3f5f",
             "gridcolor": "white",
             "linecolor": "white",
             "minorgridcolor": "white",
             "startlinecolor": "#2a3f5f"
            },
            "type": "carpet"
           }
          ],
          "choropleth": [
           {
            "colorbar": {
             "outlinewidth": 0,
             "ticks": ""
            },
            "type": "choropleth"
           }
          ],
          "contour": [
           {
            "colorbar": {
             "outlinewidth": 0,
             "ticks": ""
            },
            "colorscale": [
             [
              0.0,
              "#0d0887"
             ],
             [
              0.1111111111111111,
              "#46039f"
             ],
             [
              0.2222222222222222,
              "#7201a8"
             ],
             [
              0.3333333333333333,
              "#9c179e"
             ],
             [
              0.4444444444444444,
              "#bd3786"
             ],
             [
              0.5555555555555556,
              "#d8576b"
             ],
             [
              0.6666666666666666,
              "#ed7953"
             ],
             [
              0.7777777777777778,
              "#fb9f3a"
             ],
             [
              0.8888888888888888,
              "#fdca26"
             ],
             [
              1.0,
              "#f0f921"
             ]
            ],
            "type": "contour"
           }
          ],
          "contourcarpet": [
           {
            "colorbar": {
             "outlinewidth": 0,
             "ticks": ""
            },
            "type": "contourcarpet"
           }
          ],
          "heatmap": [
           {
            "colorbar": {
             "outlinewidth": 0,
             "ticks": ""
            },
            "colorscale": [
             [
              0.0,
              "#0d0887"
             ],
             [
              0.1111111111111111,
              "#46039f"
             ],
             [
              0.2222222222222222,
              "#7201a8"
             ],
             [
              0.3333333333333333,
              "#9c179e"
             ],
             [
              0.4444444444444444,
              "#bd3786"
             ],
             [
              0.5555555555555556,
              "#d8576b"
             ],
             [
              0.6666666666666666,
              "#ed7953"
             ],
             [
              0.7777777777777778,
              "#fb9f3a"
             ],
             [
              0.8888888888888888,
              "#fdca26"
             ],
             [
              1.0,
              "#f0f921"
             ]
            ],
            "type": "heatmap"
           }
          ],
          "histogram": [
           {
            "marker": {
             "pattern": {
              "fillmode": "overlay",
              "size": 10,
              "solidity": 0.2
             }
            },
            "type": "histogram"
           }
          ],
          "histogram2d": [
           {
            "colorbar": {
             "outlinewidth": 0,
             "ticks": ""
            },
            "colorscale": [
             [
              0.0,
              "#0d0887"
             ],
             [
              0.1111111111111111,
              "#46039f"
             ],
             [
              0.2222222222222222,
              "#7201a8"
             ],
             [
              0.3333333333333333,
              "#9c179e"
             ],
             [
              0.4444444444444444,
              "#bd3786"
             ],
             [
              0.5555555555555556,
              "#d8576b"
             ],
             [
              0.6666666666666666,
              "#ed7953"
             ],
             [
              0.7777777777777778,
              "#fb9f3a"
             ],
             [
              0.8888888888888888,
              "#fdca26"
             ],
             [
              1.0,
              "#f0f921"
             ]
            ],
            "type": "histogram2d"
           }
          ],
          "histogram2dcontour": [
           {
            "colorbar": {
             "outlinewidth": 0,
             "ticks": ""
            },
            "colorscale": [
             [
              0.0,
              "#0d0887"
             ],
             [
              0.1111111111111111,
              "#46039f"
             ],
             [
              0.2222222222222222,
              "#7201a8"
             ],
             [
              0.3333333333333333,
              "#9c179e"
             ],
             [
              0.4444444444444444,
              "#bd3786"
             ],
             [
              0.5555555555555556,
              "#d8576b"
             ],
             [
              0.6666666666666666,
              "#ed7953"
             ],
             [
              0.7777777777777778,
              "#fb9f3a"
             ],
             [
              0.8888888888888888,
              "#fdca26"
             ],
             [
              1.0,
              "#f0f921"
             ]
            ],
            "type": "histogram2dcontour"
           }
          ],
          "mesh3d": [
           {
            "colorbar": {
             "outlinewidth": 0,
             "ticks": ""
            },
            "type": "mesh3d"
           }
          ],
          "parcoords": [
           {
            "line": {
             "colorbar": {
              "outlinewidth": 0,
              "ticks": ""
             }
            },
            "type": "parcoords"
           }
          ],
          "pie": [
           {
            "automargin": true,
            "type": "pie"
           }
          ],
          "scatter": [
           {
            "fillpattern": {
             "fillmode": "overlay",
             "size": 10,
             "solidity": 0.2
            },
            "type": "scatter"
           }
          ],
          "scatter3d": [
           {
            "line": {
             "colorbar": {
              "outlinewidth": 0,
              "ticks": ""
             }
            },
            "marker": {
             "colorbar": {
              "outlinewidth": 0,
              "ticks": ""
             }
            },
            "type": "scatter3d"
           }
          ],
          "scattercarpet": [
           {
            "marker": {
             "colorbar": {
              "outlinewidth": 0,
              "ticks": ""
             }
            },
            "type": "scattercarpet"
           }
          ],
          "scattergeo": [
           {
            "marker": {
             "colorbar": {
              "outlinewidth": 0,
              "ticks": ""
             }
            },
            "type": "scattergeo"
           }
          ],
          "scattergl": [
           {
            "marker": {
             "colorbar": {
              "outlinewidth": 0,
              "ticks": ""
             }
            },
            "type": "scattergl"
           }
          ],
          "scattermap": [
           {
            "marker": {
             "colorbar": {
              "outlinewidth": 0,
              "ticks": ""
             }
            },
            "type": "scattermap"
           }
          ],
          "scattermapbox": [
           {
            "marker": {
             "colorbar": {
              "outlinewidth": 0,
              "ticks": ""
             }
            },
            "type": "scattermapbox"
           }
          ],
          "scatterpolar": [
           {
            "marker": {
             "colorbar": {
              "outlinewidth": 0,
              "ticks": ""
             }
            },
            "type": "scatterpolar"
           }
          ],
          "scatterpolargl": [
           {
            "marker": {
             "colorbar": {
              "outlinewidth": 0,
              "ticks": ""
             }
            },
            "type": "scatterpolargl"
           }
          ],
          "scatterternary": [
           {
            "marker": {
             "colorbar": {
              "outlinewidth": 0,
              "ticks": ""
             }
            },
            "type": "scatterternary"
           }
          ],
          "surface": [
           {
            "colorbar": {
             "outlinewidth": 0,
             "ticks": ""
            },
            "colorscale": [
             [
              0.0,
              "#0d0887"
             ],
             [
              0.1111111111111111,
              "#46039f"
             ],
             [
              0.2222222222222222,
              "#7201a8"
             ],
             [
              0.3333333333333333,
              "#9c179e"
             ],
             [
              0.4444444444444444,
              "#bd3786"
             ],
             [
              0.5555555555555556,
              "#d8576b"
             ],
             [
              0.6666666666666666,
              "#ed7953"
             ],
             [
              0.7777777777777778,
              "#fb9f3a"
             ],
             [
              0.8888888888888888,
              "#fdca26"
             ],
             [
              1.0,
              "#f0f921"
             ]
            ],
            "type": "surface"
           }
          ],
          "table": [
           {
            "cells": {
             "fill": {
              "color": "#EBF0F8"
             },
             "line": {
              "color": "white"
             }
            },
            "header": {
             "fill": {
              "color": "#C8D4E3"
             },
             "line": {
              "color": "white"
             }
            },
            "type": "table"
           }
          ]
         },
         "layout": {
          "annotationdefaults": {
           "arrowcolor": "#2a3f5f",
           "arrowhead": 0,
           "arrowwidth": 1
          },
          "autotypenumbers": "strict",
          "coloraxis": {
           "colorbar": {
            "outlinewidth": 0,
            "ticks": ""
           }
          },
          "colorscale": {
           "diverging": [
            [
             0,
             "#8e0152"
            ],
            [
             0.1,
             "#c51b7d"
            ],
            [
             0.2,
             "#de77ae"
            ],
            [
             0.3,
             "#f1b6da"
            ],
            [
             0.4,
             "#fde0ef"
            ],
            [
             0.5,
             "#f7f7f7"
            ],
            [
             0.6,
             "#e6f5d0"
            ],
            [
             0.7,
             "#b8e186"
            ],
            [
             0.8,
             "#7fbc41"
            ],
            [
             0.9,
             "#4d9221"
            ],
            [
             1,
             "#276419"
            ]
           ],
           "sequential": [
            [
             0.0,
             "#0d0887"
            ],
            [
             0.1111111111111111,
             "#46039f"
            ],
            [
             0.2222222222222222,
             "#7201a8"
            ],
            [
             0.3333333333333333,
             "#9c179e"
            ],
            [
             0.4444444444444444,
             "#bd3786"
            ],
            [
             0.5555555555555556,
             "#d8576b"
            ],
            [
             0.6666666666666666,
             "#ed7953"
            ],
            [
             0.7777777777777778,
             "#fb9f3a"
            ],
            [
             0.8888888888888888,
             "#fdca26"
            ],
            [
             1.0,
             "#f0f921"
            ]
           ],
           "sequentialminus": [
            [
             0.0,
             "#0d0887"
            ],
            [
             0.1111111111111111,
             "#46039f"
            ],
            [
             0.2222222222222222,
             "#7201a8"
            ],
            [
             0.3333333333333333,
             "#9c179e"
            ],
            [
             0.4444444444444444,
             "#bd3786"
            ],
            [
             0.5555555555555556,
             "#d8576b"
            ],
            [
             0.6666666666666666,
             "#ed7953"
            ],
            [
             0.7777777777777778,
             "#fb9f3a"
            ],
            [
             0.8888888888888888,
             "#fdca26"
            ],
            [
             1.0,
             "#f0f921"
            ]
           ]
          },
          "colorway": [
           "#636efa",
           "#EF553B",
           "#00cc96",
           "#ab63fa",
           "#FFA15A",
           "#19d3f3",
           "#FF6692",
           "#B6E880",
           "#FF97FF",
           "#FECB52"
          ],
          "font": {
           "color": "#2a3f5f"
          },
          "geo": {
           "bgcolor": "white",
           "lakecolor": "white",
           "landcolor": "#E5ECF6",
           "showlakes": true,
           "showland": true,
           "subunitcolor": "white"
          },
          "hoverlabel": {
           "align": "left"
          },
          "hovermode": "closest",
          "mapbox": {
           "style": "light"
          },
          "paper_bgcolor": "white",
          "plot_bgcolor": "#E5ECF6",
          "polar": {
           "angularaxis": {
            "gridcolor": "white",
            "linecolor": "white",
            "ticks": ""
           },
           "bgcolor": "#E5ECF6",
           "radialaxis": {
            "gridcolor": "white",
            "linecolor": "white",
            "ticks": ""
           }
          },
          "scene": {
           "xaxis": {
            "backgroundcolor": "#E5ECF6",
            "gridcolor": "white",
            "gridwidth": 2,
            "linecolor": "white",
            "showbackground": true,
            "ticks": "",
            "zerolinecolor": "white"
           },
           "yaxis": {
            "backgroundcolor": "#E5ECF6",
            "gridcolor": "white",
            "gridwidth": 2,
            "linecolor": "white",
            "showbackground": true,
            "ticks": "",
            "zerolinecolor": "white"
           },
           "zaxis": {
            "backgroundcolor": "#E5ECF6",
            "gridcolor": "white",
            "gridwidth": 2,
            "linecolor": "white",
            "showbackground": true,
            "ticks": "",
            "zerolinecolor": "white"
           }
          },
          "shapedefaults": {
           "line": {
            "color": "#2a3f5f"
           }
          },
          "ternary": {
           "aaxis": {
            "gridcolor": "white",
            "linecolor": "white",
            "ticks": ""
           },
           "baxis": {
            "gridcolor": "white",
            "linecolor": "white",
            "ticks": ""
           },
           "bgcolor": "#E5ECF6",
           "caxis": {
            "gridcolor": "white",
            "linecolor": "white",
            "ticks": ""
           }
          },
          "title": {
           "x": 0.05
          },
          "xaxis": {
           "automargin": true,
           "gridcolor": "white",
           "linecolor": "white",
           "ticks": "",
           "title": {
            "standoff": 15
           },
           "zerolinecolor": "white",
           "zerolinewidth": 2
          },
          "yaxis": {
           "automargin": true,
           "gridcolor": "white",
           "linecolor": "white",
           "ticks": "",
           "title": {
            "standoff": 15
           },
           "zerolinecolor": "white",
           "zerolinewidth": 2
          }
         }
        },
        "yaxis": {
         "title": {
          "text": "Exponents"
         }
        },
        "yaxis2": {
         "overlaying": "y",
         "side": "right",
         "title": {
          "text": "Function"
         }
        },
        "yaxis3": {
         "overlaying": "y",
         "side": "right",
         "title": {
          "text": "Derivative"
         }
        }
       }
      },
      "image/png": "[encoded data removed]"
     },
     "metadata": {},
     "output_type": "display_data"
    }
   ],
   "source": [
    "# Euler's function exponent diagram\n",
    "\n",
    "# Figure with canvas\n",
    "fig = go.Figure(**DEF_FIGURE)\n",
    "fig_canvas(omega, phase)\n",
    "\n",
    "def draw_euler(fig):\n",
    "    \"\"\"Draw Euler's exponent, function and derivative\"\"\"\n",
    "    # Exponent value\n",
    "    exponent = [cmath.log(v) for v in deriv_vals[0]]\n",
    "    fig.add_scatter(x=t_range, y=[v.real for v in exponent], name='exponent/real')\n",
    "    fig.add_scatter(x=t_range, y=[v.imag for v in exponent], name='exponent/imag')\n",
    "    # Final function value\n",
    "    fig.add_scatter(x=t_range, y=[v.real for v in deriv_vals[0]], line_dash='dash', name='function/real', yaxis='y2')\n",
    "    fig.add_scatter(x=t_range, y=[v.imag for v in deriv_vals[0]], line_dash='dot', name='function/imag',\n",
    "            yaxis='y2', visible='legendonly')\n",
    "    # Final derivative value\n",
    "    fig.add_scatter(x=t_range, y=[v.real for v in deriv_vals[1]], line_dash='dash', name='derivative/real', yaxis='y3')\n",
    "    fig.add_scatter(x=t_range, y=[v.imag for v in deriv_vals[1]], line_dash='dot', name='derivative/imag',\n",
    "            yaxis='y3', visible='legendonly')\n",
    "\n",
    "    fig.update_layout(\n",
    "            yaxis=dict(title='Exponents'),\n",
    "            yaxis2=dict(title='Function', overlaying='y', side='right'),\n",
    "            yaxis3=dict(title='Derivative', overlaying='y', side='right'),\n",
    "        )\n",
    "draw_euler(fig)\n",
    "fig.show()"
   ]
  },
  {
   "cell_type": "markdown",
   "metadata": {},
   "source": [
    "## Change circuit parameters\n",
    "\n",
    "When the some of the circuit parameters are changed during its operation, this results in a change in the differential equation.\n",
    "The new solutions, result in a change of the Euler's function, but should keep the capacitor voltage/charge and the inductor current continuous.\n",
    "This is achieved by selecting the initial conditions (Euler's phase), in order to have same values in these parameters, as left by the\n",
    "previous function.\n",
    "\n",
    "Here the capacitor's voltages before and after the change are $V_{C0}(t)$ and $V_{C1}(t)$, inductor's currents are $I_{L0}(t)$ and $I_{L1}(t)$.\n",
    "The moment of change (shock time) is $t_1$:\n",
    "\n",
    "$$\\begin{cases}V_{C1}(t_1) = V_{C0}(t_1) = \\frac{1}C e^{\\Omega_0 t_1+\\Phi_0} \\\\\n",
    "I_{L1}(t_1) = I_{L0}(t_1) = \\Omega_0 e^{\\Omega_0 t_1+\\Phi_0}\\end{cases}$$\n",
    "\n",
    "In other words, the new phase $\\Phi_1$ must be calculated by using the new $\\Omega_1$, but the old $V_{C0}$ and $I_{L0}$ at $t_1$.\n",
    "\n",
    "> This mimics the scematic: [Falstad](https://falstad.com/circuit/circuitjs.html?ctz=CQAgjCAMB0l3BWEBOWkwHYwGYeIExgAcEALPiEqdpQKYC0YYAUAE4j76kcIBsHXcPiJQUkZgGMQ2It3x8BchZCho4YUsi3aduypWYAbabKEiZS-ipgRrbRWZPcww0WHEA3EERXz+P8F4VbiR3fWtVFkwRMCCefliVRJAE1Xh1URgM93TrWAp8PPRQhmQoZgB3Rz9vX2VK2sCk12TxKo1nFtJnOLbwburBFxE+5JrOS3KABwcai0dbcoB7cBBuYMgtcOhF1Jp9jlEKGiZymVWAMUWs9Ns1dwhGEABhAEMp14kASwAXV4A7CS0ZjnChXTKwCBgSEgJ4ASX+ABMAK4SP6A4HnFTgpLgdCwiAAJVoAGcviT0UDmEA)\n"
   ]
  },
  {
   "cell_type": "code",
   "execution_count": 5,
   "metadata": {
    "execution": {
     "iopub.execute_input": "2025-03-24T08:49:20.546788Z",
     "iopub.status.busy": "2025-03-24T08:49:20.546403Z",
     "iopub.status.idle": "2025-03-24T08:49:20.551183Z",
     "shell.execute_reply": "2025-03-24T08:49:20.550609Z"
    }
   },
   "outputs": [
    {
     "name": "stdout",
     "output_type": "stream",
     "text": [
      "Solutions for R 100, L 0.1, C 1.5e-05\n",
      "  Initial: C voltage -1.1130005481018503, L current -0.03337402542062619\n",
      "  Complex omega (-500+645.4972243679028j):\n",
      "    dampering: attenuation 500.0 nepers/sec, tau 0.002 sec\n",
      "    oscillation: frequency 102.73407401024997 Hz, period 0.009733868822336667 sec\n",
      "    derivative rotation angle: 127.76124390703504 degrees\n",
      "    phase: (-4.526018551272416-4.745587636838345j):\n",
      "      dampering: attenuation0 4.526018551272416 nepers/sec, tau0: 0.2209447417573811 sec\n",
      "      angle: -271.9021429002992 degrees\n",
      "  Complex omega (-500-645.4972243679028j):\n",
      "    dampering: attenuation 500.0 nepers/sec, tau 0.002 sec\n",
      "    oscillation: frequency -102.73407401024997 Hz, period -0.009733868822336667 sec\n",
      "    derivative rotation angle: -127.76124390703504 degrees\n",
      "    phase: (-4.526018551272416+4.745587636838345j):\n",
      "      dampering: attenuation0 4.526018551272416 nepers/sec, tau0: 0.2209447417573811 sec\n",
      "      angle: 271.9021429002992 degrees\n"
     ]
    }
   ],
   "source": [
    "# New circuit parameters\n",
    "resistance = 100    # 100 Ohm\n",
    "\n",
    "# Change at the middle of range\n",
    "shock_idx = len(t_range) // 2 - 3   # ~10ms\n",
    "shock_t = t_range[shock_idx]\n",
    "\n",
    "# Keep capacitor voltage and inductor current\n",
    "capacitor_voltage1 = deriv_vals[0][shock_idx].real / capacitance\n",
    "inductor_current1 = deriv_vals[1][shock_idx].real\n",
    "\n",
    "# Duplicate all values at the shock-point\n",
    "for lst in (t_range, *voltages.values(), current, *deriv_vals):\n",
    "    lst[shock_idx+1:] = lst[shock_idx:]\n",
    "shock_idx += 1\n",
    "\n",
    "# Circuit parameters\n",
    "print(f'Solutions for R {resistance}, L {inductance}, C {capacitance}')\n",
    "\n",
    "omegas = solve_quadratic(inductance, resistance, 1/capacitance)\n",
    "phases = calc_phases(capacitance * capacitor_voltage1, inductor_current1, omegas, shock_t)\n",
    "\n",
    "print_parameters(capacitor_voltage1, inductor_current1, omegas, phases)"
   ]
  },
  {
   "cell_type": "markdown",
   "metadata": {},
   "source": [
    "### Voltage / current diagram"
   ]
  },
  {
   "cell_type": "code",
   "execution_count": 6,
   "metadata": {
    "execution": {
     "iopub.execute_input": "2025-03-24T08:49:20.553353Z",
     "iopub.status.busy": "2025-03-24T08:49:20.552897Z",
     "iopub.status.idle": "2025-03-24T08:49:20.724356Z",
     "shell.execute_reply": "2025-03-24T08:49:20.723746Z"
    }
   },
   "outputs": [
    {
     "data": {
      "application/vnd.plotly.v1+json": {
       "config": {
        "plotlyServerURL": "https://plot.ly"
       },
       "data": [
        {
         "line": {
          "dash": "dot"
         },
         "name": "capacitor/old",
         "type": "scatter",
         "visible": "legendonly",
         "x": [
          0.010176894254301539,
          0.01063948035676979,
          0.011102066459238042,
          0.011564652561706294,
          0.012027238664174546,
          0.012489824766642798,
          0.012952410869111048,
          0.0134149969715793,
          0.013877583074047552,
          0.014340169176515805,
          0.014802755278984057,
          0.015265341381452309,
          0.01572792748392056,
          0.016190513586388813,
          0.016653099688857066,
          0.017115685791325316,
          0.017578271893793566,
          0.01804085799626182,
          0.01850344409873007,
          0.018966030201198324,
          0.019428616303666574,
          0.019891202406134827,
          0.020353788508603077,
          0.02081637461107133,
          0.02127896071353958,
          0.021741546816007835,
          0.022204132918476085,
          0.022666719020944335
         ],
         "y": [
          -1.1130005481018503,
          -2.017782789956715,
          -2.603697383647459,
          -2.8044439508958976,
          -2.6097794378458112,
          -2.0643951132833895,
          -1.2592766555599884,
          -0.31707735263215486,
          0.6262099798171169,
          1.4405901944642352,
          2.0197026401568325,
          2.294404861487846,
          2.2406151200177797,
          1.880592892136792,
          1.277777580142851,
          0.5261876494891167,
          -0.2639135516779851,
          -0.9819418691557112,
          -1.532240765404758,
          -1.846584029580343,
          -1.8923345386840695,
          -1.6753314983076202,
          -1.237346719687129,
          -0.6487058594922418,
          0.0026903220032527047,
          0.6242695308936097,
          1.1317517479031927,
          1.4603846755067165
         ]
        },
        {
         "line": {
          "dash": "dot"
         },
         "name": "resistor/old",
         "type": "scatter",
         "visible": "legendonly",
         "x": [
          0.010176894254301539,
          0.01063948035676979,
          0.011102066459238042,
          0.011564652561706294,
          0.012027238664174546,
          0.012489824766642798,
          0.012952410869111048,
          0.0134149969715793,
          0.013877583074047552,
          0.014340169176515805,
          0.014802755278984057,
          0.015265341381452309,
          0.01572792748392056,
          0.016190513586388813,
          0.016653099688857066,
          0.017115685791325316,
          0.017578271893793566,
          0.01804085799626182,
          0.01850344409873007,
          0.018966030201198324,
          0.019428616303666574,
          0.019891202406134827,
          0.020353788508603077,
          0.02081637461107133,
          0.02127896071353958,
          0.021741546816007835,
          0.022204132918476085,
          0.022666719020944335
         ],
         "y": [
          -0.33374025420626185,
          -0.2467183346681773,
          -0.1296426623124109,
          -3.9898639947466563e-16,
          0.12378216712209365,
          0.22491670192072225,
          0.29049523623865603,
          0.3130910701918363,
          0.2915344653537576,
          0.23079094043199813,
          0.14099988401970492,
          0.03584388166231866,
          -0.06949634845207091,
          -0.16050095337995707,
          -0.22528130594743984,
          -0.2560988211124986,
          -0.25024341016467233,
          -0.210179505687065,
          -0.14297265053915656,
          -0.05910816526780844,
          0.0291078862157926,
          0.10932626972607323,
          0.17085774579761992,
          0.20607056453902695,
          0.21130359119637937,
          0.18719116741584205,
          0.13838154824705562,
          0.07271511602001642
         ]
        },
        {
         "line": {
          "dash": "dot"
         },
         "name": "inductor/old",
         "type": "scatter",
         "visible": "legendonly",
         "x": [
          0.010176894254301539,
          0.01063948035676979,
          0.011102066459238042,
          0.011564652561706294,
          0.012027238664174546,
          0.012489824766642798,
          0.012952410869111048,
          0.0134149969715793,
          0.013877583074047552,
          0.014340169176515805,
          0.014802755278984057,
          0.015265341381452309,
          0.01572792748392056,
          0.016190513586388813,
          0.016653099688857066,
          0.017115685791325316,
          0.017578271893793566,
          0.01804085799626182,
          0.01850344409873007,
          0.018966030201198324,
          0.019428616303666574,
          0.019891202406134827,
          0.020353788508603077,
          0.02081637461107133,
          0.02127896071353958,
          0.021741546816007835,
          0.022204132918476085,
          0.022666719020944335
         ],
         "y": [
          1.4467408023081127,
          2.264501124624893,
          2.7333400459598707,
          2.804443950895899,
          2.485997270723719,
          1.8394784113626679,
          0.9687814193213328,
          0.003986282440318734,
          -0.9177444451708748,
          -1.671381134896234,
          -2.1607025241765383,
          -2.3302487431501655,
          -2.1711187715657094,
          -1.7200919387568356,
          -1.0524962741954116,
          -0.2700888283766184,
          0.5141569618426575,
          1.1921213748427764,
          1.6752134159439152,
          1.905692194848152,
          1.8632266524682777,
          1.5660052285815476,
          1.0664889738895098,
          0.4426352949532151,
          -0.21399391319963207,
          -0.811460698309452,
          -1.2701332961502487,
          -1.5330997915267335
         ]
        },
        {
         "name": "capacitor",
         "type": "scatter",
         "x": [
          0.0,
          0.0004625861024682518,
          0.0009251722049365036,
          0.0013877583074047553,
          0.0018503444098730071,
          0.0023129305123412588,
          0.0027755166148095106,
          0.003238102717277762,
          0.0037006888197460143,
          0.0041632749222142666,
          0.0046258610246825175,
          0.005088447127150769,
          0.005551033229619021,
          0.006013619332087273,
          0.006476205434555524,
          0.006938791537023776,
          0.0074013776394920286,
          0.00786396374196028,
          0.008326549844428533,
          0.008789135946896783,
          0.009251722049365035,
          0.009714308151833287,
          0.010176894254301539,
          0.010176894254301539,
          0.01063948035676979,
          0.011102066459238042,
          0.011564652561706294,
          0.012027238664174546,
          0.012489824766642798,
          0.012952410869111048,
          0.0134149969715793,
          0.013877583074047552,
          0.014340169176515805,
          0.014802755278984057,
          0.015265341381452309,
          0.01572792748392056,
          0.016190513586388813,
          0.016653099688857066,
          0.017115685791325316,
          0.017578271893793566,
          0.01804085799626182,
          0.01850344409873007,
          0.018966030201198324,
          0.019428616303666574,
          0.019891202406134827,
          0.020353788508603077,
          0.02081637461107133,
          0.02127896071353958,
          0.021741546816007835,
          0.022204132918476085,
          0.022666719020944335
         ],
         "y": [
          5.000000000000002,
          4.652935632769733,
          3.680578306127143,
          2.2451449870440428,
          0.5653123367483515,
          -1.116460144651985,
          -2.56840610774915,
          -3.6008967829641025,
          -4.09065914965939,
          -3.994758246642796,
          -3.352880152117186,
          -2.2781300010197354,
          -0.9381318698150877,
          0.47052741345335175,
          1.7506890605569498,
          2.7318085014950593,
          3.2922462739724945,
          3.3738141532112835,
          2.9869227690794533,
          2.2060464415625924,
          1.1565677026367511,
          -0.0047965337342515,
          -1.1130005481018503,
          -1.1130005481018492,
          -1.8499570936776377,
          -2.1051887424750624,
          -2.028294055247286,
          -1.7509536791062603,
          -1.3787040545759304,
          -0.9887084696428023,
          -0.6315559324431137,
          -0.3353931430549738,
          -0.11105915362508417,
          0.04272814896639908,
          0.13473830253559535,
          0.17746555193740118,
          0.18433925285984668,
          0.16786185239696053,
          0.13854107810617405,
          0.10444272144472368,
          0.07118465553036372,
          0.042209352687520935,
          0.019201002581409304,
          0.002546600539105525,
          -0.008227318890242264,
          -0.014082575357580354,
          -0.016179926527448308,
          -0.015674383115587626,
          -0.013586976978654531,
          -0.010739141005557206,
          -0.007733918942444414
         ]
        },
        {
         "name": "resistor",
         "type": "scatter",
         "x": [
          0.0,
          0.0004625861024682518,
          0.0009251722049365036,
          0.0013877583074047553,
          0.0018503444098730071,
          0.0023129305123412588,
          0.0027755166148095106,
          0.003238102717277762,
          0.0037006888197460143,
          0.0041632749222142666,
          0.0046258610246825175,
          0.005088447127150769,
          0.005551033229619021,
          0.006013619332087273,
          0.006476205434555524,
          0.006938791537023776,
          0.0074013776394920286,
          0.00786396374196028,
          0.008326549844428533,
          0.008789135946896783,
          0.009251722049365035,
          0.009714308151833287,
          0.010176894254301539,
          0.010176894254301539,
          0.01063948035676979,
          0.011102066459238042,
          0.011564652561706294,
          0.012027238664174546,
          0.012489824766642798,
          0.012952410869111048,
          0.0134149969715793,
          0.013877583074047552,
          0.014340169176515805,
          0.014802755278984057,
          0.015265341381452309,
          0.01572792748392056,
          0.016190513586388813,
          0.016653099688857066,
          0.017115685791325316,
          0.017578271893793566,
          0.01804085799626182,
          0.01850344409873007,
          0.018966030201198324,
          0.019428616303666574,
          0.019891202406134827,
          0.020353788508603077,
          0.02081637461107133,
          0.02127896071353958,
          0.021741546816007835,
          0.022204132918476085,
          0.022666719020944335
         ],
         "y": [
          0.0,
          -0.22068932253495585,
          -0.40100052962169497,
          -0.5179194901468004,
          -0.5582052550770659,
          -0.5197723157573265,
          -0.4114736191434131,
          -0.251386525258708,
          -0.063905505494,
          0.12390397110605594,
          0.28615468198015553,
          0.40165057653491754,
          0.4565946504844324,
          0.4461551283361003,
          0.3747258090501716,
          0.25490374035373864,
          0.10538303903154433,
          -0.051896002782466366,
          -0.19491612533591296,
          -0.3046196479395472,
          -0.3674000410548339,
          -0.3767299238212214,
          -0.33374025420626185,
          -3.3374025420626183,
          -1.5251059687412514,
          -0.2118565772799338,
          0.6389462827161784,
          1.1025423513147412,
          1.270008662061513,
          1.2321148422662125,
          1.0691922467202932,
          0.8459331409574185,
          0.6098810960740904,
          0.3924159482613548,
          0.2111983015166993,
          0.07325713759857339,
          -0.021866122562756003,
          -0.07929286707868592,
          -0.10650241122543351,
          -0.11161459378753388,
          -0.10223611568594805,
          -0.08479204871504897,
          -0.06423828244720274,
          -0.044046284747579365,
          -0.026361045426822206,
          -0.012250238900015791,
          -0.0019827014426520633,
          0.004706063856958523,
          0.008386516411755881,
          0.00975738100305468,
          0.009519283544197574
         ]
        },
        {
         "name": "inductor",
         "type": "scatter",
         "x": [
          0.0,
          0.0004625861024682518,
          0.0009251722049365036,
          0.0013877583074047553,
          0.0018503444098730071,
          0.0023129305123412588,
          0.0027755166148095106,
          0.003238102717277762,
          0.0037006888197460143,
          0.0041632749222142666,
          0.0046258610246825175,
          0.005088447127150769,
          0.005551033229619021,
          0.006013619332087273,
          0.006476205434555524,
          0.006938791537023776,
          0.0074013776394920286,
          0.00786396374196028,
          0.008326549844428533,
          0.008789135946896783,
          0.009251722049365035,
          0.009714308151833287,
          0.010176894254301539,
          0.010176894254301539,
          0.01063948035676979,
          0.011102066459238042,
          0.011564652561706294,
          0.012027238664174546,
          0.012489824766642798,
          0.012952410869111048,
          0.0134149969715793,
          0.013877583074047552,
          0.014340169176515805,
          0.014802755278984057,
          0.015265341381452309,
          0.01572792748392056,
          0.016190513586388813,
          0.016653099688857066,
          0.017115685791325316,
          0.017578271893793566,
          0.01804085799626182,
          0.01850344409873007,
          0.018966030201198324,
          0.019428616303666574,
          0.019891202406134827,
          0.020353788508603077,
          0.02081637461107133,
          0.02127896071353958,
          0.021741546816007835,
          0.022204132918476085,
          0.022666719020944335
         ],
         "y": [
          -5.0000000000000036,
          -4.432246310234778,
          -3.27957777650545,
          -1.7272254968972434,
          -0.007107081671285798,
          1.6362324604093121,
          2.9798797268925643,
          3.852283308222812,
          4.154564655153393,
          3.870854275536742,
          3.0667254701370315,
          1.8764794244848186,
          0.4815372193306556,
          -0.9166825417894522,
          -2.125414869607122,
          -2.986712241848799,
          -3.39762931300404,
          -3.321918150428819,
          -2.792006643743542,
          -1.9014267936230462,
          -0.7891676615819176,
          0.3815264575554729,
          1.4467408023081127,
          4.450403090164467,
          3.3750630624188886,
          2.3170453197549965,
          1.389347772531108,
          0.6484113277915192,
          0.1086953925144175,
          -0.24340637262341003,
          -0.4376363142771794,
          -0.5105399979024446,
          -0.4988219424490062,
          -0.4351440972277539,
          -0.3459366040522947,
          -0.2507226895359746,
          -0.16247313029709068,
          -0.08856898531827462,
          -0.03203866688074055,
          0.007171872342810199,
          0.031051460155584312,
          0.042582696027528025,
          0.04503727986579343,
          0.041499684208473844,
          0.034588364317064475,
          0.02633281425759615,
          0.018162627970100372,
          0.010968319258629107,
          0.005200460566898651,
          0.0009817600025025276,
          -0.0017853646017531603
         ]
        },
        {
         "line": {
          "dash": "dot"
         },
         "name": "V<sub>sum</sub>",
         "type": "scatter",
         "x": [
          0.0,
          0.0004625861024682518,
          0.0009251722049365036,
          0.0013877583074047553,
          0.0018503444098730071,
          0.0023129305123412588,
          0.0027755166148095106,
          0.003238102717277762,
          0.0037006888197460143,
          0.0041632749222142666,
          0.0046258610246825175,
          0.005088447127150769,
          0.005551033229619021,
          0.006013619332087273,
          0.006476205434555524,
          0.006938791537023776,
          0.0074013776394920286,
          0.00786396374196028,
          0.008326549844428533,
          0.008789135946896783,
          0.009251722049365035,
          0.009714308151833287,
          0.010176894254301539,
          0.010176894254301539,
          0.01063948035676979,
          0.011102066459238042,
          0.011564652561706294,
          0.012027238664174546,
          0.012489824766642798,
          0.012952410869111048,
          0.0134149969715793,
          0.013877583074047552,
          0.014340169176515805,
          0.014802755278984057,
          0.015265341381452309,
          0.01572792748392056,
          0.016190513586388813,
          0.016653099688857066,
          0.017115685791325316,
          0.017578271893793566,
          0.01804085799626182,
          0.01850344409873007,
          0.018966030201198324,
          0.019428616303666574,
          0.019891202406134827,
          0.020353788508603077,
          0.02081637461107133,
          0.02127896071353958,
          0.021741546816007835,
          0.022204132918476085,
          0.022666719020944335
         ],
         "y": [
          -1.7763568394002505e-15,
          -1.4155343563970746e-15,
          -1.9984014443252818e-15,
          -9.992007221626409e-16,
          -2.0036056147532122e-16,
          5.551115123125783e-16,
          1.1657341758564144e-15,
          1.4988010832439613e-15,
          2.3175905639050143e-15,
          1.8318679906315083e-15,
          1.1657341758564144e-15,
          7.771561172376096e-16,
          2.7755575615628914e-16,
          -1.1102230246251565e-16,
          -5.551115123125783e-16,
          -1.1102230246251565e-15,
          -9.992007221626409e-16,
          -1.7208456881689926e-15,
          -1.4432899320127035e-15,
          -9.992007221626409e-16,
          -4.440892098500626e-16,
          -1.5612511283791264e-17,
          5.551115123125783e-16,
          -8.881784197001252e-16,
          -4.440892098500626e-16,
          3.3306690738754696e-16,
          3.3306690738754696e-16,
          1.1102230246251565e-16,
          9.71445146547012e-17,
          1.1102230246251565e-16,
          1.1102230246251565e-16,
          0.0,
          0.0,
          -1.3877787807814457e-17,
          -5.551115123125783e-17,
          -2.7755575615628914e-17,
          -6.938893903907228e-18,
          -1.3877787807814457e-17,
          -6.938893903907228e-18,
          -7.806255641895632e-18,
          -1.3877787807814457e-17,
          -1.3877787807814457e-17,
          -6.938893903907228e-18,
          4.7704895589362195e-18,
          5.204170427930421e-18,
          3.469446951953614e-18,
          8.673617379884035e-19,
          3.469446951953614e-18,
          8.673617379884035e-19,
          1.734723475976807e-18,
          -6.505213034913027e-19
         ]
        },
        {
         "marker": {
          "size": 10,
          "symbol": "x"
         },
         "mode": "markers",
         "name": "V<sub>C1</sub>",
         "type": "scatter",
         "x": [
          0.010176894254301539
         ],
         "y": [
          -1.1130005481018503
         ]
        },
        {
         "line": {
          "dash": "dot"
         },
         "name": "current/old",
         "type": "scatter",
         "visible": "legendonly",
         "x": [
          0.010176894254301539,
          0.01063948035676979,
          0.011102066459238042,
          0.011564652561706294,
          0.012027238664174546,
          0.012489824766642798,
          0.012952410869111048,
          0.0134149969715793,
          0.013877583074047552,
          0.014340169176515805,
          0.014802755278984057,
          0.015265341381452309,
          0.01572792748392056,
          0.016190513586388813,
          0.016653099688857066,
          0.017115685791325316,
          0.017578271893793566,
          0.01804085799626182,
          0.01850344409873007,
          0.018966030201198324,
          0.019428616303666574,
          0.019891202406134827,
          0.020353788508603077,
          0.02081637461107133,
          0.02127896071353958,
          0.021741546816007835,
          0.022204132918476085,
          0.022666719020944335
         ],
         "y": [
          -0.03337402542062619,
          -0.02467183346681773,
          -0.012964266231241089,
          -3.9898639947466563e-17,
          0.012378216712209365,
          0.022491670192072225,
          0.029049523623865606,
          0.03130910701918363,
          0.02915344653537576,
          0.023079094043199813,
          0.014099988401970492,
          0.003584388166231866,
          -0.006949634845207091,
          -0.016050095337995708,
          -0.022528130594743984,
          -0.025609882111249857,
          -0.025024341016467236,
          -0.0210179505687065,
          -0.014297265053915655,
          -0.005910816526780844,
          0.00291078862157926,
          0.010932626972607324,
          0.017085774579761993,
          0.020607056453902695,
          0.021130359119637936,
          0.018719116741584205,
          0.013838154824705563,
          0.007271511602001642
         ],
         "yaxis": "y2"
        },
        {
         "line": {
          "dash": "dash"
         },
         "name": "current",
         "type": "scatter",
         "x": [
          0.0,
          0.0004625861024682518,
          0.0009251722049365036,
          0.0013877583074047553,
          0.0018503444098730071,
          0.0023129305123412588,
          0.0027755166148095106,
          0.003238102717277762,
          0.0037006888197460143,
          0.0041632749222142666,
          0.0046258610246825175,
          0.005088447127150769,
          0.005551033229619021,
          0.006013619332087273,
          0.006476205434555524,
          0.006938791537023776,
          0.0074013776394920286,
          0.00786396374196028,
          0.008326549844428533,
          0.008789135946896783,
          0.009251722049365035,
          0.009714308151833287,
          0.010176894254301539,
          0.010176894254301539,
          0.01063948035676979,
          0.011102066459238042,
          0.011564652561706294,
          0.012027238664174546,
          0.012489824766642798,
          0.012952410869111048,
          0.0134149969715793,
          0.013877583074047552,
          0.014340169176515805,
          0.014802755278984057,
          0.015265341381452309,
          0.01572792748392056,
          0.016190513586388813,
          0.016653099688857066,
          0.017115685791325316,
          0.017578271893793566,
          0.01804085799626182,
          0.01850344409873007,
          0.018966030201198324,
          0.019428616303666574,
          0.019891202406134827,
          0.020353788508603077,
          0.02081637461107133,
          0.02127896071353958,
          0.021741546816007835,
          0.022204132918476085,
          0.022666719020944335
         ],
         "y": [
          0.0,
          -0.022068932253495585,
          -0.040100052962169494,
          -0.05179194901468004,
          -0.05582052550770659,
          -0.051977231575732655,
          -0.04114736191434131,
          -0.025138652525870803,
          -0.0063905505493999995,
          0.012390397110605595,
          0.028615468198015553,
          0.04016505765349175,
          0.04565946504844324,
          0.04461551283361003,
          0.037472580905017164,
          0.025490374035373863,
          0.010538303903154434,
          -0.005189600278246637,
          -0.019491612533591295,
          -0.030461964793954723,
          -0.03674000410548339,
          -0.03767299238212214,
          -0.03337402542062619,
          -0.03337402542062618,
          -0.015251059687412513,
          -0.0021185657727993377,
          0.006389462827161784,
          0.011025423513147413,
          0.01270008662061513,
          0.012321148422662125,
          0.010691922467202932,
          0.008459331409574184,
          0.006098810960740903,
          0.003924159482613548,
          0.002111983015166993,
          0.0007325713759857339,
          -0.00021866122562756002,
          -0.0007929286707868593,
          -0.001065024112254335,
          -0.0011161459378753388,
          -0.0010223611568594805,
          -0.0008479204871504897,
          -0.0006423828244720274,
          -0.00044046284747579367,
          -0.00026361045426822206,
          -0.0001225023890001579,
          -1.9827014426520632e-05,
          4.706063856958523e-05,
          8.386516411755881e-05,
          9.757381003054681e-05,
          9.519283544197574e-05
         ],
         "yaxis": "y2"
        },
        {
         "marker": {
          "size": 10,
          "symbol": "cross"
         },
         "mode": "markers",
         "name": "I<sub>L1</sub>",
         "type": "scatter",
         "x": [
          0.010176894254301539
         ],
         "y": [
          -0.03337402542062619
         ],
         "yaxis": "y2"
        }
       ],
       "layout": {
        "annotations": [
         {
          "showarrow": false,
          "text": "base",
          "x": 0.010176894254301539,
          "xanchor": "left",
          "xref": "x",
          "y": 1,
          "yanchor": "top",
          "yref": "y domain"
         },
         {
          "showarrow": false,
          "text": "tau",
          "x": 0.012176894254301539,
          "xanchor": "left",
          "xref": "x",
          "y": 1,
          "yanchor": "top",
          "yref": "y domain"
         },
         {
          "showarrow": false,
          "text": "period",
          "x": 0.012115904890496246,
          "xanchor": "right",
          "xref": "x",
          "y": 1,
          "yanchor": "top",
          "yref": "y domain"
         }
        ],
        "margin": {
         "b": 8,
         "l": 8,
         "r": 8,
         "t": 8
        },
        "shapes": [
         {
          "line": {
           "dash": "dot"
          },
          "type": "line",
          "x0": 0.010176894254301539,
          "x1": 0.010176894254301539,
          "xref": "x",
          "y0": 0,
          "y1": 1,
          "yref": "y domain"
         },
         {
          "line": {
           "dash": "dot"
          },
          "type": "line",
          "x0": 0.012176894254301539,
          "x1": 0.012176894254301539,
          "xref": "x",
          "y0": 0,
          "y1": 1,
          "yref": "y domain"
         },
         {
          "line": {
           "dash": "dot"
          },
          "type": "rect",
          "x0": 0.0023820360681595792,
          "x1": 0.012115904890496246,
          "xref": "x",
          "y0": 0,
          "y1": 1,
          "yref": "y domain"
         }
        ],
        "template": {
         "data": {
          "bar": [
           {
            "error_x": {
             "color": "#2a3f5f"
            },
            "error_y": {
             "color": "#2a3f5f"
            },
            "marker": {
             "line": {
              "color": "#E5ECF6",
              "width": 0.5
             },
             "pattern": {
              "fillmode": "overlay",
              "size": 10,
              "solidity": 0.2
             }
            },
            "type": "bar"
           }
          ],
          "barpolar": [
           {
            "marker": {
             "line": {
              "color": "#E5ECF6",
              "width": 0.5
             },
             "pattern": {
              "fillmode": "overlay",
              "size": 10,
              "solidity": 0.2
             }
            },
            "type": "barpolar"
           }
          ],
          "carpet": [
           {
            "aaxis": {
             "endlinecolor": "#2a3f5f",
             "gridcolor": "white",
             "linecolor": "white",
             "minorgridcolor": "white",
             "startlinecolor": "#2a3f5f"
            },
            "baxis": {
             "endlinecolor": "#2a3f5f",
             "gridcolor": "white",
             "linecolor": "white",
             "minorgridcolor": "white",
             "startlinecolor": "#2a3f5f"
            },
            "type": "carpet"
           }
          ],
          "choropleth": [
           {
            "colorbar": {
             "outlinewidth": 0,
             "ticks": ""
            },
            "type": "choropleth"
           }
          ],
          "contour": [
           {
            "colorbar": {
             "outlinewidth": 0,
             "ticks": ""
            },
            "colorscale": [
             [
              0.0,
              "#0d0887"
             ],
             [
              0.1111111111111111,
              "#46039f"
             ],
             [
              0.2222222222222222,
              "#7201a8"
             ],
             [
              0.3333333333333333,
              "#9c179e"
             ],
             [
              0.4444444444444444,
              "#bd3786"
             ],
             [
              0.5555555555555556,
              "#d8576b"
             ],
             [
              0.6666666666666666,
              "#ed7953"
             ],
             [
              0.7777777777777778,
              "#fb9f3a"
             ],
             [
              0.8888888888888888,
              "#fdca26"
             ],
             [
              1.0,
              "#f0f921"
             ]
            ],
            "type": "contour"
           }
          ],
          "contourcarpet": [
           {
            "colorbar": {
             "outlinewidth": 0,
             "ticks": ""
            },
            "type": "contourcarpet"
           }
          ],
          "heatmap": [
           {
            "colorbar": {
             "outlinewidth": 0,
             "ticks": ""
            },
            "colorscale": [
             [
              0.0,
              "#0d0887"
             ],
             [
              0.1111111111111111,
              "#46039f"
             ],
             [
              0.2222222222222222,
              "#7201a8"
             ],
             [
              0.3333333333333333,
              "#9c179e"
             ],
             [
              0.4444444444444444,
              "#bd3786"
             ],
             [
              0.5555555555555556,
              "#d8576b"
             ],
             [
              0.6666666666666666,
              "#ed7953"
             ],
             [
              0.7777777777777778,
              "#fb9f3a"
             ],
             [
              0.8888888888888888,
              "#fdca26"
             ],
             [
              1.0,
              "#f0f921"
             ]
            ],
            "type": "heatmap"
           }
          ],
          "histogram": [
           {
            "marker": {
             "pattern": {
              "fillmode": "overlay",
              "size": 10,
              "solidity": 0.2
             }
            },
            "type": "histogram"
           }
          ],
          "histogram2d": [
           {
            "colorbar": {
             "outlinewidth": 0,
             "ticks": ""
            },
            "colorscale": [
             [
              0.0,
              "#0d0887"
             ],
             [
              0.1111111111111111,
              "#46039f"
             ],
             [
              0.2222222222222222,
              "#7201a8"
             ],
             [
              0.3333333333333333,
              "#9c179e"
             ],
             [
              0.4444444444444444,
              "#bd3786"
             ],
             [
              0.5555555555555556,
              "#d8576b"
             ],
             [
              0.6666666666666666,
              "#ed7953"
             ],
             [
              0.7777777777777778,
              "#fb9f3a"
             ],
             [
              0.8888888888888888,
              "#fdca26"
             ],
             [
              1.0,
              "#f0f921"
             ]
            ],
            "type": "histogram2d"
           }
          ],
          "histogram2dcontour": [
           {
            "colorbar": {
             "outlinewidth": 0,
             "ticks": ""
            },
            "colorscale": [
             [
              0.0,
              "#0d0887"
             ],
             [
              0.1111111111111111,
              "#46039f"
             ],
             [
              0.2222222222222222,
              "#7201a8"
             ],
             [
              0.3333333333333333,
              "#9c179e"
             ],
             [
              0.4444444444444444,
              "#bd3786"
             ],
             [
              0.5555555555555556,
              "#d8576b"
             ],
             [
              0.6666666666666666,
              "#ed7953"
             ],
             [
              0.7777777777777778,
              "#fb9f3a"
             ],
             [
              0.8888888888888888,
              "#fdca26"
             ],
             [
              1.0,
              "#f0f921"
             ]
            ],
            "type": "histogram2dcontour"
           }
          ],
          "mesh3d": [
           {
            "colorbar": {
             "outlinewidth": 0,
             "ticks": ""
            },
            "type": "mesh3d"
           }
          ],
          "parcoords": [
           {
            "line": {
             "colorbar": {
              "outlinewidth": 0,
              "ticks": ""
             }
            },
            "type": "parcoords"
           }
          ],
          "pie": [
           {
            "automargin": true,
            "type": "pie"
           }
          ],
          "scatter": [
           {
            "fillpattern": {
             "fillmode": "overlay",
             "size": 10,
             "solidity": 0.2
            },
            "type": "scatter"
           }
          ],
          "scatter3d": [
           {
            "line": {
             "colorbar": {
              "outlinewidth": 0,
              "ticks": ""
             }
            },
            "marker": {
             "colorbar": {
              "outlinewidth": 0,
              "ticks": ""
             }
            },
            "type": "scatter3d"
           }
          ],
          "scattercarpet": [
           {
            "marker": {
             "colorbar": {
              "outlinewidth": 0,
              "ticks": ""
             }
            },
            "type": "scattercarpet"
           }
          ],
          "scattergeo": [
           {
            "marker": {
             "colorbar": {
              "outlinewidth": 0,
              "ticks": ""
             }
            },
            "type": "scattergeo"
           }
          ],
          "scattergl": [
           {
            "marker": {
             "colorbar": {
              "outlinewidth": 0,
              "ticks": ""
             }
            },
            "type": "scattergl"
           }
          ],
          "scattermap": [
           {
            "marker": {
             "colorbar": {
              "outlinewidth": 0,
              "ticks": ""
             }
            },
            "type": "scattermap"
           }
          ],
          "scattermapbox": [
           {
            "marker": {
             "colorbar": {
              "outlinewidth": 0,
              "ticks": ""
             }
            },
            "type": "scattermapbox"
           }
          ],
          "scatterpolar": [
           {
            "marker": {
             "colorbar": {
              "outlinewidth": 0,
              "ticks": ""
             }
            },
            "type": "scatterpolar"
           }
          ],
          "scatterpolargl": [
           {
            "marker": {
             "colorbar": {
              "outlinewidth": 0,
              "ticks": ""
             }
            },
            "type": "scatterpolargl"
           }
          ],
          "scatterternary": [
           {
            "marker": {
             "colorbar": {
              "outlinewidth": 0,
              "ticks": ""
             }
            },
            "type": "scatterternary"
           }
          ],
          "surface": [
           {
            "colorbar": {
             "outlinewidth": 0,
             "ticks": ""
            },
            "colorscale": [
             [
              0.0,
              "#0d0887"
             ],
             [
              0.1111111111111111,
              "#46039f"
             ],
             [
              0.2222222222222222,
              "#7201a8"
             ],
             [
              0.3333333333333333,
              "#9c179e"
             ],
             [
              0.4444444444444444,
              "#bd3786"
             ],
             [
              0.5555555555555556,
              "#d8576b"
             ],
             [
              0.6666666666666666,
              "#ed7953"
             ],
             [
              0.7777777777777778,
              "#fb9f3a"
             ],
             [
              0.8888888888888888,
              "#fdca26"
             ],
             [
              1.0,
              "#f0f921"
             ]
            ],
            "type": "surface"
           }
          ],
          "table": [
           {
            "cells": {
             "fill": {
              "color": "#EBF0F8"
             },
             "line": {
              "color": "white"
             }
            },
            "header": {
             "fill": {
              "color": "#C8D4E3"
             },
             "line": {
              "color": "white"
             }
            },
            "type": "table"
           }
          ]
         },
         "layout": {
          "annotationdefaults": {
           "arrowcolor": "#2a3f5f",
           "arrowhead": 0,
           "arrowwidth": 1
          },
          "autotypenumbers": "strict",
          "coloraxis": {
           "colorbar": {
            "outlinewidth": 0,
            "ticks": ""
           }
          },
          "colorscale": {
           "diverging": [
            [
             0,
             "#8e0152"
            ],
            [
             0.1,
             "#c51b7d"
            ],
            [
             0.2,
             "#de77ae"
            ],
            [
             0.3,
             "#f1b6da"
            ],
            [
             0.4,
             "#fde0ef"
            ],
            [
             0.5,
             "#f7f7f7"
            ],
            [
             0.6,
             "#e6f5d0"
            ],
            [
             0.7,
             "#b8e186"
            ],
            [
             0.8,
             "#7fbc41"
            ],
            [
             0.9,
             "#4d9221"
            ],
            [
             1,
             "#276419"
            ]
           ],
           "sequential": [
            [
             0.0,
             "#0d0887"
            ],
            [
             0.1111111111111111,
             "#46039f"
            ],
            [
             0.2222222222222222,
             "#7201a8"
            ],
            [
             0.3333333333333333,
             "#9c179e"
            ],
            [
             0.4444444444444444,
             "#bd3786"
            ],
            [
             0.5555555555555556,
             "#d8576b"
            ],
            [
             0.6666666666666666,
             "#ed7953"
            ],
            [
             0.7777777777777778,
             "#fb9f3a"
            ],
            [
             0.8888888888888888,
             "#fdca26"
            ],
            [
             1.0,
             "#f0f921"
            ]
           ],
           "sequentialminus": [
            [
             0.0,
             "#0d0887"
            ],
            [
             0.1111111111111111,
             "#46039f"
            ],
            [
             0.2222222222222222,
             "#7201a8"
            ],
            [
             0.3333333333333333,
             "#9c179e"
            ],
            [
             0.4444444444444444,
             "#bd3786"
            ],
            [
             0.5555555555555556,
             "#d8576b"
            ],
            [
             0.6666666666666666,
             "#ed7953"
            ],
            [
             0.7777777777777778,
             "#fb9f3a"
            ],
            [
             0.8888888888888888,
             "#fdca26"
            ],
            [
             1.0,
             "#f0f921"
            ]
           ]
          },
          "colorway": [
           "#636efa",
           "#EF553B",
           "#00cc96",
           "#ab63fa",
           "#FFA15A",
           "#19d3f3",
           "#FF6692",
           "#B6E880",
           "#FF97FF",
           "#FECB52"
          ],
          "font": {
           "color": "#2a3f5f"
          },
          "geo": {
           "bgcolor": "white",
           "lakecolor": "white",
           "landcolor": "#E5ECF6",
           "showlakes": true,
           "showland": true,
           "subunitcolor": "white"
          },
          "hoverlabel": {
           "align": "left"
          },
          "hovermode": "closest",
          "mapbox": {
           "style": "light"
          },
          "paper_bgcolor": "white",
          "plot_bgcolor": "#E5ECF6",
          "polar": {
           "angularaxis": {
            "gridcolor": "white",
            "linecolor": "white",
            "ticks": ""
           },
           "bgcolor": "#E5ECF6",
           "radialaxis": {
            "gridcolor": "white",
            "linecolor": "white",
            "ticks": ""
           }
          },
          "scene": {
           "xaxis": {
            "backgroundcolor": "#E5ECF6",
            "gridcolor": "white",
            "gridwidth": 2,
            "linecolor": "white",
            "showbackground": true,
            "ticks": "",
            "zerolinecolor": "white"
           },
           "yaxis": {
            "backgroundcolor": "#E5ECF6",
            "gridcolor": "white",
            "gridwidth": 2,
            "linecolor": "white",
            "showbackground": true,
            "ticks": "",
            "zerolinecolor": "white"
           },
           "zaxis": {
            "backgroundcolor": "#E5ECF6",
            "gridcolor": "white",
            "gridwidth": 2,
            "linecolor": "white",
            "showbackground": true,
            "ticks": "",
            "zerolinecolor": "white"
           }
          },
          "shapedefaults": {
           "line": {
            "color": "#2a3f5f"
           }
          },
          "ternary": {
           "aaxis": {
            "gridcolor": "white",
            "linecolor": "white",
            "ticks": ""
           },
           "baxis": {
            "gridcolor": "white",
            "linecolor": "white",
            "ticks": ""
           },
           "bgcolor": "#E5ECF6",
           "caxis": {
            "gridcolor": "white",
            "linecolor": "white",
            "ticks": ""
           }
          },
          "title": {
           "x": 0.05
          },
          "xaxis": {
           "automargin": true,
           "gridcolor": "white",
           "linecolor": "white",
           "ticks": "",
           "title": {
            "standoff": 15
           },
           "zerolinecolor": "white",
           "zerolinewidth": 2
          },
          "yaxis": {
           "automargin": true,
           "gridcolor": "white",
           "linecolor": "white",
           "ticks": "",
           "title": {
            "standoff": 15
           },
           "zerolinecolor": "white",
           "zerolinewidth": 2
          }
         }
        },
        "yaxis": {
         "title": {
          "text": "Voltage"
         }
        },
        "yaxis2": {
         "overlaying": "y",
         "side": "right",
         "title": {
          "text": "Current"
         }
        }
       }
      },
      "image/png": "[encoded data removed]"
     },
     "metadata": {},
     "output_type": "display_data"
    }
   ],
   "source": [
    "# Voltage diagrams\n",
    "\n",
    "# Use the first omega/phase solution only\n",
    "omega, phase = omegas[0], phases[0]\n",
    "\n",
    "# Update the derivatives\n",
    "for lvl, deriv in enumerate(deriv_vals):\n",
    "    for idx in range(shock_idx, len(deriv)):\n",
    "        deriv[idx] = calc_euler_deriv(omega, phase, t_range[idx], lvl)\n",
    "\n",
    "# Figure with canvas\n",
    "fig = go.Figure(**DEF_FIGURE)\n",
    "fig_canvas(omega, phase, shock_t)\n",
    "\n",
    "# Old voltages\n",
    "for n, vals in voltages.items():\n",
    "    fig.add_scatter(x=t_range[shock_idx:], y=vals[shock_idx:], name=n + '/old', line_dash='dot',\n",
    "            visible='legendonly')\n",
    "# Update voltages after 'shock_t'\n",
    "voltages['capacitor'][shock_idx:] = [v.real / capacitance for v in deriv_vals[0][shock_idx:]]\n",
    "voltages['resistor'][shock_idx:] = [v.real * resistance for v in deriv_vals[1][shock_idx:]]\n",
    "voltages['inductor'][shock_idx:] = [v.real * inductance for v in deriv_vals[2][shock_idx:]]\n",
    "for n, vals in voltages.items():\n",
    "    fig.add_scatter(x=t_range, y=vals, name=n)\n",
    "# Sum of voltages\n",
    "v_sum = [sum(vals) for vals in zip(*voltages.values())]\n",
    "fig.add_scatter(x=t_range, y=v_sum, name='V<sub>sum</sub>', line_dash='dot')\n",
    "fig.add_scatter(x=[shock_t], y=[capacitor_voltage1], name='V<sub>C1</sub>',\n",
    "        mode='markers', marker_size=10, marker_symbol='x')\n",
    "\n",
    "# Old current\n",
    "fig.add_scatter(x=t_range[shock_idx:], y=current[shock_idx:], name='current/old', yaxis='y2', line_dash='dot',\n",
    "        visible='legendonly')\n",
    "# Update current after 'shock_t'\n",
    "current[shock_idx:] = [v.real for v in deriv_vals[1][shock_idx:]]\n",
    "fig.add_scatter(x=t_range, y=current, name='current', yaxis='y2', line_dash='dash')\n",
    "fig.add_scatter(x=[shock_t], y=[inductor_current1], name='I<sub>L1</sub>', yaxis='y2',\n",
    "        mode='markers', marker_size=10, marker_symbol='cross')\n",
    "\n",
    "fig.update_layout(\n",
    "        yaxis=dict(title='Voltage'),\n",
    "        yaxis2=dict(title='Current', overlaying='y', side='right'),\n",
    "    )\n",
    "fig.show()"
   ]
  },
  {
   "cell_type": "markdown",
   "metadata": {},
   "source": [
    "### Euler's function diagram"
   ]
  },
  {
   "cell_type": "code",
   "execution_count": 7,
   "metadata": {
    "execution": {
     "iopub.execute_input": "2025-03-24T08:49:20.727128Z",
     "iopub.status.busy": "2025-03-24T08:49:20.726704Z",
     "iopub.status.idle": "2025-03-24T08:49:20.856122Z",
     "shell.execute_reply": "2025-03-24T08:49:20.855554Z"
    }
   },
   "outputs": [
    {
     "data": {
      "application/vnd.plotly.v1+json": {
       "config": {
        "plotlyServerURL": "https://plot.ly"
       },
       "data": [
        {
         "name": "exponent/real",
         "type": "scatter",
         "x": [
          0.0,
          0.0004625861024682518,
          0.0009251722049365036,
          0.0013877583074047553,
          0.0018503444098730071,
          0.0023129305123412588,
          0.0027755166148095106,
          0.003238102717277762,
          0.0037006888197460143,
          0.0041632749222142666,
          0.0046258610246825175,
          0.005088447127150769,
          0.005551033229619021,
          0.006013619332087273,
          0.006476205434555524,
          0.006938791537023776,
          0.0074013776394920286,
          0.00786396374196028,
          0.008326549844428533,
          0.008789135946896783,
          0.009251722049365035,
          0.009714308151833287,
          0.010176894254301539,
          0.010176894254301539,
          0.01063948035676979,
          0.011102066459238042,
          0.011564652561706294,
          0.012027238664174546,
          0.012489824766642798,
          0.012952410869111048,
          0.0134149969715793,
          0.013877583074047552,
          0.014340169176515805,
          0.014802755278984057,
          0.015265341381452309,
          0.01572792748392056,
          0.016190513586388813,
          0.016653099688857066,
          0.017115685791325316,
          0.017578271893793566,
          0.01804085799626182,
          0.01850344409873007,
          0.018966030201198324,
          0.019428616303666574,
          0.019891202406134827,
          0.020353788508603077,
          0.02081637461107133,
          0.02127896071353958,
          0.021741546816007835,
          0.022204132918476085,
          0.022666719020944335
         ],
         "y": [
          -9.496143919989107,
          -9.519273225112519,
          -9.542402530235933,
          -9.565531835359344,
          -9.588661140482758,
          -9.61179044560617,
          -9.634919750729583,
          -9.658049055852995,
          -9.681178360976407,
          -9.70430766609982,
          -9.727436971223232,
          -9.750566276346646,
          -9.773695581470058,
          -9.796824886593472,
          -9.819954191716883,
          -9.843083496840295,
          -9.866212801963709,
          -9.88934210708712,
          -9.912471412210534,
          -9.935600717333946,
          -9.95873002245736,
          -9.981859327580771,
          -10.004988632704183,
          -9.614465678423185,
          -9.845758729657312,
          -10.077051780891438,
          -10.308344832125563,
          -10.539637883359688,
          -10.770930934593814,
          -11.00222398582794,
          -11.233517037062065,
          -11.464810088296192,
          -11.696103139530319,
          -11.927396190764444,
          -12.15868924199857,
          -12.389982293232695,
          -12.621275344466824,
          -12.852568395700949,
          -13.083861446935074,
          -13.3151544981692,
          -13.546447549403325,
          -13.77774060063745,
          -14.009033651871576,
          -14.240326703105701,
          -14.47161975433983,
          -14.702912805573956,
          -14.93420585680808,
          -15.165498908042206,
          -15.396791959276332,
          -15.628085010510457,
          -15.859378061744582
         ]
        },
        {
         "name": "exponent/imag",
         "type": "scatter",
         "x": [
          0.0,
          0.0004625861024682518,
          0.0009251722049365036,
          0.0013877583074047553,
          0.0018503444098730071,
          0.0023129305123412588,
          0.0027755166148095106,
          0.003238102717277762,
          0.0037006888197460143,
          0.0041632749222142666,
          0.0046258610246825175,
          0.005088447127150769,
          0.005551033229619021,
          0.006013619332087273,
          0.006476205434555524,
          0.006938791537023776,
          0.0074013776394920286,
          0.00786396374196028,
          0.008326549844428533,
          0.008789135946896783,
          0.009251722049365035,
          0.009714308151833287,
          0.010176894254301539,
          0.010176894254301539,
          0.01063948035676979,
          0.011102066459238042,
          0.011564652561706294,
          0.012027238664174546,
          0.012489824766642798,
          0.012952410869111048,
          0.0134149969715793,
          0.013877583074047552,
          0.014340169176515805,
          0.014802755278984057,
          0.015265341381452309,
          0.01572792748392056,
          0.016190513586388813,
          0.016653099688857066,
          0.017115685791325316,
          0.017578271893793566,
          0.01804085799626182,
          0.01850344409873007,
          0.018966030201198324,
          0.019428616303666574,
          0.019891202406134827,
          0.020353788508603077,
          0.02081637461107133,
          0.02127896071353958,
          0.021741546816007835,
          0.022204132918476085,
          0.022666719020944335
         ],
         "y": [
          -0.061275581577500224,
          0.3157155368532749,
          0.69270665528405,
          1.0696977737148254,
          1.4466888921456005,
          1.8236800105763755,
          2.200671129007151,
          2.577662247437926,
          2.954653365868701,
          -2.95154082288011,
          -2.5745497044493355,
          -2.1975585860185602,
          -1.8205674675877843,
          -1.4435763491570095,
          -1.0665852307262347,
          -0.6895941122954599,
          -0.31260299386468415,
          0.06438812456609064,
          0.44137924299686726,
          0.8183703614276411,
          1.195361479858416,
          1.5723525982891917,
          1.9493437167199656,
          1.8235693569989566,
          2.122167402173379,
          2.4207654473478026,
          2.719363492522225,
          3.0179615376966478,
          -2.9666257243085155,
          -2.668027679134094,
          -2.3694296339596717,
          -2.0708315887852478,
          -1.772233543610825,
          -1.4736354984364006,
          -1.175037453261978,
          -0.8764394080875574,
          -0.5778413629131329,
          -0.2792433177387086,
          0.019354727435712184,
          0.31795277261013477,
          0.6165508177845591,
          0.9151488629589799,
          1.2137469081334042,
          1.5123449533078268,
          1.8109429984822503,
          2.109541043656673,
          2.4081390888310956,
          2.7067371340055177,
          3.0053351791799403,
          -2.9792520828252234,
          -2.680654037650801
         ]
        },
        {
         "line": {
          "dash": "dash"
         },
         "name": "function/real",
         "type": "scatter",
         "x": [
          0.0,
          0.0004625861024682518,
          0.0009251722049365036,
          0.0013877583074047553,
          0.0018503444098730071,
          0.0023129305123412588,
          0.0027755166148095106,
          0.003238102717277762,
          0.0037006888197460143,
          0.0041632749222142666,
          0.0046258610246825175,
          0.005088447127150769,
          0.005551033229619021,
          0.006013619332087273,
          0.006476205434555524,
          0.006938791537023776,
          0.0074013776394920286,
          0.00786396374196028,
          0.008326549844428533,
          0.008789135946896783,
          0.009251722049365035,
          0.009714308151833287,
          0.010176894254301539,
          0.010176894254301539,
          0.01063948035676979,
          0.011102066459238042,
          0.011564652561706294,
          0.012027238664174546,
          0.012489824766642798,
          0.012952410869111048,
          0.0134149969715793,
          0.013877583074047552,
          0.014340169176515805,
          0.014802755278984057,
          0.015265341381452309,
          0.01572792748392056,
          0.016190513586388813,
          0.016653099688857066,
          0.017115685791325316,
          0.017578271893793566,
          0.01804085799626182,
          0.01850344409873007,
          0.018966030201198324,
          0.019428616303666574,
          0.019891202406134827,
          0.020353788508603077,
          0.02081637461107133,
          0.02127896071353958,
          0.021741546816007835,
          0.022204132918476085,
          0.022666719020944335
         ],
         "y": [
          7.500000000000003e-05,
          6.979403449154599e-05,
          5.5208674591907146e-05,
          3.3677174805660645e-05,
          8.479685051225271e-06,
          -1.6746902169779778e-05,
          -3.852609161623725e-05,
          -5.401345174446154e-05,
          -6.135988724489086e-05,
          -5.992137369964194e-05,
          -5.0293202281757785e-05,
          -3.417195001529603e-05,
          -1.4071978047226315e-05,
          7.057911201800277e-06,
          2.626033590835425e-05,
          4.097712752242589e-05,
          4.938369410958742e-05,
          5.060721229816926e-05,
          4.48038415361918e-05,
          3.309069662343889e-05,
          1.7348515539551266e-05,
          -7.19480060137725e-08,
          -1.6695008221527756e-05,
          -1.669500822152774e-05,
          -2.7749356405164565e-05,
          -3.157783113712594e-05,
          -3.0424410828709294e-05,
          -2.6264305186593907e-05,
          -2.0680560818638957e-05,
          -1.4830627044642035e-05,
          -9.473338986646706e-06,
          -5.0308971458246074e-06,
          -1.6658873043762625e-06,
          6.409222344959862e-07,
          2.02107453803393e-06,
          2.661983279061018e-06,
          2.7650887928977003e-06,
          2.517927785954408e-06,
          2.078116171592611e-06,
          1.566640821670855e-06,
          1.067769832955456e-06,
          6.33140290312814e-07,
          2.8801503872113956e-07,
          3.8199008086582873e-08,
          -1.2340978335363398e-07,
          -2.1123863036370532e-07,
          -2.426988979117246e-07,
          -2.3511574673381442e-07,
          -2.0380465467981798e-07,
          -1.610871150833581e-07,
          -1.1600878413666621e-07
         ],
         "yaxis": "y2"
        },
        {
         "line": {
          "dash": "dot"
         },
         "name": "function/imag",
         "type": "scatter",
         "visible": "legendonly",
         "x": [
          0.0,
          0.0004625861024682518,
          0.0009251722049365036,
          0.0013877583074047553,
          0.0018503444098730071,
          0.0023129305123412588,
          0.0027755166148095106,
          0.003238102717277762,
          0.0037006888197460143,
          0.0041632749222142666,
          0.0046258610246825175,
          0.005088447127150769,
          0.005551033229619021,
          0.006013619332087273,
          0.006476205434555524,
          0.006938791537023776,
          0.0074013776394920286,
          0.00786396374196028,
          0.008326549844428533,
          0.008789135946896783,
          0.009251722049365035,
          0.009714308151833287,
          0.010176894254301539,
          0.010176894254301539,
          0.01063948035676979,
          0.011102066459238042,
          0.011564652561706294,
          0.012027238664174546,
          0.012489824766642798,
          0.012952410869111048,
          0.0134149969715793,
          0.013877583074047552,
          0.014340169176515805,
          0.014802755278984057,
          0.015265341381452309,
          0.01572792748392056,
          0.016190513586388813,
          0.016653099688857066,
          0.017115685791325316,
          0.017578271893793566,
          0.01804085799626182,
          0.01850344409873007,
          0.018966030201198324,
          0.019428616303666574,
          0.019891202406134827,
          0.020353788508603077,
          0.02081637461107133,
          0.02127896071353958,
          0.021741546816007835,
          0.022204132918476085,
          0.022666719020944335
         ],
         "y": [
          -4.6014290508397695e-06,
          2.279760295947032e-05,
          4.581749564908318e-05,
          6.148501927218987e-05,
          6.79742011326585e-05,
          6.480600732335524e-05,
          5.285344542319503e-05,
          3.4160181154976875e-05,
          1.160608622269703e-05,
          -1.1527289528211674e-05,
          -3.202693775140752e-05,
          -4.718791278379192e-05,
          -5.516299426406543e-05,
          -5.5178384200746195e-05,
          -4.759178027012403e-05,
          -3.379195062752635e-05,
          -1.5960809589929316e-05,
          3.263014037341237e-06,
          2.1168316602156477e-05,
          3.534809202954151e-05,
          4.401736641314981e-05,
          4.623097460304351e-05,
          4.197580130817642e-05,
          6.463471562134984e-05,
          4.5121399117580874e-05,
          2.7742150803046506e-05,
          1.3668134043229158e-05,
          3.2637306569560156e-06,
          -3.6557960626499514e-06,
          -7.60008674730569e-06,
          -9.22583823611512e-06,
          -9.208223695279826e-06,
          -8.157846555745184e-06,
          -6.575737957693074e-06,
          -4.837387623535728e-06,
          -3.196858077177586e-06,
          -1.8030800550087754e-06,
          -7.219786617157114e-07,
          4.022639521565211e-08,
          5.15611089367313e-07,
          7.567441376066151e-07,
          8.23164410217879e-07,
          7.720797027430861e-07,
          6.527732847265429e-07,
          5.039763668443363e-07,
          3.534046244821527e-07,
          2.1870963662257214e-07,
          1.092138465294808e-07,
          2.7943053109194853e-08,
          -2.638315370843687e-08,
          -5.76120887429982e-08
         ],
         "yaxis": "y2"
        },
        {
         "line": {
          "dash": "dash"
         },
         "name": "derivative/real",
         "type": "scatter",
         "x": [
          0.0,
          0.0004625861024682518,
          0.0009251722049365036,
          0.0013877583074047553,
          0.0018503444098730071,
          0.0023129305123412588,
          0.0027755166148095106,
          0.003238102717277762,
          0.0037006888197460143,
          0.0041632749222142666,
          0.0046258610246825175,
          0.005088447127150769,
          0.005551033229619021,
          0.006013619332087273,
          0.006476205434555524,
          0.006938791537023776,
          0.0074013776394920286,
          0.00786396374196028,
          0.008326549844428533,
          0.008789135946896783,
          0.009251722049365035,
          0.009714308151833287,
          0.010176894254301539,
          0.010176894254301539,
          0.01063948035676979,
          0.011102066459238042,
          0.011564652561706294,
          0.012027238664174546,
          0.012489824766642798,
          0.012952410869111048,
          0.0134149969715793,
          0.013877583074047552,
          0.014340169176515805,
          0.014802755278984057,
          0.015265341381452309,
          0.01572792748392056,
          0.016190513586388813,
          0.016653099688857066,
          0.017115685791325316,
          0.017578271893793566,
          0.01804085799626182,
          0.01850344409873007,
          0.018966030201198324,
          0.019428616303666574,
          0.019891202406134827,
          0.020353788508603077,
          0.02081637461107133,
          0.02127896071353958,
          0.021741546816007835,
          0.022204132918476085,
          0.022666719020944335
         ],
         "y": [
          0.0,
          -0.022068932253495585,
          -0.040100052962169494,
          -0.05179194901468004,
          -0.05582052550770659,
          -0.051977231575732655,
          -0.04114736191434131,
          -0.025138652525870803,
          -0.0063905505493999995,
          0.012390397110605595,
          0.028615468198015553,
          0.04016505765349175,
          0.04565946504844324,
          0.04461551283361003,
          0.037472580905017164,
          0.025490374035373863,
          0.010538303903154434,
          -0.005189600278246637,
          -0.019491612533591295,
          -0.030461964793954723,
          -0.03674000410548339,
          -0.03767299238212214,
          -0.03337402542062619,
          -0.03337402542062618,
          -0.015251059687412513,
          -0.0021185657727993377,
          0.006389462827161784,
          0.011025423513147413,
          0.01270008662061513,
          0.012321148422662125,
          0.010691922467202932,
          0.008459331409574184,
          0.006098810960740903,
          0.003924159482613548,
          0.002111983015166993,
          0.0007325713759857339,
          -0.00021866122562756002,
          -0.0007929286707868593,
          -0.001065024112254335,
          -0.0011161459378753388,
          -0.0010223611568594805,
          -0.0008479204871504897,
          -0.0006423828244720274,
          -0.00044046284747579367,
          -0.00026361045426822206,
          -0.0001225023890001579,
          -1.9827014426520632e-05,
          4.706063856958523e-05,
          8.386516411755881e-05,
          9.757381003054681e-05,
          9.519283544197574e-05
         ],
         "yaxis": "y3"
        },
        {
         "line": {
          "dash": "dot"
         },
         "name": "derivative/imag",
         "type": "scatter",
         "visible": "legendonly",
         "x": [
          0.0,
          0.0004625861024682518,
          0.0009251722049365036,
          0.0013877583074047553,
          0.0018503444098730071,
          0.0023129305123412588,
          0.0027755166148095106,
          0.003238102717277762,
          0.0037006888197460143,
          0.0041632749222142666,
          0.0046258610246825175,
          0.005088447127150769,
          0.005551033229619021,
          0.006013619332087273,
          0.006476205434555524,
          0.006938791537023776,
          0.0074013776394920286,
          0.00786396374196028,
          0.008326549844428533,
          0.008789135946896783,
          0.009251722049365035,
          0.009714308151833287,
          0.010176894254301539,
          0.010176894254301539,
          0.01063948035676979,
          0.011102066459238042,
          0.011564652561706294,
          0.012027238664174546,
          0.012489824766642798,
          0.012952410869111048,
          0.0134149969715793,
          0.013877583074047552,
          0.014340169176515805,
          0.014802755278984057,
          0.015265341381452309,
          0.01572792748392056,
          0.016190513586388813,
          0.016653099688857066,
          0.017115685791325316,
          0.017578271893793566,
          0.01804085799626182,
          0.01850344409873007,
          0.018966030201198324,
          0.019428616303666574,
          0.019891202406134827,
          0.020353788508603077,
          0.02081637461107133,
          0.02127896071353958,
          0.021741546816007835,
          0.022204132918476085,
          0.022666719020944335
         ],
         "y": [
          0.06135238734453028,
          0.05573976016627446,
          0.0427022191960063,
          0.02437144126067449,
          0.0035119297882412314,
          -0.016888426294614473,
          -0.03404005816251087,
          -0.04572703919030408,
          -0.050586416461521524,
          -0.04825741061627465,
          -0.039385813073566485,
          -0.02548952067387917,
          -0.008710008785832607,
          0.008510864250224497,
          0.023780822971108215,
          0.035084489968336345,
          0.04104398382989009,
          0.04107991618482113,
          0.03545511157722151,
          0.025200328893240007,
          0.011937550973549439,
          -0.002370183780170475,
          -0.015704624283216298,
          -0.0430939392784704,
          -0.040472832096319855,
          -0.034254477752096384,
          -0.026472939764575196,
          -0.01858540142637589,
          -0.011521346575478075,
          -0.005773085219299144,
          -0.0015020949033191311,
          0.0013566817039297246,
          0.003003597646787987,
          0.0037015825022493703,
          0.0037232918163094078,
          0.0033167318565364484,
          0.002686397168450648,
          0.001986304727850245,
          0.0013213050230692566,
          0.0007534567572863311,
          0.0003108703946332185,
          -2.891905076529873e-06,
          -0.0002001269433008334,
          -0.00030172928866977513,
          -0.0003316488560367831,
          -0.0003130562618201255,
          -0.0002660162832704533,
          -0.00020637348518660442,
          -0.00014552686546367885,
          -9.078970881352216e-05,
          -4.6077303791014134e-05
         ],
         "yaxis": "y3"
        }
       ],
       "layout": {
        "annotations": [
         {
          "showarrow": false,
          "text": "base",
          "x": 0.010176894254301539,
          "xanchor": "left",
          "xref": "x",
          "y": 1,
          "yanchor": "top",
          "yref": "y domain"
         },
         {
          "showarrow": false,
          "text": "tau",
          "x": 0.012176894254301539,
          "xanchor": "left",
          "xref": "x",
          "y": 1,
          "yanchor": "top",
          "yref": "y domain"
         },
         {
          "showarrow": false,
          "text": "period",
          "x": 0.012115904890496246,
          "xanchor": "right",
          "xref": "x",
          "y": 1,
          "yanchor": "top",
          "yref": "y domain"
         }
        ],
        "margin": {
         "b": 8,
         "l": 8,
         "r": 8,
         "t": 8
        },
        "shapes": [
         {
          "line": {
           "dash": "dot"
          },
          "type": "line",
          "x0": 0.010176894254301539,
          "x1": 0.010176894254301539,
          "xref": "x",
          "y0": 0,
          "y1": 1,
          "yref": "y domain"
         },
         {
          "line": {
           "dash": "dot"
          },
          "type": "line",
          "x0": 0.012176894254301539,
          "x1": 0.012176894254301539,
          "xref": "x",
          "y0": 0,
          "y1": 1,
          "yref": "y domain"
         },
         {
          "line": {
           "dash": "dot"
          },
          "type": "rect",
          "x0": 0.0023820360681595792,
          "x1": 0.012115904890496246,
          "xref": "x",
          "y0": 0,
          "y1": 1,
          "yref": "y domain"
         }
        ],
        "template": {
         "data": {
          "bar": [
           {
            "error_x": {
             "color": "#2a3f5f"
            },
            "error_y": {
             "color": "#2a3f5f"
            },
            "marker": {
             "line": {
              "color": "#E5ECF6",
              "width": 0.5
             },
             "pattern": {
              "fillmode": "overlay",
              "size": 10,
              "solidity": 0.2
             }
            },
            "type": "bar"
           }
          ],
          "barpolar": [
           {
            "marker": {
             "line": {
              "color": "#E5ECF6",
              "width": 0.5
             },
             "pattern": {
              "fillmode": "overlay",
              "size": 10,
              "solidity": 0.2
             }
            },
            "type": "barpolar"
           }
          ],
          "carpet": [
           {
            "aaxis": {
             "endlinecolor": "#2a3f5f",
             "gridcolor": "white",
             "linecolor": "white",
             "minorgridcolor": "white",
             "startlinecolor": "#2a3f5f"
            },
            "baxis": {
             "endlinecolor": "#2a3f5f",
             "gridcolor": "white",
             "linecolor": "white",
             "minorgridcolor": "white",
             "startlinecolor": "#2a3f5f"
            },
            "type": "carpet"
           }
          ],
          "choropleth": [
           {
            "colorbar": {
             "outlinewidth": 0,
             "ticks": ""
            },
            "type": "choropleth"
           }
          ],
          "contour": [
           {
            "colorbar": {
             "outlinewidth": 0,
             "ticks": ""
            },
            "colorscale": [
             [
              0.0,
              "#0d0887"
             ],
             [
              0.1111111111111111,
              "#46039f"
             ],
             [
              0.2222222222222222,
              "#7201a8"
             ],
             [
              0.3333333333333333,
              "#9c179e"
             ],
             [
              0.4444444444444444,
              "#bd3786"
             ],
             [
              0.5555555555555556,
              "#d8576b"
             ],
             [
              0.6666666666666666,
              "#ed7953"
             ],
             [
              0.7777777777777778,
              "#fb9f3a"
             ],
             [
              0.8888888888888888,
              "#fdca26"
             ],
             [
              1.0,
              "#f0f921"
             ]
            ],
            "type": "contour"
           }
          ],
          "contourcarpet": [
           {
            "colorbar": {
             "outlinewidth": 0,
             "ticks": ""
            },
            "type": "contourcarpet"
           }
          ],
          "heatmap": [
           {
            "colorbar": {
             "outlinewidth": 0,
             "ticks": ""
            },
            "colorscale": [
             [
              0.0,
              "#0d0887"
             ],
             [
              0.1111111111111111,
              "#46039f"
             ],
             [
              0.2222222222222222,
              "#7201a8"
             ],
             [
              0.3333333333333333,
              "#9c179e"
             ],
             [
              0.4444444444444444,
              "#bd3786"
             ],
             [
              0.5555555555555556,
              "#d8576b"
             ],
             [
              0.6666666666666666,
              "#ed7953"
             ],
             [
              0.7777777777777778,
              "#fb9f3a"
             ],
             [
              0.8888888888888888,
              "#fdca26"
             ],
             [
              1.0,
              "#f0f921"
             ]
            ],
            "type": "heatmap"
           }
          ],
          "histogram": [
           {
            "marker": {
             "pattern": {
              "fillmode": "overlay",
              "size": 10,
              "solidity": 0.2
             }
            },
            "type": "histogram"
           }
          ],
          "histogram2d": [
           {
            "colorbar": {
             "outlinewidth": 0,
             "ticks": ""
            },
            "colorscale": [
             [
              0.0,
              "#0d0887"
             ],
             [
              0.1111111111111111,
              "#46039f"
             ],
             [
              0.2222222222222222,
              "#7201a8"
             ],
             [
              0.3333333333333333,
              "#9c179e"
             ],
             [
              0.4444444444444444,
              "#bd3786"
             ],
             [
              0.5555555555555556,
              "#d8576b"
             ],
             [
              0.6666666666666666,
              "#ed7953"
             ],
             [
              0.7777777777777778,
              "#fb9f3a"
             ],
             [
              0.8888888888888888,
              "#fdca26"
             ],
             [
              1.0,
              "#f0f921"
             ]
            ],
            "type": "histogram2d"
           }
          ],
          "histogram2dcontour": [
           {
            "colorbar": {
             "outlinewidth": 0,
             "ticks": ""
            },
            "colorscale": [
             [
              0.0,
              "#0d0887"
             ],
             [
              0.1111111111111111,
              "#46039f"
             ],
             [
              0.2222222222222222,
              "#7201a8"
             ],
             [
              0.3333333333333333,
              "#9c179e"
             ],
             [
              0.4444444444444444,
              "#bd3786"
             ],
             [
              0.5555555555555556,
              "#d8576b"
             ],
             [
              0.6666666666666666,
              "#ed7953"
             ],
             [
              0.7777777777777778,
              "#fb9f3a"
             ],
             [
              0.8888888888888888,
              "#fdca26"
             ],
             [
              1.0,
              "#f0f921"
             ]
            ],
            "type": "histogram2dcontour"
           }
          ],
          "mesh3d": [
           {
            "colorbar": {
             "outlinewidth": 0,
             "ticks": ""
            },
            "type": "mesh3d"
           }
          ],
          "parcoords": [
           {
            "line": {
             "colorbar": {
              "outlinewidth": 0,
              "ticks": ""
             }
            },
            "type": "parcoords"
           }
          ],
          "pie": [
           {
            "automargin": true,
            "type": "pie"
           }
          ],
          "scatter": [
           {
            "fillpattern": {
             "fillmode": "overlay",
             "size": 10,
             "solidity": 0.2
            },
            "type": "scatter"
           }
          ],
          "scatter3d": [
           {
            "line": {
             "colorbar": {
              "outlinewidth": 0,
              "ticks": ""
             }
            },
            "marker": {
             "colorbar": {
              "outlinewidth": 0,
              "ticks": ""
             }
            },
            "type": "scatter3d"
           }
          ],
          "scattercarpet": [
           {
            "marker": {
             "colorbar": {
              "outlinewidth": 0,
              "ticks": ""
             }
            },
            "type": "scattercarpet"
           }
          ],
          "scattergeo": [
           {
            "marker": {
             "colorbar": {
              "outlinewidth": 0,
              "ticks": ""
             }
            },
            "type": "scattergeo"
           }
          ],
          "scattergl": [
           {
            "marker": {
             "colorbar": {
              "outlinewidth": 0,
              "ticks": ""
             }
            },
            "type": "scattergl"
           }
          ],
          "scattermap": [
           {
            "marker": {
             "colorbar": {
              "outlinewidth": 0,
              "ticks": ""
             }
            },
            "type": "scattermap"
           }
          ],
          "scattermapbox": [
           {
            "marker": {
             "colorbar": {
              "outlinewidth": 0,
              "ticks": ""
             }
            },
            "type": "scattermapbox"
           }
          ],
          "scatterpolar": [
           {
            "marker": {
             "colorbar": {
              "outlinewidth": 0,
              "ticks": ""
             }
            },
            "type": "scatterpolar"
           }
          ],
          "scatterpolargl": [
           {
            "marker": {
             "colorbar": {
              "outlinewidth": 0,
              "ticks": ""
             }
            },
            "type": "scatterpolargl"
           }
          ],
          "scatterternary": [
           {
            "marker": {
             "colorbar": {
              "outlinewidth": 0,
              "ticks": ""
             }
            },
            "type": "scatterternary"
           }
          ],
          "surface": [
           {
            "colorbar": {
             "outlinewidth": 0,
             "ticks": ""
            },
            "colorscale": [
             [
              0.0,
              "#0d0887"
             ],
             [
              0.1111111111111111,
              "#46039f"
             ],
             [
              0.2222222222222222,
              "#7201a8"
             ],
             [
              0.3333333333333333,
              "#9c179e"
             ],
             [
              0.4444444444444444,
              "#bd3786"
             ],
             [
              0.5555555555555556,
              "#d8576b"
             ],
             [
              0.6666666666666666,
              "#ed7953"
             ],
             [
              0.7777777777777778,
              "#fb9f3a"
             ],
             [
              0.8888888888888888,
              "#fdca26"
             ],
             [
              1.0,
              "#f0f921"
             ]
            ],
            "type": "surface"
           }
          ],
          "table": [
           {
            "cells": {
             "fill": {
              "color": "#EBF0F8"
             },
             "line": {
              "color": "white"
             }
            },
            "header": {
             "fill": {
              "color": "#C8D4E3"
             },
             "line": {
              "color": "white"
             }
            },
            "type": "table"
           }
          ]
         },
         "layout": {
          "annotationdefaults": {
           "arrowcolor": "#2a3f5f",
           "arrowhead": 0,
           "arrowwidth": 1
          },
          "autotypenumbers": "strict",
          "coloraxis": {
           "colorbar": {
            "outlinewidth": 0,
            "ticks": ""
           }
          },
          "colorscale": {
           "diverging": [
            [
             0,
             "#8e0152"
            ],
            [
             0.1,
             "#c51b7d"
            ],
            [
             0.2,
             "#de77ae"
            ],
            [
             0.3,
             "#f1b6da"
            ],
            [
             0.4,
             "#fde0ef"
            ],
            [
             0.5,
             "#f7f7f7"
            ],
            [
             0.6,
             "#e6f5d0"
            ],
            [
             0.7,
             "#b8e186"
            ],
            [
             0.8,
             "#7fbc41"
            ],
            [
             0.9,
             "#4d9221"
            ],
            [
             1,
             "#276419"
            ]
           ],
           "sequential": [
            [
             0.0,
             "#0d0887"
            ],
            [
             0.1111111111111111,
             "#46039f"
            ],
            [
             0.2222222222222222,
             "#7201a8"
            ],
            [
             0.3333333333333333,
             "#9c179e"
            ],
            [
             0.4444444444444444,
             "#bd3786"
            ],
            [
             0.5555555555555556,
             "#d8576b"
            ],
            [
             0.6666666666666666,
             "#ed7953"
            ],
            [
             0.7777777777777778,
             "#fb9f3a"
            ],
            [
             0.8888888888888888,
             "#fdca26"
            ],
            [
             1.0,
             "#f0f921"
            ]
           ],
           "sequentialminus": [
            [
             0.0,
             "#0d0887"
            ],
            [
             0.1111111111111111,
             "#46039f"
            ],
            [
             0.2222222222222222,
             "#7201a8"
            ],
            [
             0.3333333333333333,
             "#9c179e"
            ],
            [
             0.4444444444444444,
             "#bd3786"
            ],
            [
             0.5555555555555556,
             "#d8576b"
            ],
            [
             0.6666666666666666,
             "#ed7953"
            ],
            [
             0.7777777777777778,
             "#fb9f3a"
            ],
            [
             0.8888888888888888,
             "#fdca26"
            ],
            [
             1.0,
             "#f0f921"
            ]
           ]
          },
          "colorway": [
           "#636efa",
           "#EF553B",
           "#00cc96",
           "#ab63fa",
           "#FFA15A",
           "#19d3f3",
           "#FF6692",
           "#B6E880",
           "#FF97FF",
           "#FECB52"
          ],
          "font": {
           "color": "#2a3f5f"
          },
          "geo": {
           "bgcolor": "white",
           "lakecolor": "white",
           "landcolor": "#E5ECF6",
           "showlakes": true,
           "showland": true,
           "subunitcolor": "white"
          },
          "hoverlabel": {
           "align": "left"
          },
          "hovermode": "closest",
          "mapbox": {
           "style": "light"
          },
          "paper_bgcolor": "white",
          "plot_bgcolor": "#E5ECF6",
          "polar": {
           "angularaxis": {
            "gridcolor": "white",
            "linecolor": "white",
            "ticks": ""
           },
           "bgcolor": "#E5ECF6",
           "radialaxis": {
            "gridcolor": "white",
            "linecolor": "white",
            "ticks": ""
           }
          },
          "scene": {
           "xaxis": {
            "backgroundcolor": "#E5ECF6",
            "gridcolor": "white",
            "gridwidth": 2,
            "linecolor": "white",
            "showbackground": true,
            "ticks": "",
            "zerolinecolor": "white"
           },
           "yaxis": {
            "backgroundcolor": "#E5ECF6",
            "gridcolor": "white",
            "gridwidth": 2,
            "linecolor": "white",
            "showbackground": true,
            "ticks": "",
            "zerolinecolor": "white"
           },
           "zaxis": {
            "backgroundcolor": "#E5ECF6",
            "gridcolor": "white",
            "gridwidth": 2,
            "linecolor": "white",
            "showbackground": true,
            "ticks": "",
            "zerolinecolor": "white"
           }
          },
          "shapedefaults": {
           "line": {
            "color": "#2a3f5f"
           }
          },
          "ternary": {
           "aaxis": {
            "gridcolor": "white",
            "linecolor": "white",
            "ticks": ""
           },
           "baxis": {
            "gridcolor": "white",
            "linecolor": "white",
            "ticks": ""
           },
           "bgcolor": "#E5ECF6",
           "caxis": {
            "gridcolor": "white",
            "linecolor": "white",
            "ticks": ""
           }
          },
          "title": {
           "x": 0.05
          },
          "xaxis": {
           "automargin": true,
           "gridcolor": "white",
           "linecolor": "white",
           "ticks": "",
           "title": {
            "standoff": 15
           },
           "zerolinecolor": "white",
           "zerolinewidth": 2
          },
          "yaxis": {
           "automargin": true,
           "gridcolor": "white",
           "linecolor": "white",
           "ticks": "",
           "title": {
            "standoff": 15
           },
           "zerolinecolor": "white",
           "zerolinewidth": 2
          }
         }
        },
        "yaxis": {
         "title": {
          "text": "Exponents"
         }
        },
        "yaxis2": {
         "overlaying": "y",
         "side": "right",
         "title": {
          "text": "Function"
         }
        },
        "yaxis3": {
         "overlaying": "y",
         "side": "right",
         "title": {
          "text": "Derivative"
         }
        }
       }
      },
      "image/png": "[encoded data removed]"
     },
     "metadata": {},
     "output_type": "display_data"
    }
   ],
   "source": [
    "# Euler's function exponent diagram\n",
    "\n",
    "# Figure with canvas\n",
    "fig = go.Figure(**DEF_FIGURE)\n",
    "fig_canvas(omega, phase, shock_t)\n",
    "draw_euler(fig)\n",
    "fig.show()"
   ]
  }
 ],
 "metadata": {
  "interpreter": {
   "hash": "af8cc30dd3ad044b352727f633ffe7e1eed07fc025257bdb2e3ccd1a067e5ad0"
  },
  "kernelspec": {
   "display_name": "Python 3.10.0 64-bit ('venv-jupyter-3.10': venv)",
   "language": "python",
   "name": "python3"
  },
  "language_info": {
   "codemirror_mode": {
    "name": "ipython",
    "version": 3
   },
   "file_extension": ".py",
   "mimetype": "text/x-python",
   "name": "python",
   "nbconvert_exporter": "python",
   "pygments_lexer": "ipython3",
   "version": "3.13.2"
  }
 },
 "nbformat": 4,
 "nbformat_minor": 2
}
