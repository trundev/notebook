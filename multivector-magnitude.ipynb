{
 "cells": [
  {
   "cell_type": "markdown",
   "metadata": {},
   "source": [
    "Magnitude of Geometric Algebra multi-vector\n",
    "----\n",
    "_Also see this [mathcha.io link](https://www.mathcha.io/editor/6pWdYSXkClosYlt9kZpDqtzD7n2XSwyMjPySlX0Pw)_\n",
    "\n",
    "# Background\n",
    "\n",
    "- Geometric algebra multi-vector is an object to generalize complex numbers, quaternions, dual numbers, etc.\n",
    "\n",
    "- Multi-vector is a linear combination of:\n",
    "  - a scalar\n",
    "  - some vectors - number $dims$, i.e. dimension of the space\n",
    "  - product of combinations of these vectors - number ${dims \\choose k}$, where $k$ is the number of vectors\n",
    "    included in particular combination\n",
    "\n",
    "  The total number of components, denoted as $gaDims$ (geometric algebra dimensions) is equal to:\n",
    "    $$\\sum_{k=0}^{dims}{dims \\choose k} = 2^{dims}$$\n",
    "\n",
    "|dims | gaDims | multi-vector components per grade  |\n",
    "|-----|--------|------------------------------------|\n",
    "|  0  |   1    | scalar: 1                          |\n",
    "|  1  |   2    | scalar: 1, vector: 1               |\n",
    "|  2  |   4    | scalar: 1, vector: 2, bi-vector: 1 |\n",
    "|  3  |   8    | scalar: 1, vector: 3, bi-vector: 3, tri-vector: 1 |\n",
    "|  4  |  16    | scalar: 1, vector: 4, bi-vector: 6, tri-vector: 4, four-vector: 1 |\n",
    "\n",
    "- Matrix-from of a multi-vector is a matrix, with multiplication behavior identical to the multi-vector, i.e.:\n",
    "  - The product of two multi-vectors has the same matrix-form as the product of their matrix-forms\n",
    "  - Just like the matrix product, the  multi-vector product is not commutative, but is associative\n",
    "\n",
    "### Example\n",
    "  Matrix-form of a 2D VGA multi-vector with coefficients $w, x,y, \\alpha$:"
   ]
  },
  {
   "cell_type": "code",
   "execution_count": null,
   "metadata": {},
   "outputs": [],
   "source": [
    "import sympy as sp\n",
    "from IPython.display import Markdown\n",
    "import kingdon\n",
    "\n",
    "g2 = kingdon.Algebra(p=2)\n",
    "mv2 = g2.multivector(sp.symbols('w, x, y, alpha', real=True))\n",
    "mv2_mtx = sp.Matrix(mv2.asmatrix())\n",
    "\n",
    "Markdown(f'$$M_V = {sp.latex(mv2_mtx)}$$')"
   ]
  },
  {
   "cell_type": "markdown",
   "metadata": {},
   "source": [
    "  > __Note__<br>\n",
    "  > `kingdon` generates a column-based matrix form, but there are other forms for the same multi-vector\n",
    "\n",
    "# Conjecture\n",
    "\n",
    "The magnitude of a multi-vector is the n-th root of the determinant of its matrix-form:\n",
    "\n",
    "  $$\\sqrt[n]{\\begin{vmatrix}M_V\\end{vmatrix}} = \\sqrt{\\sqrt{\\dots \\sqrt{\\begin{vmatrix}M_V\\end{vmatrix}}}}$$\n",
    "  - where $n$ is $gaDims = 2^{dims}$ or the matrix size - martix-form of a multi-vector has size of $(gaDims \\times gaDims)$\n",
    "\n",
    "  > This is similar to the definition of \"regular\" vector magnitude: $\\mid \\vec{v} \\mid = \\sqrt{x^2 + y^2}$\n",
    "  >\n",
    "  > But, the square root is taken $dims$ times, not just once!\n",
    "\n",
    "Each multi-vector component is included in its matrix-from $gaDims$ times, once for each row/column\n",
    "(not valid for degenerate metrics, where these are replaced with zeros).\n",
    "Because of this, these components appear in the determinant's polynomial expansion as power of $2, 4, \\dots gaDims$.\n",
    "\n",
    "> __Speculation__<br>\n",
    "> The determinant polynomial can be always factored to a squared polynomial, thus it is always positive.\n",
    "> This square cancels with one of the square roots, which matches the expectation for the magnitude to be positive.\n",
    "\n",
    "### Example\n",
    "- The determinant of a 2D VGA pure-vector (multi-vector of vector components only) is:"
   ]
  },
  {
   "cell_type": "code",
   "execution_count": null,
   "metadata": {},
   "outputs": [],
   "source": [
    "v2 = g2.multivector([0, *sp.symbols('x, y', real=True), 0])\n",
    "v2_mtx = sp.Matrix(v2.asmatrix())\n",
    "v2_det = v2_mtx.det()\n",
    "\n",
    "mag_latex = r'\\left| M_V \\right|'\n",
    "Markdown(f\"\"\"\"\n",
    "    $$M_V = {sp.latex(v2_mtx)}$$\n",
    "    $${mag_latex} = {sp.latex(v2_det)} = {sp.latex(v2_det.factor())}$$\n",
    "    \"\"\")"
   ]
  },
  {
   "cell_type": "markdown",
   "metadata": {},
   "source": [
    "  which makes its magnitude:\n",
    "    "
   ]
  },
  {
   "cell_type": "code",
   "execution_count": null,
   "metadata": {},
   "outputs": [],
   "source": [
    "Markdown(r'$$\\left| \\vec{v} \\right| = \\sqrt{\\sqrt{' + sp.latex(v2_det.factor()) + r'}} = \\sqrt{\\left| '\n",
    "      + sp.latex(sp.sqrt(v2_det.factor())) + r' \\right|}$$')"
   ]
  },
  {
   "cell_type": "markdown",
   "metadata": {},
   "source": [
    "# Generic multi-vector magnitudes\n",
    "\n",
    "Some examples of the multi-vector magnitude in various dimensions. Coefficients are from:\n",
    "  $$w + x\\hat{e_1} + y\\hat{e_2} + z\\hat{e_3} + \\alpha\\hat{e_{12}} + \\beta\\hat{e_{13}} + \\gamma\\hat{e_{23}} + v\\hat{e_{123}}$$\n",
    "\n",
    "- All basis vectors $\\hat{e_1}, \\hat{e_2}, \\hat{e_3}$ are of positive signature\n",
    "  > The negative signs that pops all around, are because of determinant rules\n",
    "  > and basis anti-commutativity embedded in the matrix-form\n",
    "\n",
    "- In some cases (to get better `sympy` polynomial order), $a, b, c, \\dots$ is used instead of $w, x, y, \\dots$:\n",
    "  $$a + b_1\\hat{e_1} + b_2\\hat{e_2} + b_3\\hat{e_3} + c_1\\hat{e_{12}} + c_2\\hat{e_{13}} + c_3\\hat{e_{23}} + d\\hat{e_{123}}$$\n",
    "\n",
    "\n",
    "## Scalar only multi-vector\n",
    "\n",
    "- Matrix and determinant\n",
    "  $$ M_V = \\begin{Vmatrix} w \\end{Vmatrix}$$\n",
    "  $$ \\begin{vmatrix} M_V \\end{vmatrix} = w$$\n",
    "\n",
    "- Magnitude\n",
    "  $$ \\left| V \\right| = w$$\n",
    "\n",
    "## 1D VGA multi-vector\n",
    "\n",
    "- Matrix and determinant"
   ]
  },
  {
   "cell_type": "code",
   "execution_count": null,
   "metadata": {},
   "outputs": [],
   "source": [
    "g1 = kingdon.Algebra(p=1)\n",
    "mv1 = g1.multivector(sp.symbols('w, x', real=True))\n",
    "mv1_mtx = sp.Matrix(mv1.asmatrix())\n",
    "mv1_det = mv1_mtx.det()\n",
    "\n",
    "Markdown(f\"\"\"\"\n",
    "    $$M_V = {sp.latex(mv1_mtx)}$$\n",
    "    $${mag_latex} = {sp.latex(mv1_det)}$$\n",
    "    \"\"\")"
   ]
  },
  {
   "cell_type": "markdown",
   "metadata": {},
   "source": [
    "- Magnitude"
   ]
  },
  {
   "cell_type": "code",
   "execution_count": null,
   "metadata": {},
   "outputs": [],
   "source": [
    "Markdown(r'$$\\mid V \\mid = ' + sp.latex(sp.sqrt(mv1_det)) + '$$')"
   ]
  },
  {
   "cell_type": "markdown",
   "metadata": {},
   "source": [
    "  > __Note__<br>\n",
    "  > The $x^2$ is negated, even if its basis vector $\\hat{e_1}$ is of positive signature. Must be the reason to be called [Hyperbolic Number](https://en.wikipedia.org/wiki/Split-complex_number)."
   ]
  },
  {
   "cell_type": "markdown",
   "metadata": {},
   "source": [
    "## 2D VGA multi-vector\n",
    "\n",
    "- Matrix and determinant\n",
    "  > use $a, b_n, c$ instead of $w, x, y, \\alpha$ to get prettier `sympy` polynomial order "
   ]
  },
  {
   "cell_type": "code",
   "execution_count": null,
   "metadata": {},
   "outputs": [],
   "source": [
    "g2 = kingdon.Algebra(p=2)\n",
    "mv2 = g2.multivector(sp.symbols('a, b_1, b_2, c', real=True))\n",
    "mv2_mtx = sp.Matrix(mv2.asmatrix())\n",
    "mv2_det = mv2_mtx.det()\n",
    "\n",
    "Markdown(f\"\"\"\"\n",
    "    $$M_V = {sp.latex(mv2_mtx)}$$\n",
    "    $${mag_latex} = {sp.latex(mv2_det)} = {sp.latex(mv2_det.factor())}$$\n",
    "    \"\"\")"
   ]
  },
  {
   "cell_type": "markdown",
   "metadata": {},
   "source": [
    "> With $w, x, y, \\alpha$ notation, this is:\n",
    "> $$\\begin{vmatrix}M_V\\end{vmatrix} = w^4 + x^4 + y^4 + \\alpha^4 - 2 w^2 x^2 - 2 w^2 y^2 + 2 w^2 \\alpha^2 - 2 x^2 \\alpha^2 - 2 y^2 \\alpha^2 + 2 x^2 y^2 \\\\\n",
    "  = (w^2 - x^2 - y^2 + \\alpha^2)^2$$\n",
    "\n",
    "  - Magnitude"
   ]
  },
  {
   "cell_type": "code",
   "execution_count": null,
   "metadata": {},
   "outputs": [],
   "source": [
    "Markdown(r'$$\\mid V \\mid = \\sqrt{\\sqrt{' + sp.latex(mv2_det.factor()) + r'}} = '\n",
    "      + sp.latex(sp.sqrt(sp.sqrt(mv2_det.factor()))) + r'$$')"
   ]
  },
  {
   "cell_type": "markdown",
   "metadata": {},
   "source": [
    "  > __Note__<br>\n",
    "  > the signs of $a, c$ vs. $b_1, b_2$ are randomly selected, as the polynomial is squared, just like $(a-b)^2 = (b-a)^2$."
   ]
  },
  {
   "cell_type": "markdown",
   "metadata": {},
   "source": [
    "# Summary\n",
    "\n",
    "Magnitude of generic multi-vector: $w + x\\hat{e_1} + y\\hat{e_2} + z\\hat{e_3} + \\alpha\\hat{e_{12}} + \\beta\\hat{e_{13}} + \\gamma\\hat{e_{23}} + v\\hat{e_{123}}$\n",
    "- $w, x, y, z, \\alpha, \\beta, \\gamma, v$ → real coefficients\n",
    "- $\\hat{e_1}, \\hat{e_2}, \\hat{e_3}$ → basis vectors of positive signature\n",
    "\n",
    "| dims | Multi-vector magnitude its determinant | Comment          |\n",
    "|------|----------------------------------------|------------------|\n",
    "| 0    | $w$                                    | Can be negative  |\n",
    "| 1    | $\\sqrt{w^2 -x^2}$                      | Can be imaginary |\n",
    "| 2    | $\\sqrt{\\mid w^2 - x^2 -y^2 + \\alpha^2 \\mid} $ | Always positive real |\n",
    "| 3    | $\\sqrt[4]{\\mid (w^2 - x^2 - y^2 - z^2 + \\alpha^2 + \\beta^2 + \\gamma^2 - v^2)^2 + 4(-wv + x\\gamma - y\\beta + z\\alpha)^2\\mid}$ | Always positive real |\n"
   ]
  }
 ],
 "metadata": {
  "kernelspec": {
   "display_name": "venv-jupyter",
   "language": "python",
   "name": "python3"
  },
  "language_info": {
   "codemirror_mode": {
    "name": "ipython",
    "version": 3
   },
   "file_extension": ".py",
   "mimetype": "text/x-python",
   "name": "python",
   "nbconvert_exporter": "python",
   "pygments_lexer": "ipython3",
   "version": "3.13.2"
  }
 },
 "nbformat": 4,
 "nbformat_minor": 2
}
