{
 "cells": [
  {
   "attachments": {},
   "cell_type": "markdown",
   "metadata": {},
   "source": [
    "- Option 1: $1^t + 2^t$\n",
    "  - Values: $2, 3, 5, 9$\n",
    "  - Characteristic polymonial is: $(3x-5)^2 - (2x-3)(5x-9)$,\n",
    "    [roots from wolframalpha](https://www.wolframalpha.com/input?i=Polynomials&assumption=%7B%22C%22%2C+%22Polynomials%22%7D+-%3E+%7B%22Calculator%22%7D&assumption=%7B%22F%22%2C+%22PolynomialCalculator%22%2C+%22polynomial%22%7D+-%3E%22%283x-5%29%5E2+-+%282x-3%29%285x-9%29%22)\n",
    "\n",
    "\n",
    "- Option 2: $1^t + 2^t + 3^t$\n",
    "  - Values: $3, 6, 14, 36, 98, 276$\n",
    "  - Characteristic polymonial is\n",
    "  [wolframalpha](https://www.wolframalpha.com/input?i=Polynomials&assumption=%7B%22C%22%2C+%22Polynomials%22%7D+-%3E+%7B%22Calculator%22%7D&assumption=%7B%22F%22%2C+%22PolynomialCalculator%22%2C+%22polynomial%22%7D+-%3E%22%28-20x%5E2%2B84x-76%29%5E2-%28-6x%5E2%2B24x-20%29*%28-76x%5E2%2B336x-332%29%22):\n",
    "   $$ (-20x^2 + 84x - 76)^2-(-6x^2 + 24x - 20)*(-76x^2 + 336x - 332) = -56 x^4 + 480 x^3 - 1480 x^2 + 1920 x - 864 $$\n",
    "\n",
    "  - divided by $14x - 36$, result [wolframalpha](https://www.wolframalpha.com/input?i=Polynomials&assumption=%7B%22C%22%2C+%22Polynomials%22%7D+-%3E+%7B%22Calculator%22%7D&assumption=%7B%22F%22%2C+%22PolynomialCalculator%22%2C+%22polynomial%22%7D+-%3E%22%28-56x%5E4+%2B480x%5E3+-1480x%5E2+%2B1920x-864%29%2F%2814x-36%29%22)\n",
    "\n",
    "    $$\\frac{-56x^4 + 480x^3 - 1480x^2 + 1920x -864}{14x - 36} = -4x^3 + 24x^2 - 44x + 24$$\n",
    "\n"
   ]
  },
  {
   "cell_type": "code",
   "execution_count": null,
   "metadata": {
    "tags": [
     "values"
    ]
   },
   "outputs": [],
   "source": [
    "import numpy as np\n",
    "import IPython.display\n",
    "#import ipywidgets\n",
    "P = np.polynomial.Polynomial\n",
    "Pdiv = np.polynomial.polynomial.polydiv\n",
    "\n",
    "# Option 1: exp-polynomial: 1^t + 2^t\n",
    "t = np.arange(2*2)\n",
    "vals = ((1, 2)**t[:,np.newaxis]).sum(-1)\n",
    "\n",
    "# Option 2: exp-polynomial: 1^t + 2^t + 3^t:\n",
    "#t = np.arange(3*2)\n",
    "#vals = ((1, 2, 3)**t[:,np.newaxis]).sum(-1)\n",
    "\n",
    "# Option 3: regular-polynomial: t+t^2\n",
    "#t = np.arange(3*2)\n",
    "#vals = (t[:,np.newaxis]**(1,2,)).sum(-1)\n",
    "\n",
    "# Option 4: exp-polynomial: t + 2^t\n",
    "#t = np.arange(3*2)\n",
    "#vals = (3*t[:,np.newaxis]**(1,) + (2,)**t[:,np.newaxis]).sum(-1)\n",
    "\n",
    "vals"
   ]
  },
  {
   "cell_type": "code",
   "execution_count": null,
   "metadata": {},
   "outputs": [],
   "source": [
    "# Display array of polynomials together with the roots\n",
    "class disp_polys:\n",
    "    def __init__(self, polys):\n",
    "        self.polys = np.asarray(polys)\n",
    "    @staticmethod\n",
    "    def _get_roots(p):\n",
    "        return (np.real_if_close(r) for r in p.roots())\n",
    "    @staticmethod\n",
    "    def _get_factors(p):\n",
    "        return (f'(x {-r:+.3f})' for r in disp_polys._get_roots(p))\n",
    "    def _repr_latex_(self):\n",
    "        mtx = []\n",
    "        for p in self.polys.flat:\n",
    "            row = p._repr_latex_()[1:-1]\n",
    "            row += '&' + '&'.join(self._get_factors(p))\n",
    "            mtx.append(row)\n",
    "        return '$\\\\begin{matrix}' + ' \\\\\\\\ '.join(mtx) + '\\\\end{matrix}$'\n",
    "    def _repr_html_(self):\n",
    "        mtx = []\n",
    "        for p in self.polys.flat:\n",
    "            row = f'<td>{p}</td><td>' + '</td><td>'.join(self._get_factors(p)) + '</td>'\n",
    "            mtx.append(row)\n",
    "        return '<table><tr>' + '</tr><tr>'.join(mtx) + '</tr></table>'\n"
   ]
  },
  {
   "cell_type": "code",
   "execution_count": null,
   "metadata": {
    "tags": [
     "numberwall"
    ]
   },
   "outputs": [],
   "source": [
    "# Convert to row of one-degree polynomials: (x*v0 - v1)\n",
    "vals_p = vals[np.arange(vals.size - 1)[:, np.newaxis] + np.arange(2)[::-1]]\n",
    "vals_p[...,0] *= -1\n",
    "nw1 = np.apply_along_axis(P, -1, vals_p)\n",
    "del vals_p\n",
    "display(f'row_1:')\n",
    "display(disp_polys(nw1))#, include=['text/html', 'text/latex'])\n"
   ]
  },
  {
   "cell_type": "code",
   "execution_count": null,
   "metadata": {},
   "outputs": [],
   "source": [
    "nw = np.full((1 + (nw1.shape[0] + 1)//2,) + nw1.shape, None)\n",
    "nw[0] = P(1)\n",
    "nw[1] = nw1\n",
    "def polydiv(p0, p1):\n",
    "    display('polydiv:', disp_polys((p0,p1)))###\n",
    "    res = np.polynomial.polynomial.polydiv(p0.coef, p1.coef)\n",
    "    np.testing.assert_allclose(res[1], 0, atol=1e-10, err_msg='Non-zero polynomial division remainder')\n",
    "    return P(res[0])\n",
    "polydiv = np.vectorize(polydiv, otypes=nw.dtype.char)\n",
    "for i in range(1, nw.shape[0]-1):\n",
    "    end = nw.shape[-1]-i\n",
    "    nw_sl = nw[i+1, i:end]\n",
    "    display(f'row_{i+1}: {nw_sl.shape}')\n",
    "    nw_sl[...] = nw[i, i:end]*nw[i, i:end] - nw[i, i-1:end-1]*nw[i, i+1:end+1]\n",
    "    nw_sl[...] = polydiv(nw[i+1, i:end], nw[i-1, i:end])\n",
    "    #print(f'{i:03}:', '\\n     '.join(disp(nw[i+1])))\n",
    "    display(disp_polys(nw_sl))\n",
    "del i"
   ]
  },
  {
   "cell_type": "code",
   "execution_count": null,
   "metadata": {},
   "outputs": [],
   "source": [
    "final_idx = -1, nw.shape[-1]//2\n",
    "disp_polys(nw[final_idx])"
   ]
  }
 ],
 "metadata": {
  "kernelspec": {
   "display_name": "venv-jupyter-3.11",
   "language": "python",
   "name": "python3"
  },
  "language_info": {
   "codemirror_mode": {
    "name": "ipython",
    "version": 3
   },
   "file_extension": ".py",
   "mimetype": "text/x-python",
   "name": "python",
   "nbconvert_exporter": "python",
   "pygments_lexer": "ipython3",
   "version": "3.11.1"
  },
  "orig_nbformat": 4,
  "vscode": {
   "interpreter": {
    "hash": "8756ea17fb43c1c3af3f1039a2a14bbc0757a2c6280de953f492536f87c09e77"
   }
  }
 },
 "nbformat": 4,
 "nbformat_minor": 2
}
