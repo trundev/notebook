{
 "cells": [
  {
   "cell_type": "markdown",
   "metadata": {},
   "source": [
    "# Resistor inductor capacitor circuit model\n",
    "\n",
    "Model of [RLC cicuit](https://en.wikipedia.org/wiki/RLC_circuit), by using the Euler's function\n",
    "$e^{(a+ib)t}$ as solution for differential equation:\n",
    "$$L\\frac{\\partial^2 f(t)}{\\partial t^2} + R\\frac{\\partial f(t)}{\\partial t} + \\frac{1}C f(t) = 0$$\n",
    "\n",
    "> Note:  \n",
    "> Precisely, the $e^{(a+ib)t+(c+id)}$ is also a solution, where the exponent is a first degree polynomial\n",
    "> with complex coefficients, like $\\Omega t+\\Phi$.\n",
    "> However, a higher degree polynomial in the exponent should not be a solution, as the differential equation\n",
    "> will require specific values of $t$.\n",
    "\n",
    "The exponent coefficients can be easily calculated from a few circuit signal values over the time.\n",
    "The problem is that this requires the _actual complex_ values of this asignal, but in real-world scenario\n",
    "we have the _real_ parts only.\n",
    "\n",
    "This is an attempt to reconstruct the _actual imaginary_ part of a circuit signal values, in order to\n",
    "calculate all the coefficients of the Euler's function, that drives that signal."
   ]
  },
  {
   "cell_type": "code",
   "execution_count": null,
   "metadata": {},
   "outputs": [],
   "source": [
    "# Preparation\n",
    "import cmath\n",
    "import matplotlib.pyplot as plt\n",
    "\n",
    "def calc_euler(euler_omega: complex, t: float) -> complex:\n",
    "    \"\"\"Euler foumula\"\"\"\n",
    "    return cmath.e ** (euler_omega * t)\n",
    "\n",
    "EPSILON=1e-14\n",
    "def crop_val(v: float, limit: float=1/EPSILON) -> float:\n",
    "    return v if abs(v) < limit else cmath.nan\n",
    "\n",
    "# Input values\n",
    "OMEGA = complex(-cmath.pi/32, cmath.pi/6)\n",
    "t_range = range(40)\n",
    "func_vals = [calc_euler(OMEGA, t) for t in t_range]"
   ]
  },
  {
   "cell_type": "markdown",
   "metadata": {},
   "source": [
    "## Reference plots\n",
    "\n",
    "These plots demonstrate the simplification, to be achieved by using the actual complex signal value.\n",
    "Of course, this requires to discover its imaginary component part, by using the real one.\n",
    "\n",
    "### Complex logarithm\n",
    "\n",
    "Below is a plot of the real part of the base function $e^{(a+ib)t}$ and its logarithm."
   ]
  },
  {
   "cell_type": "code",
   "execution_count": null,
   "metadata": {},
   "outputs": [],
   "source": [
    "# Function and logarithm plot\n",
    "log_vals = [cmath.log(v) for v in func_vals]\n",
    "\n",
    "plt.plot([v.real for v in func_vals], label='function')\n",
    "plt.plot([v.real for v in log_vals], label='logarithm/real')\n",
    "plt.plot([v.imag for v in log_vals], label='logarithm/imag')\n",
    "plt.legend()\n",
    "plt.show()"
   ]
  },
  {
   "cell_type": "markdown",
   "metadata": {},
   "source": [
    "> Both real and imaginary components of the logarithm are linear, even if the imaginary wraps around $\\pm\\pi$.\n",
    "> However, this is just because this is a logarithm from the actual complex value.\n",
    "\n",
    "### Complex ratio with the derivative\n",
    "\n",
    "Below is a plot of the real part of the base function $e^{(a+ib)t}$ and its derivative $(a+ib)e^{(a+ib)t}$,\n",
    "together with their ratio $\\frac{(a+ib)e^{(a+ib)t}}{e^{(a+ib)t}} = a+ib$."
   ]
  },
  {
   "cell_type": "code",
   "execution_count": null,
   "metadata": {},
   "outputs": [],
   "source": [
    "# Function and derivative plot\n",
    "deriv_vals = [(OMEGA * calc_euler(OMEGA, t)) for t in t_range]\n",
    "\n",
    "plt.plot([v.real for v in func_vals], label='function')\n",
    "plt.plot([v.real for v in deriv_vals], label='derivative')\n",
    "plt.plot([(dv/fv).real for fv,dv in zip(func_vals, deriv_vals)],\n",
    "        label='ratio/real', linestyle='--')\n",
    "plt.plot([(dv/fv).imag for fv,dv in zip(func_vals, deriv_vals)],\n",
    "        label='ratio/imag', linestyle='--')\n",
    "plt.legend()\n",
    "plt.show()"
   ]
  },
  {
   "cell_type": "markdown",
   "metadata": {},
   "source": [
    "\n",
    "> Both real and imaginary components of the ratio are constant.\n",
    "> However, this is just because we are dividing the actual complex values.\n",
    "\n",
    "## Deduction of signal imaginary value\n",
    "\n",
    "The signal imaginary value should be able to be obtained by analysing its logarithm and/or derivative.\n",
    "\n",
    "### Using real part of the logarithm only\n",
    "\n",
    "Since $e^{(a+ib)t} = e^{at}cos(bt) + i.e^{at}sin(bt)$, the logarithm of its real part is:\n",
    "$$log(e^{at}cos(bt)) = at + log(cos(bt))$$"
   ]
  },
  {
   "cell_type": "code",
   "execution_count": null,
   "metadata": {},
   "outputs": [],
   "source": [
    "# Logarithm of function's real part plot\n",
    "log_r_vals = [cmath.log(v.real).real for v in func_vals]\n",
    "\n",
    "crop_at = 30*max(v.real for v in func_vals)\n",
    "plt.plot([v.real for v in func_vals], label='function')\n",
    "plt.plot([v.real for v in log_vals], label='logarithm/real', linestyle='--')\n",
    "plt.plot([v.imag for v in log_vals], label='logarithm/imag', linestyle='--')\n",
    "plt.plot([crop_val(v, crop_at) for v in log_r_vals], label='real logarithm')\n",
    "plt.plot([OMEGA.real*t + crop_val(cmath.log(cmath.cos(OMEGA.imag*t)).real, crop_at) for t in t_range],\n",
    "        label='at+log(cos(bt))', linestyle=':')\n",
    "plt.legend()\n",
    "plt.show()"
   ]
  },
  {
   "cell_type": "markdown",
   "metadata": {},
   "source": [
    "### Using real part of derivative and function only\n",
    "\n",
    "Since $e^{(a+ib)t} = e^{at}cos(bt) + i.e^{at}sin(bt)$, the derivative of its real part\n",
    "$e^{at}cos(bt)$ is:\n",
    "\n",
    "$$\\frac{\\partial e^{at}cos(bt)}{\\partial t} = ae^{at}cos(bt) - be^{at}sin(bt)$$\n",
    "\n",
    "> The real part of actual derivative is the same as the derivative of the real part above.\n",
    "\n",
    "#### Main problem to be solved\n",
    "\n",
    "The ratio between these real parts is **NOT** a constant, but instead:\n",
    "$$\\frac{ae^{at}cos(bt) - be^{at}sin(bt)}{e^{at}cos(bt)} = a - b.tan(bt)$$"
   ]
  },
  {
   "cell_type": "code",
   "execution_count": null,
   "metadata": {},
   "outputs": [],
   "source": [
    "# Ratio between real part of derivative and function plot\n",
    "plt.plot([v.real for v in func_vals], label='function')\n",
    "plt.plot([v.real for v in deriv_vals], label='derivative')\n",
    "plt.plot([crop_val(dv.real/fv.real) for fv,dv in zip(func_vals, deriv_vals)],\n",
    "        label='ratio')\n",
    "plt.plot([OMEGA.real - OMEGA.imag*crop_val(cmath.tan(OMEGA.imag*t)).real for t in t_range],\n",
    "        label='a-b.tan(b)', linestyle=':')\n",
    "plt.legend()\n",
    "plt.show()"
   ]
  }
 ],
 "metadata": {
  "interpreter": {
   "hash": "5b45008d1052bf03c6dd057f2fb96771423420f75e961c696172b56dbb6d516e"
  },
  "kernelspec": {
   "display_name": "Python 3.8.10 64-bit ('venv-jupyter': venv)",
   "name": "python3"
  },
  "language_info": {
   "codemirror_mode": {
    "name": "ipython",
    "version": 3
   },
   "file_extension": ".py",
   "mimetype": "text/x-python",
   "name": "python",
   "nbconvert_exporter": "python",
   "pygments_lexer": "ipython3",
   "version": "3.8.10"
  },
  "orig_nbformat": 4
 },
 "nbformat": 4,
 "nbformat_minor": 2
}
