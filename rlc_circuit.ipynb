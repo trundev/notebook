{
 "cells": [
  {
   "cell_type": "markdown",
   "metadata": {},
   "source": [
    "# Resistor inductor capacitor circuit model\n",
    "\n",
    "Model of [RLC cicuit](https://en.wikipedia.org/wiki/RLC_circuit), by using the Euler's function\n",
    "$e^{(a+ib)x}$ as solution for differential equation:\n",
    "$$L\\frac{\\partial^2 f(t)}{\\partial t^2} + R\\frac{\\partial f(t)}{\\partial t} + \\frac{1}C f(t) = 0$$\n",
    "\n",
    "> Note:  \n",
    "> Precisely, the $e^{(a+ib)x+(c+id)}$ is also a solution, where the exponent is a first degree polynomial\n",
    "> with complex coefficients, like $\\Omega x+\\Phi$.\n",
    "> However, a higher degree polynomial in the exponent should not be a solution, as the differential equation\n",
    "> will require specific values of $t$.\n",
    "\n",
    "The exponent coefficients can be easily calculated from a few circuit signal values over the time.\n",
    "The problem is that this requires the _actual complex_ values of this asignal, but in real-world scenario\n",
    "we have the _real_ parts only.\n",
    "\n",
    "This is an attempt to reconstruct the _actual imaginary_ part of a circuit signal values, in order to\n",
    "calculate all the coefficients of the Euler's function, that drives that signal."
   ]
  },
  {
   "cell_type": "code",
   "execution_count": null,
   "metadata": {},
   "outputs": [],
   "source": [
    "# Preparation\n",
    "import cmath\n",
    "import matplotlib.pyplot as plt\n",
    "\n",
    "def calc_euler(euler_omega: complex, t: float) -> complex:\n",
    "    \"\"\"Euler foumula\"\"\"\n",
    "    return cmath.e ** (euler_omega * t)\n",
    "\n",
    "# Input values\n",
    "OMEGA = complex(-cmath.pi/32, cmath.pi/6)\n",
    "t_range = range(40)\n",
    "func_vals = [calc_euler(OMEGA, t) for t in t_range]"
   ]
  },
  {
   "cell_type": "markdown",
   "metadata": {},
   "source": [
    "## Reference plots\n",
    "\n",
    "These plots demonstrate the simplification, to be achieved by using the actual complex signal value.\n",
    "Of course, this requires to discover its imaginary component part, by using the real one.\n",
    "\n",
    "### Complex logarithm\n",
    "\n",
    "Below is a plot of the real part of the base function $e^{(a+ib)x}$ and its logarithm.\n",
    "\n",
    "> Both real and imaginary components of the logarithm are linear, even if the imaginary wraps around $\\pm\\pi$.\n",
    "> However, this is just because this is a logarithm from the actual complex value."
   ]
  },
  {
   "cell_type": "code",
   "execution_count": null,
   "metadata": {},
   "outputs": [],
   "source": [
    "# Function and logarithm plot\n",
    "log_vals = [cmath.log(v) for v in func_vals]\n",
    "\n",
    "plt.plot([v.real for v in func_vals], label='function')\n",
    "plt.plot([v.real for v in log_vals], label='logarithm/real')\n",
    "plt.plot([v.imag for v in log_vals], label='logarithm/real')\n",
    "plt.legend()\n",
    "plt.show()"
   ]
  },
  {
   "cell_type": "markdown",
   "metadata": {},
   "source": [
    "### Complex ratio with the derivative\n",
    "\n",
    "Below is a plot of the real part of the base function $e^{(a+ib)x}$ and its derivative $(a+ib)e^{(a+ib)x}$,\n",
    "together with their ratio $\\frac{(a+ib)e^{(a+ib)x}}{e^{(a+ib)x}} = a+ib$.\n",
    "\n",
    "> Both real and imaginary components of the ratio are constant.\n",
    "> However, this is just because we are dividing the actual complex values."
   ]
  },
  {
   "cell_type": "code",
   "execution_count": null,
   "metadata": {},
   "outputs": [],
   "source": [
    "# Function and derivative plot\n",
    "deriv_vals = [(OMEGA * calc_euler(OMEGA, t)) for t in t_range]\n",
    "\n",
    "plt.plot([v.real for v in func_vals], label='function')\n",
    "plt.plot([v.real for v in deriv_vals], label='derivative')\n",
    "plt.plot([(dv/fv).real for fv,dv in zip(func_vals, deriv_vals)],\n",
    "        label='ratio/real', linestyle='--')\n",
    "plt.plot([(dv/fv).imag for fv,dv in zip(func_vals, deriv_vals)],\n",
    "        label='ratio/imag', linestyle='--')\n",
    "plt.legend()\n",
    "plt.show()"
   ]
  },
  {
   "cell_type": "markdown",
   "metadata": {},
   "source": [
    "## Deduction of signal imaginary value\n",
    "\n",
    "### Using real part of derivative and function only\n",
    "\n",
    "Since $e^{(a+ib)x} = e^{ax}cos(bx) + i.e^{ax}sin(bx)$, the derivative of its real part\n",
    "$e^{ax}cos(bx)$ is:\n",
    "\n",
    "$$\\frac{\\partial e^{ax}cos(bx)}{\\partial x} = ae^{ax}cos(bx) - be^{ax}sin(bx)$$\n",
    "\n",
    "> The real part of actual derivative is the same as the derivative of the real part above.\n",
    "\n",
    "#### Main problem to be solved\n",
    "\n",
    "The ratio between these real parts is **NOT** a constant, but instead:\n",
    "$$\\frac{ae^{ax}cos(bx) - be^{ax}sin(bx)}{e^{ax}cos(bx)} = a - b.tan(bx)$$"
   ]
  },
  {
   "cell_type": "code",
   "execution_count": null,
   "metadata": {},
   "outputs": [],
   "source": [
    "# Ratio between real part of derivative and function plot\n",
    "EPSILON=1e-14\n",
    "def crop_val(v):\n",
    "    return v if abs(v) < 1/EPSILON else cmath.nan\n",
    "plt.plot([v.real for v in func_vals], label='function')\n",
    "plt.plot([v.real for v in deriv_vals], label='derivative')\n",
    "plt.plot([crop_val(dv.real/fv.real) for fv,dv in zip(func_vals, deriv_vals)],\n",
    "        label='ratio')\n",
    "plt.plot([OMEGA.real - OMEGA.imag*crop_val(cmath.tan(OMEGA.imag*t)) for t in t_range],\n",
    "        label='a-b.tan(b)', linestyle=':')\n",
    "plt.legend()\n",
    "plt.show()"
   ]
  }
 ],
 "metadata": {
  "interpreter": {
   "hash": "5b45008d1052bf03c6dd057f2fb96771423420f75e961c696172b56dbb6d516e"
  },
  "kernelspec": {
   "display_name": "Python 3.8.10 64-bit ('venv-jupyter': venv)",
   "name": "python3"
  },
  "language_info": {
   "codemirror_mode": {
    "name": "ipython",
    "version": 3
   },
   "file_extension": ".py",
   "mimetype": "text/x-python",
   "name": "python",
   "nbconvert_exporter": "python",
   "pygments_lexer": "ipython3",
   "version": "3.8.10"
  },
  "orig_nbformat": 4
 },
 "nbformat": 4,
 "nbformat_minor": 2
}
