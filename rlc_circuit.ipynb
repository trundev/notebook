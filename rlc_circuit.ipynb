{
 "cells": [
  {
   "cell_type": "markdown",
   "metadata": {},
   "source": [
    "# Resistor inductor capacitor circuit model\n",
    "\n",
    "Model of [RLC cicuit](https://en.wikipedia.org/wiki/RLC_circuit), by using the Euler's function\n",
    "$e^{(a+ib)t}$ as solution for differential equation:\n",
    "$$L\\frac{\\partial^2 f(t)}{\\partial t^2} + R\\frac{\\partial f(t)}{\\partial t} + \\frac{1}C f(t) = 0$$\n",
    "\n",
    "> Note:  \n",
    "> Precisely, the $e^{(a+ib)t+(c+id)}$ is also a solution, where the exponent is a first degree polynomial\n",
    "> with complex coefficients, like $\\Omega t+\\Phi$.\n",
    "> However, a higher degree polynomial in the exponent should not be a solution, as the differential equation\n",
    "> will require specific values of $t$.\n",
    "\n",
    "The exponent coefficients can be easily calculated from a few circuit signal values over the time.\n",
    "The problem is that this requires the _actual complex_ values of this asignal, but in real-world scenario\n",
    "we have the _real_ parts only.\n",
    "\n",
    "This is an attempt to reconstruct the _actual imaginary_ part of a circuit signal values, in order to\n",
    "calculate all the coefficients of the Euler's function, that drives that signal.\n",
    "\n",
    "## Background\n",
    "\n",
    "The relation between $L$, $R$, $\\frac{1}C$ and exponent coefficients, can be obtained by solving the equation\n",
    "by using the Euler's function:\n",
    "$$L\\frac{\\partial^2 e^{(a+ib)t}}{\\partial t^2} + R\\frac{\\partial e^{(a+ib)t}}{\\partial t} + \\frac{1}C e^{(a+ib)t} = $$\n",
    "$$= L(a+ib)^2e^{(a+ib)t} + R(a+ib)e^{(a+ib)t} + \\frac{1}C e^{(a+ib)t} = 0 \\implies$$\n",
    "$$\\implies \\boxed{L(a+ib)^2 + R(a+ib) + \\frac{1}C = 0}$$\n",
    "\n",
    "> $a$ is the inverted [time-constant](https://en.wikipedia.org/wiki/Time_constant) ($\\frac{1}\\tau$)  \n",
    "> $b$ is angular frequency of the oscillation ($\\omega$)\n",
    "\n",
    "### Exponent coefficients from circuit parameters\n",
    "\n",
    "If $a$ and $b$ are the unknowns, this can be solved as system of two equations, for the real and imaginary components:\n",
    "\n",
    "$L(a^2-b^2+i2ab) + R(a+ib) + \\frac{1}C = (La^2 - Lb^2 + Ra + \\frac{1}C) + i(2La + R)b = 0$\n",
    "\n",
    "$\\begin{cases}L(a^2-b^2) + Ra + \\frac{1}C = 0 \\\\ (2La + R)b = 0\\end{cases}$\n",
    "\n",
    "- Solutions of the imaginary component:\n",
    "\n",
    "  $\\begin{cases}a \\to \\text{any}, b=0 \\\\ a=-\\frac{R}{2L}, b\\to \\text{any}\\end{cases}$\n",
    "\n",
    "- Replace in the real component:\n",
    "\n",
    "  - $b=0 \\implies La^2 + Ra + \\frac{1}C = 0$ $\\to$ _quadratic equation_\n",
    "\n",
    "    $\\boxed{a = \\frac{-R \\pm\\sqrt{R^2 - 4\\frac{L}{C}}}{2L}}$\n",
    "\n",
    "  - $a=-\\frac{R}{2L} \\implies L\\frac{R^2}{4L^2} - Lb^2 - R\\frac{R}{2L} + \\frac{1}C = \\left(\\frac{R^2}{4L} - \\frac{R^2}{2L}\\right) - Lb^2 + \\frac{1}C = 0$\n",
    "\n",
    "    $Lb^2 = -\\frac{R^2}{4L} + \\frac{1}C \\implies \\boxed{b = \\pm\\frac{\\sqrt{4\\frac{L}C - R^2}}{2L}}$\n",
    "\n",
    "    when $4\\frac{L}C < R^2$, $b$ is imaginary number $\\implies ib$ is real, thus it is actually part of $a$:\n",
    "\n",
    "    $a+ib = -\\frac{R}{2L} + i^2\\frac{\\pm\\sqrt{R^2-4\\frac{L}C}}{2L} \\implies a = \\frac{-R \\pm\\sqrt{R^2 - 4\\frac{L}{C}}}{2L}$ $\\to$ _the same as_ $b=0$ _case_\n",
    "\n",
    "- Summary of possible solutions for $a$ and $b$:\n",
    "\n",
    "$$\\begin{cases} a = \\frac{-R \\pm\\sqrt{R^2 - 4\\frac{L}{C}}}{2L}, b = 0; \\text{if } 4\\frac{L}C < R^2 \\\\ a=-\\frac{R}{2L}, b = \\pm\\frac{\\sqrt{4\\frac{L}C - R^2}}{2L}; \\text{if } 4\\frac{L}C > R^2\\end{cases}$$\n",
    "\n",
    "### Circuit parameters from exponent coefficients\n",
    "\n",
    "If $L$, $R$ and $C$ need to be found, this can be solved for some a combined unknowns, like $LC$ and $RC$:\n",
    "\n",
    "$\\begin{cases}(a^2-b^2)L + aR + \\frac{1}C = 0 \\\\ (2La + R)b = 0\\end{cases}$\n",
    "\n",
    "- When $b \\ne 0$ (oscillating system)\n",
    "\n",
    "  - From the imaginary component: $\\frac{R}L=-2a$\n",
    "\n",
    "  - From the real component: $a^2 - b^2 + \\frac{R}{L}a+\\frac{1}{LC} = a^2 - b^2 - 2a^2 + \\frac{1}{LC} = 0$\n",
    "    $\\implies \\frac{1}{LC} = a^2 + b^2$\n",
    "\n",
    "    $$\\begin{cases}LC = \\frac{1}{a^2 + b^2} \\\\ RC = -\\frac{2a}{a^2 + b^2}\\end{cases}$$\n",
    "\n",
    "- When $b = 0$ (exponential _decay_ only), the imaginary component does not bind $L$ and $R$\n",
    "\n",
    "  $La^2 + Ra + \\frac{1}C = 0$ $\\implies a^2LC + aRC = -1$\n",
    "  $$LC = -\\frac{aRC + 1}{a^2} \\text{ or } RC = -\\frac{a^2LC + 1}{a}$$"
   ]
  },
  {
   "cell_type": "markdown",
   "metadata": {},
   "source": [
    "## Reference plots\n",
    "\n",
    "These plots demonstrate the simplification, to be achieved by using the actual complex signal value.\n",
    "Of course, this requires to discover its imaginary component part, by using the real one.\n"
   ]
  },
  {
   "cell_type": "code",
   "execution_count": 1,
   "metadata": {
    "execution": {
     "iopub.execute_input": "2021-11-30T20:40:53.996835Z",
     "iopub.status.busy": "2021-11-30T20:40:53.995833Z",
     "iopub.status.idle": "2021-11-30T20:40:54.012834Z",
     "shell.execute_reply": "2021-11-30T20:40:54.013838Z"
    }
   },
   "outputs": [],
   "source": [
    "# Preparation\n",
    "import cmath\n",
    "import plotly.graph_objects as go\n",
    "\n",
    "def calc_euler_deriv(euler_omega: complex, t: float, lvl: int=0) -> complex:\n",
    "    \"\"\"Euler foumula\"\"\"\n",
    "    return euler_omega ** lvl * cmath.e ** (euler_omega * t)\n",
    "\n",
    "EPSILON=1e-14\n",
    "def crop_val(v: float, limit: float=1/EPSILON) -> float:\n",
    "    return v if abs(v) < limit else cmath.nan\n",
    "\n",
    "# Input values\n",
    "OMEGA = complex(-cmath.pi/32, cmath.pi/6)\n",
    "t_range = range(40)\n",
    "deriv_vals = []\n",
    "for lvl in range(4):\n",
    "    deriv_vals.append([calc_euler_deriv(OMEGA, t, lvl) for t in t_range])\n",
    "func_vals = deriv_vals[0]\n",
    "\n",
    "# Default plotly figure parameters\n",
    "DEF_FIGURE={'layout': {'margin': {'b': 8, 'l': 8, 'r': 8, 't': 8}}}"
   ]
  },
  {
   "cell_type": "markdown",
   "metadata": {},
   "source": [
    "### Complex logarithm\n",
    "\n",
    "Below is a plot of the real part of the base function $e^{(a+ib)t}$ and its logarithm."
   ]
  },
  {
   "cell_type": "code",
   "execution_count": 2,
   "metadata": {
    "execution": {
     "iopub.execute_input": "2021-11-30T20:40:54.018838Z",
     "iopub.status.busy": "2021-11-30T20:40:54.018838Z",
     "iopub.status.idle": "2021-11-30T20:40:57.296557Z",
     "shell.execute_reply": "2021-11-30T20:40:57.297561Z"
    }
   },
   "outputs": [
    {
     "data": {
      "application/vnd.plotly.v1+json": {
       "config": {
        "plotlyServerURL": "https://plot.ly"
       },
       "data": [
        {
         "name": "function",
         "type": "scatter",
         "y": [
          1.0,
          0.7850437685412247,
          0.41086247901693873,
          4.561110280047519e-17,
          -0.33761595332788846,
          -0.5300866006403276,
          -0.5548549101598534,
          -0.43558538966549404,
          -0.22796906388299834,
          -7.592263303994851e-17,
          0.18732786945227867,
          0.29412115317523113,
          0.307863971328499,
          0.2416866922497925,
          0.12648975446002694,
          2.7389027068083124e-16,
          -0.1039397881753808,
          -0.16319456602115523,
          -0.17081983615293003,
          -0.1341010479150908,
          -0.07018346134706029,
          -5.4538967749921336e-17,
          0.05767150183008511,
          0.09054930626824437,
          0.09478022484215487,
          0.0744066248932699,
          0.03894163814043068,
          1.6431886230134883e-16,
          -0.03199931596671569,
          -0.05024172719450377,
          -0.052589273139724564,
          -0.041284881170453196,
          -0.0216069591318862,
          -9.597043706654071e-17,
          0.01775497758588873,
          0.02787686902878223,
          0.02917941642331386,
          0.022907119032792026,
          0.011988727367950347,
          5.591147896084061e-17
         ]
        },
        {
         "name": "logarithm/real",
         "type": "scatter",
         "y": [
          0.0,
          -0.09817477042468101,
          -0.19634954084936196,
          -0.29452431127404305,
          -0.39269908169872425,
          -0.4908738521234052,
          -0.5890486225480862,
          -0.6872233929727672,
          -0.7853981633974481,
          -0.8835729338221292,
          -0.9817477042468102,
          -1.0799224746714913,
          -1.1780972450961724,
          -1.2762720155208536,
          -1.3744467859455343,
          -1.4726215563702152,
          -1.5707963267948966,
          -1.6689710972195775,
          -1.7671458676442584,
          -1.8653206380689393,
          -1.9634954084936205,
          -2.061670178918302,
          -2.1598449493429825,
          -2.2580197197676637,
          -2.356194490192345,
          -2.454369260617026,
          -2.552544031041707,
          -2.650718801466388,
          -2.748893571891069,
          -2.84706834231575,
          -2.945243112740431,
          -3.043417883165112,
          -3.1415926535897927,
          -3.2397674240144743,
          -3.3379421944391554,
          -3.436116964863836,
          -3.5342917352885173,
          -3.6324665057131984,
          -3.7306412761378787,
          -3.8288160465625602
         ]
        },
        {
         "name": "logarithm/imag",
         "type": "scatter",
         "y": [
          0.0,
          0.5235987755982988,
          1.0471975511965976,
          1.5707963267948966,
          2.0943951023931953,
          2.617993877991494,
          3.141592653589793,
          -2.617993877991495,
          -2.094395102393196,
          -1.5707963267948968,
          -1.0471975511965985,
          -0.5235987755982994,
          -2.4492935982947064e-16,
          0.523598775598298,
          1.0471975511965972,
          1.5707963267948954,
          2.0943951023931944,
          2.6179938779914926,
          3.1415926535897927,
          -2.6179938779914953,
          -2.094395102393197,
          -1.570796326794897,
          -1.0471975511965987,
          -0.5235987755983006,
          -4.898587196589413e-16,
          0.5235987755982978,
          1.047197551196596,
          1.5707963267948943,
          2.0943951023931944,
          2.6179938779914926,
          3.141592653589791,
          -2.6179938779914957,
          -2.0943951023931975,
          -1.570796326794899,
          -1.0471975511966007,
          -0.5235987755983026,
          -7.347880794884119e-16,
          0.5235987755982976,
          1.0471975511965959,
          1.5707963267948941
         ]
        }
       ],
       "layout": {
        "margin": {
         "b": 8,
         "l": 8,
         "r": 8,
         "t": 8
        },
        "template": {
         "data": {
          "bar": [
           {
            "error_x": {
             "color": "#2a3f5f"
            },
            "error_y": {
             "color": "#2a3f5f"
            },
            "marker": {
             "line": {
              "color": "#E5ECF6",
              "width": 0.5
             },
             "pattern": {
              "fillmode": "overlay",
              "size": 10,
              "solidity": 0.2
             }
            },
            "type": "bar"
           }
          ],
          "barpolar": [
           {
            "marker": {
             "line": {
              "color": "#E5ECF6",
              "width": 0.5
             },
             "pattern": {
              "fillmode": "overlay",
              "size": 10,
              "solidity": 0.2
             }
            },
            "type": "barpolar"
           }
          ],
          "carpet": [
           {
            "aaxis": {
             "endlinecolor": "#2a3f5f",
             "gridcolor": "white",
             "linecolor": "white",
             "minorgridcolor": "white",
             "startlinecolor": "#2a3f5f"
            },
            "baxis": {
             "endlinecolor": "#2a3f5f",
             "gridcolor": "white",
             "linecolor": "white",
             "minorgridcolor": "white",
             "startlinecolor": "#2a3f5f"
            },
            "type": "carpet"
           }
          ],
          "choropleth": [
           {
            "colorbar": {
             "outlinewidth": 0,
             "ticks": ""
            },
            "type": "choropleth"
           }
          ],
          "contour": [
           {
            "colorbar": {
             "outlinewidth": 0,
             "ticks": ""
            },
            "colorscale": [
             [
              0.0,
              "#0d0887"
             ],
             [
              0.1111111111111111,
              "#46039f"
             ],
             [
              0.2222222222222222,
              "#7201a8"
             ],
             [
              0.3333333333333333,
              "#9c179e"
             ],
             [
              0.4444444444444444,
              "#bd3786"
             ],
             [
              0.5555555555555556,
              "#d8576b"
             ],
             [
              0.6666666666666666,
              "#ed7953"
             ],
             [
              0.7777777777777778,
              "#fb9f3a"
             ],
             [
              0.8888888888888888,
              "#fdca26"
             ],
             [
              1.0,
              "#f0f921"
             ]
            ],
            "type": "contour"
           }
          ],
          "contourcarpet": [
           {
            "colorbar": {
             "outlinewidth": 0,
             "ticks": ""
            },
            "type": "contourcarpet"
           }
          ],
          "heatmap": [
           {
            "colorbar": {
             "outlinewidth": 0,
             "ticks": ""
            },
            "colorscale": [
             [
              0.0,
              "#0d0887"
             ],
             [
              0.1111111111111111,
              "#46039f"
             ],
             [
              0.2222222222222222,
              "#7201a8"
             ],
             [
              0.3333333333333333,
              "#9c179e"
             ],
             [
              0.4444444444444444,
              "#bd3786"
             ],
             [
              0.5555555555555556,
              "#d8576b"
             ],
             [
              0.6666666666666666,
              "#ed7953"
             ],
             [
              0.7777777777777778,
              "#fb9f3a"
             ],
             [
              0.8888888888888888,
              "#fdca26"
             ],
             [
              1.0,
              "#f0f921"
             ]
            ],
            "type": "heatmap"
           }
          ],
          "heatmapgl": [
           {
            "colorbar": {
             "outlinewidth": 0,
             "ticks": ""
            },
            "colorscale": [
             [
              0.0,
              "#0d0887"
             ],
             [
              0.1111111111111111,
              "#46039f"
             ],
             [
              0.2222222222222222,
              "#7201a8"
             ],
             [
              0.3333333333333333,
              "#9c179e"
             ],
             [
              0.4444444444444444,
              "#bd3786"
             ],
             [
              0.5555555555555556,
              "#d8576b"
             ],
             [
              0.6666666666666666,
              "#ed7953"
             ],
             [
              0.7777777777777778,
              "#fb9f3a"
             ],
             [
              0.8888888888888888,
              "#fdca26"
             ],
             [
              1.0,
              "#f0f921"
             ]
            ],
            "type": "heatmapgl"
           }
          ],
          "histogram": [
           {
            "marker": {
             "pattern": {
              "fillmode": "overlay",
              "size": 10,
              "solidity": 0.2
             }
            },
            "type": "histogram"
           }
          ],
          "histogram2d": [
           {
            "colorbar": {
             "outlinewidth": 0,
             "ticks": ""
            },
            "colorscale": [
             [
              0.0,
              "#0d0887"
             ],
             [
              0.1111111111111111,
              "#46039f"
             ],
             [
              0.2222222222222222,
              "#7201a8"
             ],
             [
              0.3333333333333333,
              "#9c179e"
             ],
             [
              0.4444444444444444,
              "#bd3786"
             ],
             [
              0.5555555555555556,
              "#d8576b"
             ],
             [
              0.6666666666666666,
              "#ed7953"
             ],
             [
              0.7777777777777778,
              "#fb9f3a"
             ],
             [
              0.8888888888888888,
              "#fdca26"
             ],
             [
              1.0,
              "#f0f921"
             ]
            ],
            "type": "histogram2d"
           }
          ],
          "histogram2dcontour": [
           {
            "colorbar": {
             "outlinewidth": 0,
             "ticks": ""
            },
            "colorscale": [
             [
              0.0,
              "#0d0887"
             ],
             [
              0.1111111111111111,
              "#46039f"
             ],
             [
              0.2222222222222222,
              "#7201a8"
             ],
             [
              0.3333333333333333,
              "#9c179e"
             ],
             [
              0.4444444444444444,
              "#bd3786"
             ],
             [
              0.5555555555555556,
              "#d8576b"
             ],
             [
              0.6666666666666666,
              "#ed7953"
             ],
             [
              0.7777777777777778,
              "#fb9f3a"
             ],
             [
              0.8888888888888888,
              "#fdca26"
             ],
             [
              1.0,
              "#f0f921"
             ]
            ],
            "type": "histogram2dcontour"
           }
          ],
          "mesh3d": [
           {
            "colorbar": {
             "outlinewidth": 0,
             "ticks": ""
            },
            "type": "mesh3d"
           }
          ],
          "parcoords": [
           {
            "line": {
             "colorbar": {
              "outlinewidth": 0,
              "ticks": ""
             }
            },
            "type": "parcoords"
           }
          ],
          "pie": [
           {
            "automargin": true,
            "type": "pie"
           }
          ],
          "scatter": [
           {
            "marker": {
             "colorbar": {
              "outlinewidth": 0,
              "ticks": ""
             }
            },
            "type": "scatter"
           }
          ],
          "scatter3d": [
           {
            "line": {
             "colorbar": {
              "outlinewidth": 0,
              "ticks": ""
             }
            },
            "marker": {
             "colorbar": {
              "outlinewidth": 0,
              "ticks": ""
             }
            },
            "type": "scatter3d"
           }
          ],
          "scattercarpet": [
           {
            "marker": {
             "colorbar": {
              "outlinewidth": 0,
              "ticks": ""
             }
            },
            "type": "scattercarpet"
           }
          ],
          "scattergeo": [
           {
            "marker": {
             "colorbar": {
              "outlinewidth": 0,
              "ticks": ""
             }
            },
            "type": "scattergeo"
           }
          ],
          "scattergl": [
           {
            "marker": {
             "colorbar": {
              "outlinewidth": 0,
              "ticks": ""
             }
            },
            "type": "scattergl"
           }
          ],
          "scattermapbox": [
           {
            "marker": {
             "colorbar": {
              "outlinewidth": 0,
              "ticks": ""
             }
            },
            "type": "scattermapbox"
           }
          ],
          "scatterpolar": [
           {
            "marker": {
             "colorbar": {
              "outlinewidth": 0,
              "ticks": ""
             }
            },
            "type": "scatterpolar"
           }
          ],
          "scatterpolargl": [
           {
            "marker": {
             "colorbar": {
              "outlinewidth": 0,
              "ticks": ""
             }
            },
            "type": "scatterpolargl"
           }
          ],
          "scatterternary": [
           {
            "marker": {
             "colorbar": {
              "outlinewidth": 0,
              "ticks": ""
             }
            },
            "type": "scatterternary"
           }
          ],
          "surface": [
           {
            "colorbar": {
             "outlinewidth": 0,
             "ticks": ""
            },
            "colorscale": [
             [
              0.0,
              "#0d0887"
             ],
             [
              0.1111111111111111,
              "#46039f"
             ],
             [
              0.2222222222222222,
              "#7201a8"
             ],
             [
              0.3333333333333333,
              "#9c179e"
             ],
             [
              0.4444444444444444,
              "#bd3786"
             ],
             [
              0.5555555555555556,
              "#d8576b"
             ],
             [
              0.6666666666666666,
              "#ed7953"
             ],
             [
              0.7777777777777778,
              "#fb9f3a"
             ],
             [
              0.8888888888888888,
              "#fdca26"
             ],
             [
              1.0,
              "#f0f921"
             ]
            ],
            "type": "surface"
           }
          ],
          "table": [
           {
            "cells": {
             "fill": {
              "color": "#EBF0F8"
             },
             "line": {
              "color": "white"
             }
            },
            "header": {
             "fill": {
              "color": "#C8D4E3"
             },
             "line": {
              "color": "white"
             }
            },
            "type": "table"
           }
          ]
         },
         "layout": {
          "annotationdefaults": {
           "arrowcolor": "#2a3f5f",
           "arrowhead": 0,
           "arrowwidth": 1
          },
          "autotypenumbers": "strict",
          "coloraxis": {
           "colorbar": {
            "outlinewidth": 0,
            "ticks": ""
           }
          },
          "colorscale": {
           "diverging": [
            [
             0,
             "#8e0152"
            ],
            [
             0.1,
             "#c51b7d"
            ],
            [
             0.2,
             "#de77ae"
            ],
            [
             0.3,
             "#f1b6da"
            ],
            [
             0.4,
             "#fde0ef"
            ],
            [
             0.5,
             "#f7f7f7"
            ],
            [
             0.6,
             "#e6f5d0"
            ],
            [
             0.7,
             "#b8e186"
            ],
            [
             0.8,
             "#7fbc41"
            ],
            [
             0.9,
             "#4d9221"
            ],
            [
             1,
             "#276419"
            ]
           ],
           "sequential": [
            [
             0.0,
             "#0d0887"
            ],
            [
             0.1111111111111111,
             "#46039f"
            ],
            [
             0.2222222222222222,
             "#7201a8"
            ],
            [
             0.3333333333333333,
             "#9c179e"
            ],
            [
             0.4444444444444444,
             "#bd3786"
            ],
            [
             0.5555555555555556,
             "#d8576b"
            ],
            [
             0.6666666666666666,
             "#ed7953"
            ],
            [
             0.7777777777777778,
             "#fb9f3a"
            ],
            [
             0.8888888888888888,
             "#fdca26"
            ],
            [
             1.0,
             "#f0f921"
            ]
           ],
           "sequentialminus": [
            [
             0.0,
             "#0d0887"
            ],
            [
             0.1111111111111111,
             "#46039f"
            ],
            [
             0.2222222222222222,
             "#7201a8"
            ],
            [
             0.3333333333333333,
             "#9c179e"
            ],
            [
             0.4444444444444444,
             "#bd3786"
            ],
            [
             0.5555555555555556,
             "#d8576b"
            ],
            [
             0.6666666666666666,
             "#ed7953"
            ],
            [
             0.7777777777777778,
             "#fb9f3a"
            ],
            [
             0.8888888888888888,
             "#fdca26"
            ],
            [
             1.0,
             "#f0f921"
            ]
           ]
          },
          "colorway": [
           "#636efa",
           "#EF553B",
           "#00cc96",
           "#ab63fa",
           "#FFA15A",
           "#19d3f3",
           "#FF6692",
           "#B6E880",
           "#FF97FF",
           "#FECB52"
          ],
          "font": {
           "color": "#2a3f5f"
          },
          "geo": {
           "bgcolor": "white",
           "lakecolor": "white",
           "landcolor": "#E5ECF6",
           "showlakes": true,
           "showland": true,
           "subunitcolor": "white"
          },
          "hoverlabel": {
           "align": "left"
          },
          "hovermode": "closest",
          "mapbox": {
           "style": "light"
          },
          "paper_bgcolor": "white",
          "plot_bgcolor": "#E5ECF6",
          "polar": {
           "angularaxis": {
            "gridcolor": "white",
            "linecolor": "white",
            "ticks": ""
           },
           "bgcolor": "#E5ECF6",
           "radialaxis": {
            "gridcolor": "white",
            "linecolor": "white",
            "ticks": ""
           }
          },
          "scene": {
           "xaxis": {
            "backgroundcolor": "#E5ECF6",
            "gridcolor": "white",
            "gridwidth": 2,
            "linecolor": "white",
            "showbackground": true,
            "ticks": "",
            "zerolinecolor": "white"
           },
           "yaxis": {
            "backgroundcolor": "#E5ECF6",
            "gridcolor": "white",
            "gridwidth": 2,
            "linecolor": "white",
            "showbackground": true,
            "ticks": "",
            "zerolinecolor": "white"
           },
           "zaxis": {
            "backgroundcolor": "#E5ECF6",
            "gridcolor": "white",
            "gridwidth": 2,
            "linecolor": "white",
            "showbackground": true,
            "ticks": "",
            "zerolinecolor": "white"
           }
          },
          "shapedefaults": {
           "line": {
            "color": "#2a3f5f"
           }
          },
          "ternary": {
           "aaxis": {
            "gridcolor": "white",
            "linecolor": "white",
            "ticks": ""
           },
           "baxis": {
            "gridcolor": "white",
            "linecolor": "white",
            "ticks": ""
           },
           "bgcolor": "#E5ECF6",
           "caxis": {
            "gridcolor": "white",
            "linecolor": "white",
            "ticks": ""
           }
          },
          "title": {
           "x": 0.05
          },
          "xaxis": {
           "automargin": true,
           "gridcolor": "white",
           "linecolor": "white",
           "ticks": "",
           "title": {
            "standoff": 15
           },
           "zerolinecolor": "white",
           "zerolinewidth": 2
          },
          "yaxis": {
           "automargin": true,
           "gridcolor": "white",
           "linecolor": "white",
           "ticks": "",
           "title": {
            "standoff": 15
           },
           "zerolinecolor": "white",
           "zerolinewidth": 2
          }
         }
        }
       }
      },
      "image/png": "[encoded data removed]"
     },
     "metadata": {},
     "output_type": "display_data"
    }
   ],
   "source": [
    "# Function and logarithm plot\n",
    "log_vals = [cmath.log(v) for v in func_vals]\n",
    "\n",
    "fig = go.Figure(**DEF_FIGURE)\n",
    "fig.add_scatter(y=[v.real for v in func_vals], name='function')\n",
    "fig.add_scatter(y=[v.real for v in log_vals], name='logarithm/real')\n",
    "fig.add_scatter(y=[v.imag for v in log_vals], name='logarithm/imag')\n",
    "fig.show()"
   ]
  },
  {
   "cell_type": "markdown",
   "metadata": {},
   "source": [
    "> Both real and imaginary components of the logarithm are linear, even if the imaginary wraps around $\\pm\\pi$.\n",
    "> However, this is just because this is a logarithm from the actual complex value.\n",
    "\n",
    "### Complex ratio with the derivative\n",
    "\n",
    "Below is a plot of the real part of the base function $e^{(a+ib)t}$ and its derivative $(a+ib)e^{(a+ib)t}$,\n",
    "together with their ratio $\\frac{(a+ib)e^{(a+ib)t}}{e^{(a+ib)t}} = a+ib$."
   ]
  },
  {
   "cell_type": "code",
   "execution_count": 3,
   "metadata": {
    "execution": {
     "iopub.execute_input": "2021-11-30T20:40:57.308560Z",
     "iopub.status.busy": "2021-11-30T20:40:57.307562Z",
     "iopub.status.idle": "2021-11-30T20:40:57.455566Z",
     "shell.execute_reply": "2021-11-30T20:40:57.455566Z"
    }
   },
   "outputs": [
    {
     "data": {
      "application/vnd.plotly.v1+json": {
       "config": {
        "plotlyServerURL": "https://plot.ly"
       },
       "data": [
        {
         "name": "function",
         "type": "scatter",
         "y": [
          1.0,
          0.7850437685412247,
          0.41086247901693873,
          4.561110280047519e-17,
          -0.33761595332788846,
          -0.5300866006403276,
          -0.5548549101598534,
          -0.43558538966549404,
          -0.22796906388299834,
          -7.592263303994851e-17,
          0.18732786945227867,
          0.29412115317523113,
          0.307863971328499,
          0.2416866922497925,
          0.12648975446002694,
          2.7389027068083124e-16,
          -0.1039397881753808,
          -0.16319456602115523,
          -0.17081983615293003,
          -0.1341010479150908,
          -0.07018346134706029,
          -5.4538967749921336e-17,
          0.05767150183008511,
          0.09054930626824437,
          0.09478022484215487,
          0.0744066248932699,
          0.03894163814043068,
          1.6431886230134883e-16,
          -0.03199931596671569,
          -0.05024172719450377,
          -0.052589273139724564,
          -0.041284881170453196,
          -0.0216069591318862,
          -9.597043706654071e-17,
          0.01775497758588873,
          0.02787686902878223,
          0.02917941642331386,
          0.022907119032792026,
          0.011988727367950347,
          5.591147896084061e-17
         ]
        },
        {
         "name": "derivative",
         "type": "scatter",
         "y": [
          -0.09817477042468103,
          -0.31439013979587904,
          -0.4129473811679122,
          -0.39002131221254116,
          -0.2730384320410516,
          -0.10820399288202039,
          0.054472753423950596,
          0.17444091277158616,
          0.22912588207866866,
          0.21640524014811766,
          0.151496714680325,
          0.060037516749490864,
          -0.030224474707205937,
          -0.09678939698408123,
          -0.12713162071605688,
          -0.12007351008050537,
          -0.08405869601346469,
          -0.03331211096225954,
          0.016770198198295505,
          0.053704072168028784,
          0.07053960399088427,
          0.06662337664829704,
          0.046640380224705395,
          0.0184833883351996,
          -0.00930502681467818,
          -0.029797968138009882,
          -0.03913924563507372,
          -0.03696630766473694,
          -0.025878643979400318,
          -0.010255598774176857,
          0.005162939817293238,
          0.01653354893416165,
          0.021716602620573268,
          0.02051093731825912,
          0.014358892680249013,
          0.005690369336481437,
          -0.0028646825084849945,
          -0.009173720808487797,
          -0.01204956359601542,
          -0.011380594283017052
         ]
        },
        {
         "line": {
          "dash": "dash"
         },
         "name": "ratio/real",
         "type": "scatter",
         "y": [
          -0.09817477042468103,
          -0.09817477042468102,
          -0.098174770424681,
          -0.09817477042468103,
          -0.09817477042468109,
          -0.09817477042468103,
          -0.09817477042468103,
          -0.09817477042468101,
          -0.098174770424681,
          -0.09817477042468103,
          -0.09817477042468103,
          -0.09817477042468103,
          -0.09817477042468103,
          -0.09817477042468105,
          -0.09817477042468105,
          -0.09817477042468103,
          -0.09817477042468103,
          -0.09817477042468101,
          -0.09817477042468103,
          -0.09817477042468102,
          -0.09817477042468105,
          -0.09817477042468103,
          -0.09817477042468098,
          -0.09817477042468098,
          -0.09817477042468103,
          -0.09817477042468109,
          -0.09817477042468106,
          -0.09817477042468103,
          -0.09817477042468101,
          -0.09817477042468103,
          -0.09817477042468105,
          -0.09817477042468105,
          -0.09817477042468103,
          -0.09817477042468103,
          -0.09817477042468103,
          -0.098174770424681,
          -0.09817477042468103,
          -0.09817477042468098,
          -0.09817477042468102,
          -0.09817477042468103
         ]
        },
        {
         "line": {
          "dash": "dash"
         },
         "name": "ratio/imag",
         "type": "scatter",
         "y": [
          0.5235987755982988,
          0.5235987755982988,
          0.5235987755982988,
          0.5235987755982988,
          0.5235987755982988,
          0.5235987755982988,
          0.5235987755982988,
          0.5235987755982988,
          0.5235987755982988,
          0.5235987755982988,
          0.5235987755982988,
          0.5235987755982988,
          0.5235987755982988,
          0.5235987755982987,
          0.5235987755982988,
          0.5235987755982988,
          0.5235987755982987,
          0.5235987755982988,
          0.5235987755982988,
          0.5235987755982988,
          0.5235987755982989,
          0.5235987755982988,
          0.5235987755982987,
          0.5235987755982987,
          0.5235987755982988,
          0.5235987755982987,
          0.5235987755982988,
          0.5235987755982988,
          0.5235987755982989,
          0.5235987755982987,
          0.5235987755982988,
          0.5235987755982988,
          0.5235987755982988,
          0.5235987755982988,
          0.5235987755982989,
          0.5235987755982988,
          0.5235987755982988,
          0.5235987755982988,
          0.5235987755982988,
          0.5235987755982988
         ]
        }
       ],
       "layout": {
        "margin": {
         "b": 8,
         "l": 8,
         "r": 8,
         "t": 8
        },
        "template": {
         "data": {
          "bar": [
           {
            "error_x": {
             "color": "#2a3f5f"
            },
            "error_y": {
             "color": "#2a3f5f"
            },
            "marker": {
             "line": {
              "color": "#E5ECF6",
              "width": 0.5
             },
             "pattern": {
              "fillmode": "overlay",
              "size": 10,
              "solidity": 0.2
             }
            },
            "type": "bar"
           }
          ],
          "barpolar": [
           {
            "marker": {
             "line": {
              "color": "#E5ECF6",
              "width": 0.5
             },
             "pattern": {
              "fillmode": "overlay",
              "size": 10,
              "solidity": 0.2
             }
            },
            "type": "barpolar"
           }
          ],
          "carpet": [
           {
            "aaxis": {
             "endlinecolor": "#2a3f5f",
             "gridcolor": "white",
             "linecolor": "white",
             "minorgridcolor": "white",
             "startlinecolor": "#2a3f5f"
            },
            "baxis": {
             "endlinecolor": "#2a3f5f",
             "gridcolor": "white",
             "linecolor": "white",
             "minorgridcolor": "white",
             "startlinecolor": "#2a3f5f"
            },
            "type": "carpet"
           }
          ],
          "choropleth": [
           {
            "colorbar": {
             "outlinewidth": 0,
             "ticks": ""
            },
            "type": "choropleth"
           }
          ],
          "contour": [
           {
            "colorbar": {
             "outlinewidth": 0,
             "ticks": ""
            },
            "colorscale": [
             [
              0.0,
              "#0d0887"
             ],
             [
              0.1111111111111111,
              "#46039f"
             ],
             [
              0.2222222222222222,
              "#7201a8"
             ],
             [
              0.3333333333333333,
              "#9c179e"
             ],
             [
              0.4444444444444444,
              "#bd3786"
             ],
             [
              0.5555555555555556,
              "#d8576b"
             ],
             [
              0.6666666666666666,
              "#ed7953"
             ],
             [
              0.7777777777777778,
              "#fb9f3a"
             ],
             [
              0.8888888888888888,
              "#fdca26"
             ],
             [
              1.0,
              "#f0f921"
             ]
            ],
            "type": "contour"
           }
          ],
          "contourcarpet": [
           {
            "colorbar": {
             "outlinewidth": 0,
             "ticks": ""
            },
            "type": "contourcarpet"
           }
          ],
          "heatmap": [
           {
            "colorbar": {
             "outlinewidth": 0,
             "ticks": ""
            },
            "colorscale": [
             [
              0.0,
              "#0d0887"
             ],
             [
              0.1111111111111111,
              "#46039f"
             ],
             [
              0.2222222222222222,
              "#7201a8"
             ],
             [
              0.3333333333333333,
              "#9c179e"
             ],
             [
              0.4444444444444444,
              "#bd3786"
             ],
             [
              0.5555555555555556,
              "#d8576b"
             ],
             [
              0.6666666666666666,
              "#ed7953"
             ],
             [
              0.7777777777777778,
              "#fb9f3a"
             ],
             [
              0.8888888888888888,
              "#fdca26"
             ],
             [
              1.0,
              "#f0f921"
             ]
            ],
            "type": "heatmap"
           }
          ],
          "heatmapgl": [
           {
            "colorbar": {
             "outlinewidth": 0,
             "ticks": ""
            },
            "colorscale": [
             [
              0.0,
              "#0d0887"
             ],
             [
              0.1111111111111111,
              "#46039f"
             ],
             [
              0.2222222222222222,
              "#7201a8"
             ],
             [
              0.3333333333333333,
              "#9c179e"
             ],
             [
              0.4444444444444444,
              "#bd3786"
             ],
             [
              0.5555555555555556,
              "#d8576b"
             ],
             [
              0.6666666666666666,
              "#ed7953"
             ],
             [
              0.7777777777777778,
              "#fb9f3a"
             ],
             [
              0.8888888888888888,
              "#fdca26"
             ],
             [
              1.0,
              "#f0f921"
             ]
            ],
            "type": "heatmapgl"
           }
          ],
          "histogram": [
           {
            "marker": {
             "pattern": {
              "fillmode": "overlay",
              "size": 10,
              "solidity": 0.2
             }
            },
            "type": "histogram"
           }
          ],
          "histogram2d": [
           {
            "colorbar": {
             "outlinewidth": 0,
             "ticks": ""
            },
            "colorscale": [
             [
              0.0,
              "#0d0887"
             ],
             [
              0.1111111111111111,
              "#46039f"
             ],
             [
              0.2222222222222222,
              "#7201a8"
             ],
             [
              0.3333333333333333,
              "#9c179e"
             ],
             [
              0.4444444444444444,
              "#bd3786"
             ],
             [
              0.5555555555555556,
              "#d8576b"
             ],
             [
              0.6666666666666666,
              "#ed7953"
             ],
             [
              0.7777777777777778,
              "#fb9f3a"
             ],
             [
              0.8888888888888888,
              "#fdca26"
             ],
             [
              1.0,
              "#f0f921"
             ]
            ],
            "type": "histogram2d"
           }
          ],
          "histogram2dcontour": [
           {
            "colorbar": {
             "outlinewidth": 0,
             "ticks": ""
            },
            "colorscale": [
             [
              0.0,
              "#0d0887"
             ],
             [
              0.1111111111111111,
              "#46039f"
             ],
             [
              0.2222222222222222,
              "#7201a8"
             ],
             [
              0.3333333333333333,
              "#9c179e"
             ],
             [
              0.4444444444444444,
              "#bd3786"
             ],
             [
              0.5555555555555556,
              "#d8576b"
             ],
             [
              0.6666666666666666,
              "#ed7953"
             ],
             [
              0.7777777777777778,
              "#fb9f3a"
             ],
             [
              0.8888888888888888,
              "#fdca26"
             ],
             [
              1.0,
              "#f0f921"
             ]
            ],
            "type": "histogram2dcontour"
           }
          ],
          "mesh3d": [
           {
            "colorbar": {
             "outlinewidth": 0,
             "ticks": ""
            },
            "type": "mesh3d"
           }
          ],
          "parcoords": [
           {
            "line": {
             "colorbar": {
              "outlinewidth": 0,
              "ticks": ""
             }
            },
            "type": "parcoords"
           }
          ],
          "pie": [
           {
            "automargin": true,
            "type": "pie"
           }
          ],
          "scatter": [
           {
            "marker": {
             "colorbar": {
              "outlinewidth": 0,
              "ticks": ""
             }
            },
            "type": "scatter"
           }
          ],
          "scatter3d": [
           {
            "line": {
             "colorbar": {
              "outlinewidth": 0,
              "ticks": ""
             }
            },
            "marker": {
             "colorbar": {
              "outlinewidth": 0,
              "ticks": ""
             }
            },
            "type": "scatter3d"
           }
          ],
          "scattercarpet": [
           {
            "marker": {
             "colorbar": {
              "outlinewidth": 0,
              "ticks": ""
             }
            },
            "type": "scattercarpet"
           }
          ],
          "scattergeo": [
           {
            "marker": {
             "colorbar": {
              "outlinewidth": 0,
              "ticks": ""
             }
            },
            "type": "scattergeo"
           }
          ],
          "scattergl": [
           {
            "marker": {
             "colorbar": {
              "outlinewidth": 0,
              "ticks": ""
             }
            },
            "type": "scattergl"
           }
          ],
          "scattermapbox": [
           {
            "marker": {
             "colorbar": {
              "outlinewidth": 0,
              "ticks": ""
             }
            },
            "type": "scattermapbox"
           }
          ],
          "scatterpolar": [
           {
            "marker": {
             "colorbar": {
              "outlinewidth": 0,
              "ticks": ""
             }
            },
            "type": "scatterpolar"
           }
          ],
          "scatterpolargl": [
           {
            "marker": {
             "colorbar": {
              "outlinewidth": 0,
              "ticks": ""
             }
            },
            "type": "scatterpolargl"
           }
          ],
          "scatterternary": [
           {
            "marker": {
             "colorbar": {
              "outlinewidth": 0,
              "ticks": ""
             }
            },
            "type": "scatterternary"
           }
          ],
          "surface": [
           {
            "colorbar": {
             "outlinewidth": 0,
             "ticks": ""
            },
            "colorscale": [
             [
              0.0,
              "#0d0887"
             ],
             [
              0.1111111111111111,
              "#46039f"
             ],
             [
              0.2222222222222222,
              "#7201a8"
             ],
             [
              0.3333333333333333,
              "#9c179e"
             ],
             [
              0.4444444444444444,
              "#bd3786"
             ],
             [
              0.5555555555555556,
              "#d8576b"
             ],
             [
              0.6666666666666666,
              "#ed7953"
             ],
             [
              0.7777777777777778,
              "#fb9f3a"
             ],
             [
              0.8888888888888888,
              "#fdca26"
             ],
             [
              1.0,
              "#f0f921"
             ]
            ],
            "type": "surface"
           }
          ],
          "table": [
           {
            "cells": {
             "fill": {
              "color": "#EBF0F8"
             },
             "line": {
              "color": "white"
             }
            },
            "header": {
             "fill": {
              "color": "#C8D4E3"
             },
             "line": {
              "color": "white"
             }
            },
            "type": "table"
           }
          ]
         },
         "layout": {
          "annotationdefaults": {
           "arrowcolor": "#2a3f5f",
           "arrowhead": 0,
           "arrowwidth": 1
          },
          "autotypenumbers": "strict",
          "coloraxis": {
           "colorbar": {
            "outlinewidth": 0,
            "ticks": ""
           }
          },
          "colorscale": {
           "diverging": [
            [
             0,
             "#8e0152"
            ],
            [
             0.1,
             "#c51b7d"
            ],
            [
             0.2,
             "#de77ae"
            ],
            [
             0.3,
             "#f1b6da"
            ],
            [
             0.4,
             "#fde0ef"
            ],
            [
             0.5,
             "#f7f7f7"
            ],
            [
             0.6,
             "#e6f5d0"
            ],
            [
             0.7,
             "#b8e186"
            ],
            [
             0.8,
             "#7fbc41"
            ],
            [
             0.9,
             "#4d9221"
            ],
            [
             1,
             "#276419"
            ]
           ],
           "sequential": [
            [
             0.0,
             "#0d0887"
            ],
            [
             0.1111111111111111,
             "#46039f"
            ],
            [
             0.2222222222222222,
             "#7201a8"
            ],
            [
             0.3333333333333333,
             "#9c179e"
            ],
            [
             0.4444444444444444,
             "#bd3786"
            ],
            [
             0.5555555555555556,
             "#d8576b"
            ],
            [
             0.6666666666666666,
             "#ed7953"
            ],
            [
             0.7777777777777778,
             "#fb9f3a"
            ],
            [
             0.8888888888888888,
             "#fdca26"
            ],
            [
             1.0,
             "#f0f921"
            ]
           ],
           "sequentialminus": [
            [
             0.0,
             "#0d0887"
            ],
            [
             0.1111111111111111,
             "#46039f"
            ],
            [
             0.2222222222222222,
             "#7201a8"
            ],
            [
             0.3333333333333333,
             "#9c179e"
            ],
            [
             0.4444444444444444,
             "#bd3786"
            ],
            [
             0.5555555555555556,
             "#d8576b"
            ],
            [
             0.6666666666666666,
             "#ed7953"
            ],
            [
             0.7777777777777778,
             "#fb9f3a"
            ],
            [
             0.8888888888888888,
             "#fdca26"
            ],
            [
             1.0,
             "#f0f921"
            ]
           ]
          },
          "colorway": [
           "#636efa",
           "#EF553B",
           "#00cc96",
           "#ab63fa",
           "#FFA15A",
           "#19d3f3",
           "#FF6692",
           "#B6E880",
           "#FF97FF",
           "#FECB52"
          ],
          "font": {
           "color": "#2a3f5f"
          },
          "geo": {
           "bgcolor": "white",
           "lakecolor": "white",
           "landcolor": "#E5ECF6",
           "showlakes": true,
           "showland": true,
           "subunitcolor": "white"
          },
          "hoverlabel": {
           "align": "left"
          },
          "hovermode": "closest",
          "mapbox": {
           "style": "light"
          },
          "paper_bgcolor": "white",
          "plot_bgcolor": "#E5ECF6",
          "polar": {
           "angularaxis": {
            "gridcolor": "white",
            "linecolor": "white",
            "ticks": ""
           },
           "bgcolor": "#E5ECF6",
           "radialaxis": {
            "gridcolor": "white",
            "linecolor": "white",
            "ticks": ""
           }
          },
          "scene": {
           "xaxis": {
            "backgroundcolor": "#E5ECF6",
            "gridcolor": "white",
            "gridwidth": 2,
            "linecolor": "white",
            "showbackground": true,
            "ticks": "",
            "zerolinecolor": "white"
           },
           "yaxis": {
            "backgroundcolor": "#E5ECF6",
            "gridcolor": "white",
            "gridwidth": 2,
            "linecolor": "white",
            "showbackground": true,
            "ticks": "",
            "zerolinecolor": "white"
           },
           "zaxis": {
            "backgroundcolor": "#E5ECF6",
            "gridcolor": "white",
            "gridwidth": 2,
            "linecolor": "white",
            "showbackground": true,
            "ticks": "",
            "zerolinecolor": "white"
           }
          },
          "shapedefaults": {
           "line": {
            "color": "#2a3f5f"
           }
          },
          "ternary": {
           "aaxis": {
            "gridcolor": "white",
            "linecolor": "white",
            "ticks": ""
           },
           "baxis": {
            "gridcolor": "white",
            "linecolor": "white",
            "ticks": ""
           },
           "bgcolor": "#E5ECF6",
           "caxis": {
            "gridcolor": "white",
            "linecolor": "white",
            "ticks": ""
           }
          },
          "title": {
           "x": 0.05
          },
          "xaxis": {
           "automargin": true,
           "gridcolor": "white",
           "linecolor": "white",
           "ticks": "",
           "title": {
            "standoff": 15
           },
           "zerolinecolor": "white",
           "zerolinewidth": 2
          },
          "yaxis": {
           "automargin": true,
           "gridcolor": "white",
           "linecolor": "white",
           "ticks": "",
           "title": {
            "standoff": 15
           },
           "zerolinecolor": "white",
           "zerolinewidth": 2
          }
         }
        }
       }
      },
      "image/png": "[encoded data removed]"
     },
     "metadata": {},
     "output_type": "display_data"
    }
   ],
   "source": [
    "# Function and derivative plot\n",
    "fig = go.Figure(**DEF_FIGURE)\n",
    "fig.add_scatter(y=[v.real for v in func_vals], name='function')\n",
    "fig.add_scatter(y=[v.real for v in deriv_vals[1]], name='derivative')\n",
    "fig.add_scatter(y=[(dv/fv).real for fv,dv in zip(func_vals, deriv_vals[1])],\n",
    "        name='ratio/real', line_dash='dash')\n",
    "fig.add_scatter(y=[(dv/fv).imag for fv,dv in zip(func_vals, deriv_vals[1])],\n",
    "        name='ratio/imag', line_dash='dash')\n",
    "fig.show()"
   ]
  },
  {
   "cell_type": "markdown",
   "metadata": {},
   "source": [
    "> Both real and imaginary components of the ratio are constant.\n",
    "> However, this is just because we are dividing the actual complex values.\n",
    "\n",
    "## Deduction of signal imaginary value\n",
    "\n",
    "The signal imaginary value should be able to be obtained by analysing its logarithm and/or derivative.\n",
    "\n",
    "### Using real part of the logarithm only\n",
    "\n",
    "Since $e^{(a+ib)t} = e^{at}cos(bt) + i.e^{at}sin(bt)$, the logarithm of its real part is:\n",
    "$$log(e^{at}cos(bt)) = at + log(cos(bt))$$"
   ]
  },
  {
   "cell_type": "code",
   "execution_count": 4,
   "metadata": {
    "execution": {
     "iopub.execute_input": "2021-11-30T20:40:57.475567Z",
     "iopub.status.busy": "2021-11-30T20:40:57.470568Z",
     "iopub.status.idle": "2021-11-30T20:40:57.606160Z",
     "shell.execute_reply": "2021-11-30T20:40:57.606160Z"
    }
   },
   "outputs": [
    {
     "data": {
      "application/vnd.plotly.v1+json": {
       "config": {
        "plotlyServerURL": "https://plot.ly"
       },
       "data": [
        {
         "name": "function",
         "type": "scatter",
         "y": [
          1.0,
          0.7850437685412247,
          0.41086247901693873,
          4.561110280047519e-17,
          -0.33761595332788846,
          -0.5300866006403276,
          -0.5548549101598534,
          -0.43558538966549404,
          -0.22796906388299834,
          -7.592263303994851e-17,
          0.18732786945227867,
          0.29412115317523113,
          0.307863971328499,
          0.2416866922497925,
          0.12648975446002694,
          2.7389027068083124e-16,
          -0.1039397881753808,
          -0.16319456602115523,
          -0.17081983615293003,
          -0.1341010479150908,
          -0.07018346134706029,
          -5.4538967749921336e-17,
          0.05767150183008511,
          0.09054930626824437,
          0.09478022484215487,
          0.0744066248932699,
          0.03894163814043068,
          1.6431886230134883e-16,
          -0.03199931596671569,
          -0.05024172719450377,
          -0.052589273139724564,
          -0.041284881170453196,
          -0.0216069591318862,
          -9.597043706654071e-17,
          0.01775497758588873,
          0.02787686902878223,
          0.02917941642331386,
          0.022907119032792026,
          0.011988727367950347,
          5.591147896084061e-17
         ]
        },
        {
         "line": {
          "dash": "dash"
         },
         "name": "logarithm/real",
         "type": "scatter",
         "y": [
          0.0,
          -0.09817477042468101,
          -0.19634954084936196,
          -0.29452431127404305,
          -0.39269908169872425,
          -0.4908738521234052,
          -0.5890486225480862,
          -0.6872233929727672,
          -0.7853981633974481,
          -0.8835729338221292,
          -0.9817477042468102,
          -1.0799224746714913,
          -1.1780972450961724,
          -1.2762720155208536,
          -1.3744467859455343,
          -1.4726215563702152,
          -1.5707963267948966,
          -1.6689710972195775,
          -1.7671458676442584,
          -1.8653206380689393,
          -1.9634954084936205,
          -2.061670178918302,
          -2.1598449493429825,
          -2.2580197197676637,
          -2.356194490192345,
          -2.454369260617026,
          -2.552544031041707,
          -2.650718801466388,
          -2.748893571891069,
          -2.84706834231575,
          -2.945243112740431,
          -3.043417883165112,
          -3.1415926535897927,
          -3.2397674240144743,
          -3.3379421944391554,
          -3.436116964863836,
          -3.5342917352885173,
          -3.6324665057131984,
          -3.7306412761378787,
          -3.8288160465625602
         ]
        },
        {
         "line": {
          "dash": "dash"
         },
         "name": "logarithm/imag",
         "type": "scatter",
         "y": [
          0.0,
          0.5235987755982988,
          1.0471975511965976,
          1.5707963267948966,
          2.0943951023931953,
          2.617993877991494,
          3.141592653589793,
          -2.617993877991495,
          -2.094395102393196,
          -1.5707963267948968,
          -1.0471975511965985,
          -0.5235987755982994,
          -2.4492935982947064e-16,
          0.523598775598298,
          1.0471975511965972,
          1.5707963267948954,
          2.0943951023931944,
          2.6179938779914926,
          3.1415926535897927,
          -2.6179938779914953,
          -2.094395102393197,
          -1.570796326794897,
          -1.0471975511965987,
          -0.5235987755983006,
          -4.898587196589413e-16,
          0.5235987755982978,
          1.047197551196596,
          1.5707963267948943,
          2.0943951023931944,
          2.6179938779914926,
          3.141592653589791,
          -2.6179938779914957,
          -2.0943951023931975,
          -1.570796326794899,
          -1.0471975511966007,
          -0.5235987755983026,
          -7.347880794884119e-16,
          0.5235987755982976,
          1.0471975511965959,
          1.5707963267948941
         ]
        },
        {
         "name": "real logarithm",
         "type": "scatter",
         "y": [
          0.0,
          -0.24201580665057143,
          -0.889496721409307,
          null,
          -1.08584626225867,
          -0.6347148883492959,
          -0.5890486225480862,
          -0.8310644291986575,
          -1.4785453439573926,
          null,
          -1.6748948848067569,
          -1.223763510897382,
          -1.1780972450961724,
          -1.4201130517467435,
          -2.0675939665054788,
          null,
          -2.2639435073548433,
          -1.812812133445469,
          -1.7671458676442584,
          -2.0091616742948295,
          -2.6566425890535634,
          null,
          -2.8529921299029297,
          -2.401860755993555,
          -2.356194490192345,
          -2.598210296842916,
          -3.2456912116016494,
          null,
          -3.442040752451016,
          -2.9909093785416414,
          -2.945243112740431,
          -3.1872589193910015,
          -3.834739834149735,
          null,
          -4.031089374999106,
          -3.5799580010897287,
          -3.5342917352885173,
          -3.776307541939088,
          -4.423788456697821,
          null
         ]
        },
        {
         "line": {
          "dash": "dot"
         },
         "name": "at+log(cos(bt))",
         "type": "scatter",
         "y": [
          0.0,
          -0.24201580665057146,
          -0.8894967214093071,
          null,
          -1.08584626225867,
          -0.6347148883492958,
          -0.5890486225480862,
          -0.8310644291986575,
          -1.4785453439573928,
          null,
          -1.6748948848067569,
          -1.2237635108973821,
          -1.1780972450961724,
          -1.4201130517467435,
          -2.0675939665054788,
          null,
          -2.2639435073548433,
          -1.812812133445469,
          -1.7671458676442586,
          -2.0091616742948295,
          -2.6566425890535634,
          null,
          -2.8529921299029297,
          -2.401860755993555,
          -2.356194490192345,
          -2.598210296842916,
          -3.2456912116016494,
          null,
          -3.442040752451016,
          -2.990909378541642,
          -2.945243112740431,
          -3.187258919391002,
          -3.8347398341497354,
          null,
          -4.031089374999106,
          -3.5799580010897287,
          -3.5342917352885173,
          -3.7763075419390884,
          -4.423788456697821,
          null
         ]
        }
       ],
       "layout": {
        "margin": {
         "b": 8,
         "l": 8,
         "r": 8,
         "t": 8
        },
        "template": {
         "data": {
          "bar": [
           {
            "error_x": {
             "color": "#2a3f5f"
            },
            "error_y": {
             "color": "#2a3f5f"
            },
            "marker": {
             "line": {
              "color": "#E5ECF6",
              "width": 0.5
             },
             "pattern": {
              "fillmode": "overlay",
              "size": 10,
              "solidity": 0.2
             }
            },
            "type": "bar"
           }
          ],
          "barpolar": [
           {
            "marker": {
             "line": {
              "color": "#E5ECF6",
              "width": 0.5
             },
             "pattern": {
              "fillmode": "overlay",
              "size": 10,
              "solidity": 0.2
             }
            },
            "type": "barpolar"
           }
          ],
          "carpet": [
           {
            "aaxis": {
             "endlinecolor": "#2a3f5f",
             "gridcolor": "white",
             "linecolor": "white",
             "minorgridcolor": "white",
             "startlinecolor": "#2a3f5f"
            },
            "baxis": {
             "endlinecolor": "#2a3f5f",
             "gridcolor": "white",
             "linecolor": "white",
             "minorgridcolor": "white",
             "startlinecolor": "#2a3f5f"
            },
            "type": "carpet"
           }
          ],
          "choropleth": [
           {
            "colorbar": {
             "outlinewidth": 0,
             "ticks": ""
            },
            "type": "choropleth"
           }
          ],
          "contour": [
           {
            "colorbar": {
             "outlinewidth": 0,
             "ticks": ""
            },
            "colorscale": [
             [
              0.0,
              "#0d0887"
             ],
             [
              0.1111111111111111,
              "#46039f"
             ],
             [
              0.2222222222222222,
              "#7201a8"
             ],
             [
              0.3333333333333333,
              "#9c179e"
             ],
             [
              0.4444444444444444,
              "#bd3786"
             ],
             [
              0.5555555555555556,
              "#d8576b"
             ],
             [
              0.6666666666666666,
              "#ed7953"
             ],
             [
              0.7777777777777778,
              "#fb9f3a"
             ],
             [
              0.8888888888888888,
              "#fdca26"
             ],
             [
              1.0,
              "#f0f921"
             ]
            ],
            "type": "contour"
           }
          ],
          "contourcarpet": [
           {
            "colorbar": {
             "outlinewidth": 0,
             "ticks": ""
            },
            "type": "contourcarpet"
           }
          ],
          "heatmap": [
           {
            "colorbar": {
             "outlinewidth": 0,
             "ticks": ""
            },
            "colorscale": [
             [
              0.0,
              "#0d0887"
             ],
             [
              0.1111111111111111,
              "#46039f"
             ],
             [
              0.2222222222222222,
              "#7201a8"
             ],
             [
              0.3333333333333333,
              "#9c179e"
             ],
             [
              0.4444444444444444,
              "#bd3786"
             ],
             [
              0.5555555555555556,
              "#d8576b"
             ],
             [
              0.6666666666666666,
              "#ed7953"
             ],
             [
              0.7777777777777778,
              "#fb9f3a"
             ],
             [
              0.8888888888888888,
              "#fdca26"
             ],
             [
              1.0,
              "#f0f921"
             ]
            ],
            "type": "heatmap"
           }
          ],
          "heatmapgl": [
           {
            "colorbar": {
             "outlinewidth": 0,
             "ticks": ""
            },
            "colorscale": [
             [
              0.0,
              "#0d0887"
             ],
             [
              0.1111111111111111,
              "#46039f"
             ],
             [
              0.2222222222222222,
              "#7201a8"
             ],
             [
              0.3333333333333333,
              "#9c179e"
             ],
             [
              0.4444444444444444,
              "#bd3786"
             ],
             [
              0.5555555555555556,
              "#d8576b"
             ],
             [
              0.6666666666666666,
              "#ed7953"
             ],
             [
              0.7777777777777778,
              "#fb9f3a"
             ],
             [
              0.8888888888888888,
              "#fdca26"
             ],
             [
              1.0,
              "#f0f921"
             ]
            ],
            "type": "heatmapgl"
           }
          ],
          "histogram": [
           {
            "marker": {
             "pattern": {
              "fillmode": "overlay",
              "size": 10,
              "solidity": 0.2
             }
            },
            "type": "histogram"
           }
          ],
          "histogram2d": [
           {
            "colorbar": {
             "outlinewidth": 0,
             "ticks": ""
            },
            "colorscale": [
             [
              0.0,
              "#0d0887"
             ],
             [
              0.1111111111111111,
              "#46039f"
             ],
             [
              0.2222222222222222,
              "#7201a8"
             ],
             [
              0.3333333333333333,
              "#9c179e"
             ],
             [
              0.4444444444444444,
              "#bd3786"
             ],
             [
              0.5555555555555556,
              "#d8576b"
             ],
             [
              0.6666666666666666,
              "#ed7953"
             ],
             [
              0.7777777777777778,
              "#fb9f3a"
             ],
             [
              0.8888888888888888,
              "#fdca26"
             ],
             [
              1.0,
              "#f0f921"
             ]
            ],
            "type": "histogram2d"
           }
          ],
          "histogram2dcontour": [
           {
            "colorbar": {
             "outlinewidth": 0,
             "ticks": ""
            },
            "colorscale": [
             [
              0.0,
              "#0d0887"
             ],
             [
              0.1111111111111111,
              "#46039f"
             ],
             [
              0.2222222222222222,
              "#7201a8"
             ],
             [
              0.3333333333333333,
              "#9c179e"
             ],
             [
              0.4444444444444444,
              "#bd3786"
             ],
             [
              0.5555555555555556,
              "#d8576b"
             ],
             [
              0.6666666666666666,
              "#ed7953"
             ],
             [
              0.7777777777777778,
              "#fb9f3a"
             ],
             [
              0.8888888888888888,
              "#fdca26"
             ],
             [
              1.0,
              "#f0f921"
             ]
            ],
            "type": "histogram2dcontour"
           }
          ],
          "mesh3d": [
           {
            "colorbar": {
             "outlinewidth": 0,
             "ticks": ""
            },
            "type": "mesh3d"
           }
          ],
          "parcoords": [
           {
            "line": {
             "colorbar": {
              "outlinewidth": 0,
              "ticks": ""
             }
            },
            "type": "parcoords"
           }
          ],
          "pie": [
           {
            "automargin": true,
            "type": "pie"
           }
          ],
          "scatter": [
           {
            "marker": {
             "colorbar": {
              "outlinewidth": 0,
              "ticks": ""
             }
            },
            "type": "scatter"
           }
          ],
          "scatter3d": [
           {
            "line": {
             "colorbar": {
              "outlinewidth": 0,
              "ticks": ""
             }
            },
            "marker": {
             "colorbar": {
              "outlinewidth": 0,
              "ticks": ""
             }
            },
            "type": "scatter3d"
           }
          ],
          "scattercarpet": [
           {
            "marker": {
             "colorbar": {
              "outlinewidth": 0,
              "ticks": ""
             }
            },
            "type": "scattercarpet"
           }
          ],
          "scattergeo": [
           {
            "marker": {
             "colorbar": {
              "outlinewidth": 0,
              "ticks": ""
             }
            },
            "type": "scattergeo"
           }
          ],
          "scattergl": [
           {
            "marker": {
             "colorbar": {
              "outlinewidth": 0,
              "ticks": ""
             }
            },
            "type": "scattergl"
           }
          ],
          "scattermapbox": [
           {
            "marker": {
             "colorbar": {
              "outlinewidth": 0,
              "ticks": ""
             }
            },
            "type": "scattermapbox"
           }
          ],
          "scatterpolar": [
           {
            "marker": {
             "colorbar": {
              "outlinewidth": 0,
              "ticks": ""
             }
            },
            "type": "scatterpolar"
           }
          ],
          "scatterpolargl": [
           {
            "marker": {
             "colorbar": {
              "outlinewidth": 0,
              "ticks": ""
             }
            },
            "type": "scatterpolargl"
           }
          ],
          "scatterternary": [
           {
            "marker": {
             "colorbar": {
              "outlinewidth": 0,
              "ticks": ""
             }
            },
            "type": "scatterternary"
           }
          ],
          "surface": [
           {
            "colorbar": {
             "outlinewidth": 0,
             "ticks": ""
            },
            "colorscale": [
             [
              0.0,
              "#0d0887"
             ],
             [
              0.1111111111111111,
              "#46039f"
             ],
             [
              0.2222222222222222,
              "#7201a8"
             ],
             [
              0.3333333333333333,
              "#9c179e"
             ],
             [
              0.4444444444444444,
              "#bd3786"
             ],
             [
              0.5555555555555556,
              "#d8576b"
             ],
             [
              0.6666666666666666,
              "#ed7953"
             ],
             [
              0.7777777777777778,
              "#fb9f3a"
             ],
             [
              0.8888888888888888,
              "#fdca26"
             ],
             [
              1.0,
              "#f0f921"
             ]
            ],
            "type": "surface"
           }
          ],
          "table": [
           {
            "cells": {
             "fill": {
              "color": "#EBF0F8"
             },
             "line": {
              "color": "white"
             }
            },
            "header": {
             "fill": {
              "color": "#C8D4E3"
             },
             "line": {
              "color": "white"
             }
            },
            "type": "table"
           }
          ]
         },
         "layout": {
          "annotationdefaults": {
           "arrowcolor": "#2a3f5f",
           "arrowhead": 0,
           "arrowwidth": 1
          },
          "autotypenumbers": "strict",
          "coloraxis": {
           "colorbar": {
            "outlinewidth": 0,
            "ticks": ""
           }
          },
          "colorscale": {
           "diverging": [
            [
             0,
             "#8e0152"
            ],
            [
             0.1,
             "#c51b7d"
            ],
            [
             0.2,
             "#de77ae"
            ],
            [
             0.3,
             "#f1b6da"
            ],
            [
             0.4,
             "#fde0ef"
            ],
            [
             0.5,
             "#f7f7f7"
            ],
            [
             0.6,
             "#e6f5d0"
            ],
            [
             0.7,
             "#b8e186"
            ],
            [
             0.8,
             "#7fbc41"
            ],
            [
             0.9,
             "#4d9221"
            ],
            [
             1,
             "#276419"
            ]
           ],
           "sequential": [
            [
             0.0,
             "#0d0887"
            ],
            [
             0.1111111111111111,
             "#46039f"
            ],
            [
             0.2222222222222222,
             "#7201a8"
            ],
            [
             0.3333333333333333,
             "#9c179e"
            ],
            [
             0.4444444444444444,
             "#bd3786"
            ],
            [
             0.5555555555555556,
             "#d8576b"
            ],
            [
             0.6666666666666666,
             "#ed7953"
            ],
            [
             0.7777777777777778,
             "#fb9f3a"
            ],
            [
             0.8888888888888888,
             "#fdca26"
            ],
            [
             1.0,
             "#f0f921"
            ]
           ],
           "sequentialminus": [
            [
             0.0,
             "#0d0887"
            ],
            [
             0.1111111111111111,
             "#46039f"
            ],
            [
             0.2222222222222222,
             "#7201a8"
            ],
            [
             0.3333333333333333,
             "#9c179e"
            ],
            [
             0.4444444444444444,
             "#bd3786"
            ],
            [
             0.5555555555555556,
             "#d8576b"
            ],
            [
             0.6666666666666666,
             "#ed7953"
            ],
            [
             0.7777777777777778,
             "#fb9f3a"
            ],
            [
             0.8888888888888888,
             "#fdca26"
            ],
            [
             1.0,
             "#f0f921"
            ]
           ]
          },
          "colorway": [
           "#636efa",
           "#EF553B",
           "#00cc96",
           "#ab63fa",
           "#FFA15A",
           "#19d3f3",
           "#FF6692",
           "#B6E880",
           "#FF97FF",
           "#FECB52"
          ],
          "font": {
           "color": "#2a3f5f"
          },
          "geo": {
           "bgcolor": "white",
           "lakecolor": "white",
           "landcolor": "#E5ECF6",
           "showlakes": true,
           "showland": true,
           "subunitcolor": "white"
          },
          "hoverlabel": {
           "align": "left"
          },
          "hovermode": "closest",
          "mapbox": {
           "style": "light"
          },
          "paper_bgcolor": "white",
          "plot_bgcolor": "#E5ECF6",
          "polar": {
           "angularaxis": {
            "gridcolor": "white",
            "linecolor": "white",
            "ticks": ""
           },
           "bgcolor": "#E5ECF6",
           "radialaxis": {
            "gridcolor": "white",
            "linecolor": "white",
            "ticks": ""
           }
          },
          "scene": {
           "xaxis": {
            "backgroundcolor": "#E5ECF6",
            "gridcolor": "white",
            "gridwidth": 2,
            "linecolor": "white",
            "showbackground": true,
            "ticks": "",
            "zerolinecolor": "white"
           },
           "yaxis": {
            "backgroundcolor": "#E5ECF6",
            "gridcolor": "white",
            "gridwidth": 2,
            "linecolor": "white",
            "showbackground": true,
            "ticks": "",
            "zerolinecolor": "white"
           },
           "zaxis": {
            "backgroundcolor": "#E5ECF6",
            "gridcolor": "white",
            "gridwidth": 2,
            "linecolor": "white",
            "showbackground": true,
            "ticks": "",
            "zerolinecolor": "white"
           }
          },
          "shapedefaults": {
           "line": {
            "color": "#2a3f5f"
           }
          },
          "ternary": {
           "aaxis": {
            "gridcolor": "white",
            "linecolor": "white",
            "ticks": ""
           },
           "baxis": {
            "gridcolor": "white",
            "linecolor": "white",
            "ticks": ""
           },
           "bgcolor": "#E5ECF6",
           "caxis": {
            "gridcolor": "white",
            "linecolor": "white",
            "ticks": ""
           }
          },
          "title": {
           "x": 0.05
          },
          "xaxis": {
           "automargin": true,
           "gridcolor": "white",
           "linecolor": "white",
           "ticks": "",
           "title": {
            "standoff": 15
           },
           "zerolinecolor": "white",
           "zerolinewidth": 2
          },
          "yaxis": {
           "automargin": true,
           "gridcolor": "white",
           "linecolor": "white",
           "ticks": "",
           "title": {
            "standoff": 15
           },
           "zerolinecolor": "white",
           "zerolinewidth": 2
          }
         }
        }
       }
      },
      "image/png": "[encoded data removed]"
     },
     "metadata": {},
     "output_type": "display_data"
    }
   ],
   "source": [
    "# Logarithm of function's real part plot\n",
    "log_r_vals = [cmath.log(v.real).real for v in func_vals]\n",
    "crop_at = 30*max(v.real for v in func_vals)\n",
    "\n",
    "fig = go.Figure(**DEF_FIGURE)\n",
    "fig.add_scatter(y=[v.real for v in func_vals], name='function')\n",
    "fig.add_scatter(y=[v.real for v in log_vals], name='logarithm/real', line_dash='dash')\n",
    "fig.add_scatter(y=[v.imag for v in log_vals], name='logarithm/imag', line_dash='dash')\n",
    "fig.add_scatter(y=[crop_val(v, crop_at) for v in log_r_vals], name='real logarithm')\n",
    "fig.add_scatter(y=[OMEGA.real*t + crop_val(cmath.log(cmath.cos(OMEGA.imag*t)).real, crop_at) for t in t_range],\n",
    "        name='at+log(cos(bt))', line_dash='dot')\n",
    "fig.show()"
   ]
  },
  {
   "cell_type": "markdown",
   "metadata": {},
   "source": [
    "### Using real part of derivative and function only\n",
    "\n",
    "Since $e^{(a+ib)t} = e^{at}cos(bt) + i.e^{at}sin(bt)$, the derivative of its real part\n",
    "$e^{at}cos(bt)$ is:\n",
    "\n",
    "$$\\frac{\\partial e^{at}cos(bt)}{\\partial t} = ae^{at}cos(bt) - be^{at}sin(bt)$$\n",
    "\n",
    "> The real part of actual derivative is the same as the derivative of the real part above.\n",
    "\n",
    "#### Main problem to be solved\n",
    "\n",
    "The ratio between these real parts is **NOT** a constant, but instead:\n",
    "$$\\frac{ae^{at}cos(bt) - be^{at}sin(bt)}{e^{at}cos(bt)} = a - b.tan(bt)$$"
   ]
  },
  {
   "cell_type": "code",
   "execution_count": 5,
   "metadata": {
    "execution": {
     "iopub.execute_input": "2021-11-30T20:40:57.624164Z",
     "iopub.status.busy": "2021-11-30T20:40:57.623166Z",
     "iopub.status.idle": "2021-11-30T20:40:57.750166Z",
     "shell.execute_reply": "2021-11-30T20:40:57.751166Z"
    }
   },
   "outputs": [
    {
     "data": {
      "application/vnd.plotly.v1+json": {
       "config": {
        "plotlyServerURL": "https://plot.ly"
       },
       "data": [
        {
         "name": "function",
         "type": "scatter",
         "y": [
          1.0,
          0.7850437685412247,
          0.41086247901693873,
          4.561110280047519e-17,
          -0.33761595332788846,
          -0.5300866006403276,
          -0.5548549101598534,
          -0.43558538966549404,
          -0.22796906388299834,
          -7.592263303994851e-17,
          0.18732786945227867,
          0.29412115317523113,
          0.307863971328499,
          0.2416866922497925,
          0.12648975446002694,
          2.7389027068083124e-16,
          -0.1039397881753808,
          -0.16319456602115523,
          -0.17081983615293003,
          -0.1341010479150908,
          -0.07018346134706029,
          -5.4538967749921336e-17,
          0.05767150183008511,
          0.09054930626824437,
          0.09478022484215487,
          0.0744066248932699,
          0.03894163814043068,
          1.6431886230134883e-16,
          -0.03199931596671569,
          -0.05024172719450377,
          -0.052589273139724564,
          -0.041284881170453196,
          -0.0216069591318862,
          -9.597043706654071e-17,
          0.01775497758588873,
          0.02787686902878223,
          0.02917941642331386,
          0.022907119032792026,
          0.011988727367950347,
          5.591147896084061e-17
         ]
        },
        {
         "name": "derivative",
         "type": "scatter",
         "y": [
          -0.09817477042468103,
          -0.31439013979587904,
          -0.4129473811679122,
          -0.39002131221254116,
          -0.2730384320410516,
          -0.10820399288202039,
          0.054472753423950596,
          0.17444091277158616,
          0.22912588207866866,
          0.21640524014811766,
          0.151496714680325,
          0.060037516749490864,
          -0.030224474707205937,
          -0.09678939698408123,
          -0.12713162071605688,
          -0.12007351008050537,
          -0.08405869601346469,
          -0.03331211096225954,
          0.016770198198295505,
          0.053704072168028784,
          0.07053960399088427,
          0.06662337664829704,
          0.046640380224705395,
          0.0184833883351996,
          -0.00930502681467818,
          -0.029797968138009882,
          -0.03913924563507372,
          -0.03696630766473694,
          -0.025878643979400318,
          -0.010255598774176857,
          0.005162939817293238,
          0.01653354893416165,
          0.021716602620573268,
          0.02051093731825912,
          0.014358892680249013,
          0.005690369336481437,
          -0.0028646825084849945,
          -0.009173720808487797,
          -0.01204956359601542,
          -0.011380594283017052
         ]
        },
        {
         "name": "ratio",
         "type": "scatter",
         "y": [
          -0.09817477042468103,
          -0.4004746644637172,
          -1.0050744525417896,
          null,
          0.8087249116924283,
          0.2041251236143555,
          -0.09817477042468097,
          -0.40047466446371704,
          -1.005074452541789,
          null,
          0.8087249116924293,
          0.20412512361435556,
          -0.09817477042468091,
          -0.40047466446371677,
          -1.005074452541789,
          null,
          0.8087249116924298,
          0.2041251236143563,
          -0.09817477042468085,
          -0.40047466446371666,
          -1.0050744525417867,
          null,
          0.80872491169243,
          0.20412512361435642,
          -0.09817477042468077,
          -0.4004746644637166,
          -1.0050744525417865,
          null,
          0.8087249116924302,
          0.2041251236143565,
          -0.09817477042467979,
          -0.4004746644637165,
          -1.005074452541786,
          null,
          0.8087249116924342,
          0.2041251236143579,
          -0.09817477042468066,
          -0.4004746644637164,
          -1.0050744525417858,
          null
         ]
        },
        {
         "line": {
          "dash": "dot"
         },
         "name": "a-b.tan(b)",
         "type": "scatter",
         "y": [
          -0.09817477042468103,
          -0.40047466446371727,
          -1.0050744525417896,
          null,
          0.8087249116924283,
          0.20412512361435553,
          -0.09817477042468097,
          -0.4004746644637171,
          -1.005074452541789,
          null,
          0.8087249116924294,
          0.20412512361435559,
          -0.09817477042468091,
          -0.4004746644637167,
          -1.0050744525417885,
          null,
          0.8087249116924297,
          0.2041251236143563,
          -0.09817477042468084,
          -0.4004746644637166,
          -1.0050744525417865,
          null,
          0.80872491169243,
          0.20412512361435636,
          -0.09817477042468079,
          -0.40047466446371655,
          -1.0050744525417863,
          null,
          0.8087249116924303,
          0.20412512361435653,
          -0.09817477042467979,
          -0.4004746644637165,
          -1.0050744525417858,
          null,
          0.8087249116924342,
          0.2041251236143578,
          -0.09817477042468065,
          -0.4004746644637164,
          -1.0050744525417858,
          null
         ]
        }
       ],
       "layout": {
        "margin": {
         "b": 8,
         "l": 8,
         "r": 8,
         "t": 8
        },
        "template": {
         "data": {
          "bar": [
           {
            "error_x": {
             "color": "#2a3f5f"
            },
            "error_y": {
             "color": "#2a3f5f"
            },
            "marker": {
             "line": {
              "color": "#E5ECF6",
              "width": 0.5
             },
             "pattern": {
              "fillmode": "overlay",
              "size": 10,
              "solidity": 0.2
             }
            },
            "type": "bar"
           }
          ],
          "barpolar": [
           {
            "marker": {
             "line": {
              "color": "#E5ECF6",
              "width": 0.5
             },
             "pattern": {
              "fillmode": "overlay",
              "size": 10,
              "solidity": 0.2
             }
            },
            "type": "barpolar"
           }
          ],
          "carpet": [
           {
            "aaxis": {
             "endlinecolor": "#2a3f5f",
             "gridcolor": "white",
             "linecolor": "white",
             "minorgridcolor": "white",
             "startlinecolor": "#2a3f5f"
            },
            "baxis": {
             "endlinecolor": "#2a3f5f",
             "gridcolor": "white",
             "linecolor": "white",
             "minorgridcolor": "white",
             "startlinecolor": "#2a3f5f"
            },
            "type": "carpet"
           }
          ],
          "choropleth": [
           {
            "colorbar": {
             "outlinewidth": 0,
             "ticks": ""
            },
            "type": "choropleth"
           }
          ],
          "contour": [
           {
            "colorbar": {
             "outlinewidth": 0,
             "ticks": ""
            },
            "colorscale": [
             [
              0.0,
              "#0d0887"
             ],
             [
              0.1111111111111111,
              "#46039f"
             ],
             [
              0.2222222222222222,
              "#7201a8"
             ],
             [
              0.3333333333333333,
              "#9c179e"
             ],
             [
              0.4444444444444444,
              "#bd3786"
             ],
             [
              0.5555555555555556,
              "#d8576b"
             ],
             [
              0.6666666666666666,
              "#ed7953"
             ],
             [
              0.7777777777777778,
              "#fb9f3a"
             ],
             [
              0.8888888888888888,
              "#fdca26"
             ],
             [
              1.0,
              "#f0f921"
             ]
            ],
            "type": "contour"
           }
          ],
          "contourcarpet": [
           {
            "colorbar": {
             "outlinewidth": 0,
             "ticks": ""
            },
            "type": "contourcarpet"
           }
          ],
          "heatmap": [
           {
            "colorbar": {
             "outlinewidth": 0,
             "ticks": ""
            },
            "colorscale": [
             [
              0.0,
              "#0d0887"
             ],
             [
              0.1111111111111111,
              "#46039f"
             ],
             [
              0.2222222222222222,
              "#7201a8"
             ],
             [
              0.3333333333333333,
              "#9c179e"
             ],
             [
              0.4444444444444444,
              "#bd3786"
             ],
             [
              0.5555555555555556,
              "#d8576b"
             ],
             [
              0.6666666666666666,
              "#ed7953"
             ],
             [
              0.7777777777777778,
              "#fb9f3a"
             ],
             [
              0.8888888888888888,
              "#fdca26"
             ],
             [
              1.0,
              "#f0f921"
             ]
            ],
            "type": "heatmap"
           }
          ],
          "heatmapgl": [
           {
            "colorbar": {
             "outlinewidth": 0,
             "ticks": ""
            },
            "colorscale": [
             [
              0.0,
              "#0d0887"
             ],
             [
              0.1111111111111111,
              "#46039f"
             ],
             [
              0.2222222222222222,
              "#7201a8"
             ],
             [
              0.3333333333333333,
              "#9c179e"
             ],
             [
              0.4444444444444444,
              "#bd3786"
             ],
             [
              0.5555555555555556,
              "#d8576b"
             ],
             [
              0.6666666666666666,
              "#ed7953"
             ],
             [
              0.7777777777777778,
              "#fb9f3a"
             ],
             [
              0.8888888888888888,
              "#fdca26"
             ],
             [
              1.0,
              "#f0f921"
             ]
            ],
            "type": "heatmapgl"
           }
          ],
          "histogram": [
           {
            "marker": {
             "pattern": {
              "fillmode": "overlay",
              "size": 10,
              "solidity": 0.2
             }
            },
            "type": "histogram"
           }
          ],
          "histogram2d": [
           {
            "colorbar": {
             "outlinewidth": 0,
             "ticks": ""
            },
            "colorscale": [
             [
              0.0,
              "#0d0887"
             ],
             [
              0.1111111111111111,
              "#46039f"
             ],
             [
              0.2222222222222222,
              "#7201a8"
             ],
             [
              0.3333333333333333,
              "#9c179e"
             ],
             [
              0.4444444444444444,
              "#bd3786"
             ],
             [
              0.5555555555555556,
              "#d8576b"
             ],
             [
              0.6666666666666666,
              "#ed7953"
             ],
             [
              0.7777777777777778,
              "#fb9f3a"
             ],
             [
              0.8888888888888888,
              "#fdca26"
             ],
             [
              1.0,
              "#f0f921"
             ]
            ],
            "type": "histogram2d"
           }
          ],
          "histogram2dcontour": [
           {
            "colorbar": {
             "outlinewidth": 0,
             "ticks": ""
            },
            "colorscale": [
             [
              0.0,
              "#0d0887"
             ],
             [
              0.1111111111111111,
              "#46039f"
             ],
             [
              0.2222222222222222,
              "#7201a8"
             ],
             [
              0.3333333333333333,
              "#9c179e"
             ],
             [
              0.4444444444444444,
              "#bd3786"
             ],
             [
              0.5555555555555556,
              "#d8576b"
             ],
             [
              0.6666666666666666,
              "#ed7953"
             ],
             [
              0.7777777777777778,
              "#fb9f3a"
             ],
             [
              0.8888888888888888,
              "#fdca26"
             ],
             [
              1.0,
              "#f0f921"
             ]
            ],
            "type": "histogram2dcontour"
           }
          ],
          "mesh3d": [
           {
            "colorbar": {
             "outlinewidth": 0,
             "ticks": ""
            },
            "type": "mesh3d"
           }
          ],
          "parcoords": [
           {
            "line": {
             "colorbar": {
              "outlinewidth": 0,
              "ticks": ""
             }
            },
            "type": "parcoords"
           }
          ],
          "pie": [
           {
            "automargin": true,
            "type": "pie"
           }
          ],
          "scatter": [
           {
            "marker": {
             "colorbar": {
              "outlinewidth": 0,
              "ticks": ""
             }
            },
            "type": "scatter"
           }
          ],
          "scatter3d": [
           {
            "line": {
             "colorbar": {
              "outlinewidth": 0,
              "ticks": ""
             }
            },
            "marker": {
             "colorbar": {
              "outlinewidth": 0,
              "ticks": ""
             }
            },
            "type": "scatter3d"
           }
          ],
          "scattercarpet": [
           {
            "marker": {
             "colorbar": {
              "outlinewidth": 0,
              "ticks": ""
             }
            },
            "type": "scattercarpet"
           }
          ],
          "scattergeo": [
           {
            "marker": {
             "colorbar": {
              "outlinewidth": 0,
              "ticks": ""
             }
            },
            "type": "scattergeo"
           }
          ],
          "scattergl": [
           {
            "marker": {
             "colorbar": {
              "outlinewidth": 0,
              "ticks": ""
             }
            },
            "type": "scattergl"
           }
          ],
          "scattermapbox": [
           {
            "marker": {
             "colorbar": {
              "outlinewidth": 0,
              "ticks": ""
             }
            },
            "type": "scattermapbox"
           }
          ],
          "scatterpolar": [
           {
            "marker": {
             "colorbar": {
              "outlinewidth": 0,
              "ticks": ""
             }
            },
            "type": "scatterpolar"
           }
          ],
          "scatterpolargl": [
           {
            "marker": {
             "colorbar": {
              "outlinewidth": 0,
              "ticks": ""
             }
            },
            "type": "scatterpolargl"
           }
          ],
          "scatterternary": [
           {
            "marker": {
             "colorbar": {
              "outlinewidth": 0,
              "ticks": ""
             }
            },
            "type": "scatterternary"
           }
          ],
          "surface": [
           {
            "colorbar": {
             "outlinewidth": 0,
             "ticks": ""
            },
            "colorscale": [
             [
              0.0,
              "#0d0887"
             ],
             [
              0.1111111111111111,
              "#46039f"
             ],
             [
              0.2222222222222222,
              "#7201a8"
             ],
             [
              0.3333333333333333,
              "#9c179e"
             ],
             [
              0.4444444444444444,
              "#bd3786"
             ],
             [
              0.5555555555555556,
              "#d8576b"
             ],
             [
              0.6666666666666666,
              "#ed7953"
             ],
             [
              0.7777777777777778,
              "#fb9f3a"
             ],
             [
              0.8888888888888888,
              "#fdca26"
             ],
             [
              1.0,
              "#f0f921"
             ]
            ],
            "type": "surface"
           }
          ],
          "table": [
           {
            "cells": {
             "fill": {
              "color": "#EBF0F8"
             },
             "line": {
              "color": "white"
             }
            },
            "header": {
             "fill": {
              "color": "#C8D4E3"
             },
             "line": {
              "color": "white"
             }
            },
            "type": "table"
           }
          ]
         },
         "layout": {
          "annotationdefaults": {
           "arrowcolor": "#2a3f5f",
           "arrowhead": 0,
           "arrowwidth": 1
          },
          "autotypenumbers": "strict",
          "coloraxis": {
           "colorbar": {
            "outlinewidth": 0,
            "ticks": ""
           }
          },
          "colorscale": {
           "diverging": [
            [
             0,
             "#8e0152"
            ],
            [
             0.1,
             "#c51b7d"
            ],
            [
             0.2,
             "#de77ae"
            ],
            [
             0.3,
             "#f1b6da"
            ],
            [
             0.4,
             "#fde0ef"
            ],
            [
             0.5,
             "#f7f7f7"
            ],
            [
             0.6,
             "#e6f5d0"
            ],
            [
             0.7,
             "#b8e186"
            ],
            [
             0.8,
             "#7fbc41"
            ],
            [
             0.9,
             "#4d9221"
            ],
            [
             1,
             "#276419"
            ]
           ],
           "sequential": [
            [
             0.0,
             "#0d0887"
            ],
            [
             0.1111111111111111,
             "#46039f"
            ],
            [
             0.2222222222222222,
             "#7201a8"
            ],
            [
             0.3333333333333333,
             "#9c179e"
            ],
            [
             0.4444444444444444,
             "#bd3786"
            ],
            [
             0.5555555555555556,
             "#d8576b"
            ],
            [
             0.6666666666666666,
             "#ed7953"
            ],
            [
             0.7777777777777778,
             "#fb9f3a"
            ],
            [
             0.8888888888888888,
             "#fdca26"
            ],
            [
             1.0,
             "#f0f921"
            ]
           ],
           "sequentialminus": [
            [
             0.0,
             "#0d0887"
            ],
            [
             0.1111111111111111,
             "#46039f"
            ],
            [
             0.2222222222222222,
             "#7201a8"
            ],
            [
             0.3333333333333333,
             "#9c179e"
            ],
            [
             0.4444444444444444,
             "#bd3786"
            ],
            [
             0.5555555555555556,
             "#d8576b"
            ],
            [
             0.6666666666666666,
             "#ed7953"
            ],
            [
             0.7777777777777778,
             "#fb9f3a"
            ],
            [
             0.8888888888888888,
             "#fdca26"
            ],
            [
             1.0,
             "#f0f921"
            ]
           ]
          },
          "colorway": [
           "#636efa",
           "#EF553B",
           "#00cc96",
           "#ab63fa",
           "#FFA15A",
           "#19d3f3",
           "#FF6692",
           "#B6E880",
           "#FF97FF",
           "#FECB52"
          ],
          "font": {
           "color": "#2a3f5f"
          },
          "geo": {
           "bgcolor": "white",
           "lakecolor": "white",
           "landcolor": "#E5ECF6",
           "showlakes": true,
           "showland": true,
           "subunitcolor": "white"
          },
          "hoverlabel": {
           "align": "left"
          },
          "hovermode": "closest",
          "mapbox": {
           "style": "light"
          },
          "paper_bgcolor": "white",
          "plot_bgcolor": "#E5ECF6",
          "polar": {
           "angularaxis": {
            "gridcolor": "white",
            "linecolor": "white",
            "ticks": ""
           },
           "bgcolor": "#E5ECF6",
           "radialaxis": {
            "gridcolor": "white",
            "linecolor": "white",
            "ticks": ""
           }
          },
          "scene": {
           "xaxis": {
            "backgroundcolor": "#E5ECF6",
            "gridcolor": "white",
            "gridwidth": 2,
            "linecolor": "white",
            "showbackground": true,
            "ticks": "",
            "zerolinecolor": "white"
           },
           "yaxis": {
            "backgroundcolor": "#E5ECF6",
            "gridcolor": "white",
            "gridwidth": 2,
            "linecolor": "white",
            "showbackground": true,
            "ticks": "",
            "zerolinecolor": "white"
           },
           "zaxis": {
            "backgroundcolor": "#E5ECF6",
            "gridcolor": "white",
            "gridwidth": 2,
            "linecolor": "white",
            "showbackground": true,
            "ticks": "",
            "zerolinecolor": "white"
           }
          },
          "shapedefaults": {
           "line": {
            "color": "#2a3f5f"
           }
          },
          "ternary": {
           "aaxis": {
            "gridcolor": "white",
            "linecolor": "white",
            "ticks": ""
           },
           "baxis": {
            "gridcolor": "white",
            "linecolor": "white",
            "ticks": ""
           },
           "bgcolor": "#E5ECF6",
           "caxis": {
            "gridcolor": "white",
            "linecolor": "white",
            "ticks": ""
           }
          },
          "title": {
           "x": 0.05
          },
          "xaxis": {
           "automargin": true,
           "gridcolor": "white",
           "linecolor": "white",
           "ticks": "",
           "title": {
            "standoff": 15
           },
           "zerolinecolor": "white",
           "zerolinewidth": 2
          },
          "yaxis": {
           "automargin": true,
           "gridcolor": "white",
           "linecolor": "white",
           "ticks": "",
           "title": {
            "standoff": 15
           },
           "zerolinecolor": "white",
           "zerolinewidth": 2
          }
         }
        }
       }
      },
      "image/png": "[encoded data removed]"
     },
     "metadata": {},
     "output_type": "display_data"
    }
   ],
   "source": [
    "# Ratio between real part of derivative and function plot\n",
    "fig = go.Figure(**DEF_FIGURE)\n",
    "fig.add_scatter(y=[v.real for v in func_vals], name='function')\n",
    "fig.add_scatter(y=[v.real for v in deriv_vals[1]], name='derivative')\n",
    "fig.add_scatter(y=[crop_val(dv.real/fv.real) for fv,dv in zip(func_vals, deriv_vals[1])],\n",
    "        name='ratio')\n",
    "fig.add_scatter(y=[OMEGA.real - OMEGA.imag*crop_val(cmath.tan(OMEGA.imag*t)).real for t in t_range],\n",
    "        name='a-b.tan(b)', line_dash='dot')\n",
    "fig.show()"
   ]
  },
  {
   "cell_type": "markdown",
   "metadata": {},
   "source": [
    "> This ratio is actually the [logarithmic derivative](https://en.wikipedia.org/wiki/Logarithmic_derivative)\n",
    "> of the function, that is equal to the derivative of logarithm:\n",
    ">\n",
    "> $\\frac{\\partial log(e^{at}cos(bt))}{\\partial t} = \\frac{\\partial(at - log(cos(bt))}{\\partial t} = a - b.tan(bt)$\n",
    "\n",
    "### Using further logarithmic derivatives\n",
    "\n",
    "Since the logarithmic derivative $\\frac{f'(t)}{f(t)} = \\frac{\\partial e^{at}cos(bt)}{e^{at} \\partial t} = a - b.tan(bt)$,\n",
    "we could try to isolate the individual coefficients by further differentiation:\n",
    "\n",
    "- First derivative: $\\frac{\\partial (f'/f)}{\\partial t} = \\frac{\\partial\\left(a - b.tan(bt)\\right)}{\\partial t} = -\\frac{b^2}{cos^2(bt)}$\n",
    "\n",
    "- Second derivative: $\\frac{\\partial^2 (f'/f)}{\\partial t^2} = \\frac{\\partial^2\\left(a - b.tan(bt)\\right)}{\\partial t^2} = -\\frac{2b^3sin(bt)}{cos^3(bt))}$\n",
    "\n",
    "The ratio between these derivatives (which is also a logarithmic derivative) seems familiar:\n",
    "\n",
    "${ \\frac{\\partial^2 (f'/f)}{\\partial t^2} }/{ \\frac{\\partial (f'/f)}{\\partial t} } = \\frac{2b^3 sin(bt)cos^2(bt)}{cos^3(bt) b^2} = \\boxed{2b.tan(bt)}$\n",
    "\n",
    "#### Finding real part of the exponent coefficient ($a$)\n",
    "$$\n",
    "\\frac{f'}{f} + \\frac{1}2 \\frac{ \\frac{\\partial^2 (f'/f)}{\\partial t^2} }{ \\frac{\\partial (f'/f)}{\\partial t} }\n",
    "= a - b.tan(bt) + \\frac{1}{2}2b.tan(bt) = a\n",
    "$$\n",
    "\n",
    "The derivatives of the logarithmic derivative can be calculated from the regular derivatives:\n",
    "\n",
    "- First derivalive:\n",
    "$$\n",
    "\\frac{\\partial \\frac{f'}{f}}{\\partial t}\n",
    "= \\frac{\\partial f'}{f \\partial t} + f'\\frac{\\partial\\frac{1}{f}}{\\partial t}\n",
    "= \\frac{f''}{f} - f'\\frac{1}{f^{2}}\\frac{\\partial f}{\\partial t}\n",
    "= \\frac{f''}{f} - \\left(\\frac{f'}{f}\\right)^2\n",
    "= \\boxed{\\frac{f'}{f} \\left( \\frac{f''}{f'}-\\frac{f'}{f} \\right)}\n",
    "$$\n",
    "\n",
    "- Second derivative:\n",
    "$$\n",
    "\\frac{\\partial^2\\frac{f'}{f}}{\\partial t^2} = \\frac{\\partial\\left[ \\frac{f''}{f} - \\left(\\frac{f'}{f}\\right)^2 \\right]}{\\partial t}\n",
    "= \\frac{f'''}{f} - \\frac{f''f'}{f^2} - 2\\frac{f'}{f}\\left[\\frac{f''}{f} - \\left(\\frac{f'}{f}\\right)^{2}\\right]\n",
    "= \\boxed{ \\frac{f'''}{f} - 3\\frac{f''f'}{f^2} + 2\\frac{f'^3}{f^3} }\n",
    "$$\n",
    "\n",
    "- The ratio, i.e. logarithmic derivative of first derivalive\n",
    "$$\n",
    "2b.tan(bt) = \\frac{\\frac{f'''}{f} - 3\\frac{f''f'}{f^2} + 2\\frac{f'^3}{f^3}}{\\frac{f''}{f} - \\frac{f'^2}{f^2}}\n",
    "= \\frac{f'''f^2 -3f''f'f+2f'^3}{f\\left( f''f-f'^2\\right)}\n",
    "$$\n",
    "\n",
    "Reduce the calculations of $a$, also avoid division by zero when $f(t)=0$:\n",
    "$$\n",
    "a = \\frac{f'}{f} - \\frac{ \\frac{f'''}{f} - 3\\frac{f''f'}{f^2} + 2\\frac{f'^3}{f^3} }{ 2 \\frac{f'}{f} \\left( \\frac{f''}{f'}-\\frac{f'}{f} \\right) } = \\boxed{ \\frac{f'''(t) f(t) -f''(t) f'(t)}{2\\left[ f''(t) f(t) -f'^2(t)\\right]} }\n",
    "$$"
   ]
  },
  {
   "cell_type": "code",
   "execution_count": 6,
   "metadata": {
    "execution": {
     "iopub.execute_input": "2021-11-30T20:40:57.759172Z",
     "iopub.status.busy": "2021-11-30T20:40:57.759172Z",
     "iopub.status.idle": "2021-11-30T20:40:57.929175Z",
     "shell.execute_reply": "2021-11-30T20:40:57.929175Z"
    }
   },
   "outputs": [
    {
     "data": {
      "application/vnd.plotly.v1+json": {
       "config": {
        "plotlyServerURL": "https://plot.ly"
       },
       "data": [
        {
         "name": "derivative 0",
         "type": "scatter",
         "y": [
          1.0,
          0.7850437685412247,
          0.41086247901693873,
          4.561110280047519e-17,
          -0.33761595332788846,
          -0.5300866006403276,
          -0.5548549101598534,
          -0.43558538966549404,
          -0.22796906388299834,
          -7.592263303994851e-17,
          0.18732786945227867,
          0.29412115317523113,
          0.307863971328499,
          0.2416866922497925,
          0.12648975446002694,
          2.7389027068083124e-16,
          -0.1039397881753808,
          -0.16319456602115523,
          -0.17081983615293003,
          -0.1341010479150908,
          -0.07018346134706029,
          -5.4538967749921336e-17,
          0.05767150183008511,
          0.09054930626824437,
          0.09478022484215487,
          0.0744066248932699,
          0.03894163814043068,
          1.6431886230134883e-16,
          -0.03199931596671569,
          -0.05024172719450377,
          -0.052589273139724564,
          -0.041284881170453196,
          -0.0216069591318862,
          -9.597043706654071e-17,
          0.01775497758588873,
          0.02787686902878223,
          0.02917941642331386,
          0.022907119032792026,
          0.011988727367950347,
          5.591147896084061e-17
         ]
        },
        {
         "line": {
          "dash": "dot"
         },
         "name": "derivative 1",
         "type": "scatter",
         "y": [
          -0.09817477042468103,
          -0.31439013979587904,
          -0.4129473811679122,
          -0.39002131221254116,
          -0.2730384320410516,
          -0.10820399288202039,
          0.054472753423950596,
          0.17444091277158616,
          0.22912588207866866,
          0.21640524014811766,
          0.151496714680325,
          0.060037516749490864,
          -0.030224474707205937,
          -0.09678939698408123,
          -0.12713162071605688,
          -0.12007351008050537,
          -0.08405869601346469,
          -0.03331211096225954,
          0.016770198198295505,
          0.053704072168028784,
          0.07053960399088427,
          0.06662337664829704,
          0.046640380224705395,
          0.0184833883351996,
          -0.00930502681467818,
          -0.029797968138009882,
          -0.03913924563507372,
          -0.03696630766473694,
          -0.025878643979400318,
          -0.010255598774176857,
          0.005162939817293238,
          0.01653354893416165,
          0.021716602620573268,
          0.02051093731825912,
          0.014358892680249013,
          0.005690369336481437,
          -0.0028646825084849945,
          -0.009173720808487797,
          -0.01204956359601542,
          -0.011380594283017052
         ]
        },
        {
         "line": {
          "dash": "dot"
         },
         "name": "derivative 2",
         "type": "scatter",
         "y": [
          -0.26451739226009885,
          -0.1610603228857384,
          -0.03551826262721272,
          0.07658050557439813,
          0.14942434025261808,
          0.17168118163806764,
          0.14676877391819587,
          0.08936511098508339,
          0.019707482419056226,
          -0.042491069540478814,
          -0.08290882888656174,
          -0.09525814661392751,
          -0.08143537486665242,
          -0.049584670627053795,
          -0.010934793387102338,
          0.0235763785724784,
          0.046002370803311876,
          0.05285445038146488,
          0.04518481760547041,
          0.027512297966079874,
          0.006067223802417268,
          -0.01308146941472722,
          -0.025524641319211876,
          -0.029326551317956133,
          -0.02507101791307265,
          -0.015265333616260366,
          -0.0033664289178099585,
          0.007258317536867307,
          0.014162472566033785,
          0.016271980996822876,
          0.013910777391774015,
          0.00847004531221034,
          0.0018678796147509795,
          -0.004027313124830197,
          -0.00785811744326805,
          -0.009028588554115,
          -0.0077184631399664855,
          -0.004699646230756355,
          -0.0010364021758320777,
          0.002234574462063257
         ]
        },
        {
         "line": {
          "dash": "dot"
         },
         "name": "derivative 3",
         "type": "scatter",
         "y": [
          0.07979927571732434,
          0.12084614426037678,
          0.1241659685177332,
          0.0956491468785507,
          0.048147258177111074,
          -0.00300188119618007,
          -0.044277019958957366,
          -0.06705207651675603,
          -0.06889409730681806,
          -0.05307139879816487,
          -0.026714742610304258,
          0.001665608521417044,
          0.024567321931473318,
          0.037204173891736275,
          0.03822622817171873,
          0.029446926212213547,
          0.014822806110983983,
          -0.0009241710665123092,
          -0.013631299203155823,
          -0.0206429185622709,
          -0.021210010397969055,
          -0.016338771597961568,
          -0.00822450675302695,
          0.0005127808540820213,
          0.007563393294729105,
          0.011453824724305986,
          0.011768478413854673,
          0.009065647647109345,
          0.004563407955559875,
          -0.0002845189747233711,
          -0.004196585907050543,
          -0.006355210888391508,
          -0.006529798033037512,
          -0.005030119110777741,
          -0.0025320293112049428,
          0.0001578667501589007,
          0.0023284962964346422,
          0.0035262199665253907,
          0.003623090500983017,
          0.002790986287303946
         ]
        },
        {
         "mode": "markers",
         "name": "calculated a",
         "type": "scatter",
         "y": [
          -0.09817477042468102,
          -0.09817477042468108,
          -0.09817477042468103,
          -0.09817477042468102,
          -0.09817477042468103,
          -0.09817477042468103,
          -0.09817477042468103,
          -0.09817477042468106,
          -0.09817477042468106,
          -0.09817477042468101,
          -0.09817477042468105,
          -0.09817477042468103,
          -0.09817477042468101,
          -0.09817477042468106,
          -0.098174770424681,
          -0.09817477042468103,
          -0.09817477042468103,
          -0.09817477042468103,
          -0.09817477042468103,
          -0.09817477042468105,
          -0.09817477042468101,
          -0.09817477042468103,
          -0.09817477042468101,
          -0.09817477042468105,
          -0.09817477042468103,
          -0.09817477042468101,
          -0.09817477042468101,
          -0.09817477042468105,
          -0.09817477042468103,
          -0.09817477042468101,
          -0.09817477042468105,
          -0.09817477042468102,
          -0.09817477042468103,
          -0.09817477042468105,
          -0.09817477042468102,
          -0.09817477042468102,
          -0.09817477042468103,
          -0.09817477042468102,
          -0.09817477042468105,
          -0.09817477042468103
         ]
        }
       ],
       "layout": {
        "annotations": [
         {
          "showarrow": false,
          "text": "actual a",
          "x": 1,
          "xanchor": "right",
          "xref": "x domain",
          "y": -0.09817477042468103,
          "yanchor": "top",
          "yref": "y"
         }
        ],
        "margin": {
         "b": 8,
         "l": 8,
         "r": 8,
         "t": 8
        },
        "shapes": [
         {
          "line": {
           "dash": "dash"
          },
          "type": "line",
          "x0": 0,
          "x1": 1,
          "xref": "x domain",
          "y0": -0.09817477042468103,
          "y1": -0.09817477042468103,
          "yref": "y"
         }
        ],
        "template": {
         "data": {
          "bar": [
           {
            "error_x": {
             "color": "#2a3f5f"
            },
            "error_y": {
             "color": "#2a3f5f"
            },
            "marker": {
             "line": {
              "color": "#E5ECF6",
              "width": 0.5
             },
             "pattern": {
              "fillmode": "overlay",
              "size": 10,
              "solidity": 0.2
             }
            },
            "type": "bar"
           }
          ],
          "barpolar": [
           {
            "marker": {
             "line": {
              "color": "#E5ECF6",
              "width": 0.5
             },
             "pattern": {
              "fillmode": "overlay",
              "size": 10,
              "solidity": 0.2
             }
            },
            "type": "barpolar"
           }
          ],
          "carpet": [
           {
            "aaxis": {
             "endlinecolor": "#2a3f5f",
             "gridcolor": "white",
             "linecolor": "white",
             "minorgridcolor": "white",
             "startlinecolor": "#2a3f5f"
            },
            "baxis": {
             "endlinecolor": "#2a3f5f",
             "gridcolor": "white",
             "linecolor": "white",
             "minorgridcolor": "white",
             "startlinecolor": "#2a3f5f"
            },
            "type": "carpet"
           }
          ],
          "choropleth": [
           {
            "colorbar": {
             "outlinewidth": 0,
             "ticks": ""
            },
            "type": "choropleth"
           }
          ],
          "contour": [
           {
            "colorbar": {
             "outlinewidth": 0,
             "ticks": ""
            },
            "colorscale": [
             [
              0.0,
              "#0d0887"
             ],
             [
              0.1111111111111111,
              "#46039f"
             ],
             [
              0.2222222222222222,
              "#7201a8"
             ],
             [
              0.3333333333333333,
              "#9c179e"
             ],
             [
              0.4444444444444444,
              "#bd3786"
             ],
             [
              0.5555555555555556,
              "#d8576b"
             ],
             [
              0.6666666666666666,
              "#ed7953"
             ],
             [
              0.7777777777777778,
              "#fb9f3a"
             ],
             [
              0.8888888888888888,
              "#fdca26"
             ],
             [
              1.0,
              "#f0f921"
             ]
            ],
            "type": "contour"
           }
          ],
          "contourcarpet": [
           {
            "colorbar": {
             "outlinewidth": 0,
             "ticks": ""
            },
            "type": "contourcarpet"
           }
          ],
          "heatmap": [
           {
            "colorbar": {
             "outlinewidth": 0,
             "ticks": ""
            },
            "colorscale": [
             [
              0.0,
              "#0d0887"
             ],
             [
              0.1111111111111111,
              "#46039f"
             ],
             [
              0.2222222222222222,
              "#7201a8"
             ],
             [
              0.3333333333333333,
              "#9c179e"
             ],
             [
              0.4444444444444444,
              "#bd3786"
             ],
             [
              0.5555555555555556,
              "#d8576b"
             ],
             [
              0.6666666666666666,
              "#ed7953"
             ],
             [
              0.7777777777777778,
              "#fb9f3a"
             ],
             [
              0.8888888888888888,
              "#fdca26"
             ],
             [
              1.0,
              "#f0f921"
             ]
            ],
            "type": "heatmap"
           }
          ],
          "heatmapgl": [
           {
            "colorbar": {
             "outlinewidth": 0,
             "ticks": ""
            },
            "colorscale": [
             [
              0.0,
              "#0d0887"
             ],
             [
              0.1111111111111111,
              "#46039f"
             ],
             [
              0.2222222222222222,
              "#7201a8"
             ],
             [
              0.3333333333333333,
              "#9c179e"
             ],
             [
              0.4444444444444444,
              "#bd3786"
             ],
             [
              0.5555555555555556,
              "#d8576b"
             ],
             [
              0.6666666666666666,
              "#ed7953"
             ],
             [
              0.7777777777777778,
              "#fb9f3a"
             ],
             [
              0.8888888888888888,
              "#fdca26"
             ],
             [
              1.0,
              "#f0f921"
             ]
            ],
            "type": "heatmapgl"
           }
          ],
          "histogram": [
           {
            "marker": {
             "pattern": {
              "fillmode": "overlay",
              "size": 10,
              "solidity": 0.2
             }
            },
            "type": "histogram"
           }
          ],
          "histogram2d": [
           {
            "colorbar": {
             "outlinewidth": 0,
             "ticks": ""
            },
            "colorscale": [
             [
              0.0,
              "#0d0887"
             ],
             [
              0.1111111111111111,
              "#46039f"
             ],
             [
              0.2222222222222222,
              "#7201a8"
             ],
             [
              0.3333333333333333,
              "#9c179e"
             ],
             [
              0.4444444444444444,
              "#bd3786"
             ],
             [
              0.5555555555555556,
              "#d8576b"
             ],
             [
              0.6666666666666666,
              "#ed7953"
             ],
             [
              0.7777777777777778,
              "#fb9f3a"
             ],
             [
              0.8888888888888888,
              "#fdca26"
             ],
             [
              1.0,
              "#f0f921"
             ]
            ],
            "type": "histogram2d"
           }
          ],
          "histogram2dcontour": [
           {
            "colorbar": {
             "outlinewidth": 0,
             "ticks": ""
            },
            "colorscale": [
             [
              0.0,
              "#0d0887"
             ],
             [
              0.1111111111111111,
              "#46039f"
             ],
             [
              0.2222222222222222,
              "#7201a8"
             ],
             [
              0.3333333333333333,
              "#9c179e"
             ],
             [
              0.4444444444444444,
              "#bd3786"
             ],
             [
              0.5555555555555556,
              "#d8576b"
             ],
             [
              0.6666666666666666,
              "#ed7953"
             ],
             [
              0.7777777777777778,
              "#fb9f3a"
             ],
             [
              0.8888888888888888,
              "#fdca26"
             ],
             [
              1.0,
              "#f0f921"
             ]
            ],
            "type": "histogram2dcontour"
           }
          ],
          "mesh3d": [
           {
            "colorbar": {
             "outlinewidth": 0,
             "ticks": ""
            },
            "type": "mesh3d"
           }
          ],
          "parcoords": [
           {
            "line": {
             "colorbar": {
              "outlinewidth": 0,
              "ticks": ""
             }
            },
            "type": "parcoords"
           }
          ],
          "pie": [
           {
            "automargin": true,
            "type": "pie"
           }
          ],
          "scatter": [
           {
            "marker": {
             "colorbar": {
              "outlinewidth": 0,
              "ticks": ""
             }
            },
            "type": "scatter"
           }
          ],
          "scatter3d": [
           {
            "line": {
             "colorbar": {
              "outlinewidth": 0,
              "ticks": ""
             }
            },
            "marker": {
             "colorbar": {
              "outlinewidth": 0,
              "ticks": ""
             }
            },
            "type": "scatter3d"
           }
          ],
          "scattercarpet": [
           {
            "marker": {
             "colorbar": {
              "outlinewidth": 0,
              "ticks": ""
             }
            },
            "type": "scattercarpet"
           }
          ],
          "scattergeo": [
           {
            "marker": {
             "colorbar": {
              "outlinewidth": 0,
              "ticks": ""
             }
            },
            "type": "scattergeo"
           }
          ],
          "scattergl": [
           {
            "marker": {
             "colorbar": {
              "outlinewidth": 0,
              "ticks": ""
             }
            },
            "type": "scattergl"
           }
          ],
          "scattermapbox": [
           {
            "marker": {
             "colorbar": {
              "outlinewidth": 0,
              "ticks": ""
             }
            },
            "type": "scattermapbox"
           }
          ],
          "scatterpolar": [
           {
            "marker": {
             "colorbar": {
              "outlinewidth": 0,
              "ticks": ""
             }
            },
            "type": "scatterpolar"
           }
          ],
          "scatterpolargl": [
           {
            "marker": {
             "colorbar": {
              "outlinewidth": 0,
              "ticks": ""
             }
            },
            "type": "scatterpolargl"
           }
          ],
          "scatterternary": [
           {
            "marker": {
             "colorbar": {
              "outlinewidth": 0,
              "ticks": ""
             }
            },
            "type": "scatterternary"
           }
          ],
          "surface": [
           {
            "colorbar": {
             "outlinewidth": 0,
             "ticks": ""
            },
            "colorscale": [
             [
              0.0,
              "#0d0887"
             ],
             [
              0.1111111111111111,
              "#46039f"
             ],
             [
              0.2222222222222222,
              "#7201a8"
             ],
             [
              0.3333333333333333,
              "#9c179e"
             ],
             [
              0.4444444444444444,
              "#bd3786"
             ],
             [
              0.5555555555555556,
              "#d8576b"
             ],
             [
              0.6666666666666666,
              "#ed7953"
             ],
             [
              0.7777777777777778,
              "#fb9f3a"
             ],
             [
              0.8888888888888888,
              "#fdca26"
             ],
             [
              1.0,
              "#f0f921"
             ]
            ],
            "type": "surface"
           }
          ],
          "table": [
           {
            "cells": {
             "fill": {
              "color": "#EBF0F8"
             },
             "line": {
              "color": "white"
             }
            },
            "header": {
             "fill": {
              "color": "#C8D4E3"
             },
             "line": {
              "color": "white"
             }
            },
            "type": "table"
           }
          ]
         },
         "layout": {
          "annotationdefaults": {
           "arrowcolor": "#2a3f5f",
           "arrowhead": 0,
           "arrowwidth": 1
          },
          "autotypenumbers": "strict",
          "coloraxis": {
           "colorbar": {
            "outlinewidth": 0,
            "ticks": ""
           }
          },
          "colorscale": {
           "diverging": [
            [
             0,
             "#8e0152"
            ],
            [
             0.1,
             "#c51b7d"
            ],
            [
             0.2,
             "#de77ae"
            ],
            [
             0.3,
             "#f1b6da"
            ],
            [
             0.4,
             "#fde0ef"
            ],
            [
             0.5,
             "#f7f7f7"
            ],
            [
             0.6,
             "#e6f5d0"
            ],
            [
             0.7,
             "#b8e186"
            ],
            [
             0.8,
             "#7fbc41"
            ],
            [
             0.9,
             "#4d9221"
            ],
            [
             1,
             "#276419"
            ]
           ],
           "sequential": [
            [
             0.0,
             "#0d0887"
            ],
            [
             0.1111111111111111,
             "#46039f"
            ],
            [
             0.2222222222222222,
             "#7201a8"
            ],
            [
             0.3333333333333333,
             "#9c179e"
            ],
            [
             0.4444444444444444,
             "#bd3786"
            ],
            [
             0.5555555555555556,
             "#d8576b"
            ],
            [
             0.6666666666666666,
             "#ed7953"
            ],
            [
             0.7777777777777778,
             "#fb9f3a"
            ],
            [
             0.8888888888888888,
             "#fdca26"
            ],
            [
             1.0,
             "#f0f921"
            ]
           ],
           "sequentialminus": [
            [
             0.0,
             "#0d0887"
            ],
            [
             0.1111111111111111,
             "#46039f"
            ],
            [
             0.2222222222222222,
             "#7201a8"
            ],
            [
             0.3333333333333333,
             "#9c179e"
            ],
            [
             0.4444444444444444,
             "#bd3786"
            ],
            [
             0.5555555555555556,
             "#d8576b"
            ],
            [
             0.6666666666666666,
             "#ed7953"
            ],
            [
             0.7777777777777778,
             "#fb9f3a"
            ],
            [
             0.8888888888888888,
             "#fdca26"
            ],
            [
             1.0,
             "#f0f921"
            ]
           ]
          },
          "colorway": [
           "#636efa",
           "#EF553B",
           "#00cc96",
           "#ab63fa",
           "#FFA15A",
           "#19d3f3",
           "#FF6692",
           "#B6E880",
           "#FF97FF",
           "#FECB52"
          ],
          "font": {
           "color": "#2a3f5f"
          },
          "geo": {
           "bgcolor": "white",
           "lakecolor": "white",
           "landcolor": "#E5ECF6",
           "showlakes": true,
           "showland": true,
           "subunitcolor": "white"
          },
          "hoverlabel": {
           "align": "left"
          },
          "hovermode": "closest",
          "mapbox": {
           "style": "light"
          },
          "paper_bgcolor": "white",
          "plot_bgcolor": "#E5ECF6",
          "polar": {
           "angularaxis": {
            "gridcolor": "white",
            "linecolor": "white",
            "ticks": ""
           },
           "bgcolor": "#E5ECF6",
           "radialaxis": {
            "gridcolor": "white",
            "linecolor": "white",
            "ticks": ""
           }
          },
          "scene": {
           "xaxis": {
            "backgroundcolor": "#E5ECF6",
            "gridcolor": "white",
            "gridwidth": 2,
            "linecolor": "white",
            "showbackground": true,
            "ticks": "",
            "zerolinecolor": "white"
           },
           "yaxis": {
            "backgroundcolor": "#E5ECF6",
            "gridcolor": "white",
            "gridwidth": 2,
            "linecolor": "white",
            "showbackground": true,
            "ticks": "",
            "zerolinecolor": "white"
           },
           "zaxis": {
            "backgroundcolor": "#E5ECF6",
            "gridcolor": "white",
            "gridwidth": 2,
            "linecolor": "white",
            "showbackground": true,
            "ticks": "",
            "zerolinecolor": "white"
           }
          },
          "shapedefaults": {
           "line": {
            "color": "#2a3f5f"
           }
          },
          "ternary": {
           "aaxis": {
            "gridcolor": "white",
            "linecolor": "white",
            "ticks": ""
           },
           "baxis": {
            "gridcolor": "white",
            "linecolor": "white",
            "ticks": ""
           },
           "bgcolor": "#E5ECF6",
           "caxis": {
            "gridcolor": "white",
            "linecolor": "white",
            "ticks": ""
           }
          },
          "title": {
           "x": 0.05
          },
          "xaxis": {
           "automargin": true,
           "gridcolor": "white",
           "linecolor": "white",
           "ticks": "",
           "title": {
            "standoff": 15
           },
           "zerolinecolor": "white",
           "zerolinewidth": 2
          },
          "yaxis": {
           "automargin": true,
           "gridcolor": "white",
           "linecolor": "white",
           "ticks": "",
           "title": {
            "standoff": 15
           },
           "zerolinecolor": "white",
           "zerolinewidth": 2
          }
         }
        }
       }
      },
      "image/png": "[encoded data removed]"
     },
     "metadata": {},
     "output_type": "display_data"
    }
   ],
   "source": [
    "# Find exponent coefficient 'a' from derivatives\n",
    "fig = go.Figure(**DEF_FIGURE)\n",
    "def plot_derivs(deriv_vals):\n",
    "    for i, derivs in enumerate(deriv_vals):\n",
    "        line_dash = 'dot' if i else None\n",
    "        fig.add_scatter(y=[v.real for v in derivs], line_dash=line_dash, name='derivative %d'%i)\n",
    "\n",
    "a_vals = []\n",
    "# Iterate over the real part of derivatives at each point\n",
    "for i, derivs in enumerate(zip(*deriv_vals)):\n",
    "    derivs = [d.real for d in derivs]\n",
    "    # Deduce real component of exponent\n",
    "    a = derivs[3]*derivs[0] - derivs[2]*derivs[1]\n",
    "    a /= 2 * (derivs[2]*derivs[0] - derivs[1]*derivs[1])\n",
    "    a_vals.append(a)\n",
    "\n",
    "plot_derivs(deriv_vals)\n",
    "fig.add_scatter(y=a_vals, mode='markers', name='calculated a')\n",
    "fig.add_hline(OMEGA.real, line_dash='dash',\n",
    "        annotation_text='actual a', annotation_position='bottom right')\n",
    "fig.show()"
   ]
  },
  {
   "cell_type": "markdown",
   "metadata": {},
   "source": [
    "#### Finding imaginary part of the exponent coefficient ($b$)\n",
    "\n",
    "Start with the second derivative of the real part of base function:\n",
    "\n",
    "$f''(t) = \\frac{\\partial \\left[ae^{at}cos(bt) - be^{at}sin(bt)\\right]}{\\partial t} = e^{at}\\left[cos(bt)\\left(a^2 -b^2\\right) - 2absin(bt)\\right]$\n",
    "\n",
    "The ratio between this derivative and the base function can be useful:\n",
    "\n",
    "$\\frac{f''(t)}{f(t)} = \\frac{e^{at}\\left[cos(bt)\\left(a^2 - b^2\\right) - 2ab.sin(bt)\\right]}{e^{at}cos(bt)} = a^2 - b^2 - 2ab.tan(bt)$\n",
    "\n",
    "> This ratio is also the logarithmic derivative multiplied by the logarithmic derivative of the derivative:\n",
    ">\n",
    "> $\\frac{f''}{f} = \\frac{f''}{f'}\\frac{f'}{f}$\n",
    "\n",
    "We already know $a$ and $2b.tan(bt)$, thus:\n",
    "\n",
    "$b^2 = a^2 - 2ab.tan(bt) - \\frac{f''}{f} = \\frac{\\left(f'''f - f''f'\\right)^2}{4\\left(f''f - f'^2\\right)^2} - \\frac{f'''f - f''f'}{2\\left(f''f - f'^2\\right)}\\frac{f'''f^2 - 3f''f'f+2f'^3}{f\\left(f''f-f'^2\\right)} - \\frac{f''}{f}$\n",
    "\n",
    "$b^2 = \\frac{f\\left(f'''f - f''f'\\right)^2 - 2\\left(f'''f - f''f'\\right)\\left(f'''f^2 - 3f''f'f+2f'^3\\right) - 4f''\\left(f''f - f'^2\\right)^2}{4f\\left(f''f - f'^2\\right)^2} = \\ldots = \\frac{-f'''^2f^2 + 6f'''f''f'f + 3f''^2f'^2 - 4f'''f'^3 - 4f''^3f}{4\\left(f''f - f'^2\\right)^2}$\n",
    "\n",
    "Finally:\n",
    "\n",
    "$$b = \\boxed{\\frac{\\pm\\sqrt{-f'''^2f^2 + 6f'''f''f'f + 3f''^2f'^2 - 4f'''f'^3 - 4f''^3f}}{2\\left(f''f - f'^2\\right)}}$$"
   ]
  },
  {
   "cell_type": "code",
   "execution_count": 7,
   "metadata": {
    "execution": {
     "iopub.execute_input": "2021-11-30T20:40:57.944181Z",
     "iopub.status.busy": "2021-11-30T20:40:57.943179Z",
     "iopub.status.idle": "2021-11-30T20:40:58.072183Z",
     "shell.execute_reply": "2021-11-30T20:40:58.072183Z"
    }
   },
   "outputs": [
    {
     "data": {
      "application/vnd.plotly.v1+json": {
       "config": {
        "plotlyServerURL": "https://plot.ly"
       },
       "data": [
        {
         "name": "derivative 0",
         "type": "scatter",
         "y": [
          1.0,
          0.7850437685412247,
          0.41086247901693873,
          4.561110280047519e-17,
          -0.33761595332788846,
          -0.5300866006403276,
          -0.5548549101598534,
          -0.43558538966549404,
          -0.22796906388299834,
          -7.592263303994851e-17,
          0.18732786945227867,
          0.29412115317523113,
          0.307863971328499,
          0.2416866922497925,
          0.12648975446002694,
          2.7389027068083124e-16,
          -0.1039397881753808,
          -0.16319456602115523,
          -0.17081983615293003,
          -0.1341010479150908,
          -0.07018346134706029,
          -5.4538967749921336e-17,
          0.05767150183008511,
          0.09054930626824437,
          0.09478022484215487,
          0.0744066248932699,
          0.03894163814043068,
          1.6431886230134883e-16,
          -0.03199931596671569,
          -0.05024172719450377,
          -0.052589273139724564,
          -0.041284881170453196,
          -0.0216069591318862,
          -9.597043706654071e-17,
          0.01775497758588873,
          0.02787686902878223,
          0.02917941642331386,
          0.022907119032792026,
          0.011988727367950347,
          5.591147896084061e-17
         ]
        },
        {
         "line": {
          "dash": "dot"
         },
         "name": "derivative 1",
         "type": "scatter",
         "y": [
          -0.09817477042468103,
          -0.31439013979587904,
          -0.4129473811679122,
          -0.39002131221254116,
          -0.2730384320410516,
          -0.10820399288202039,
          0.054472753423950596,
          0.17444091277158616,
          0.22912588207866866,
          0.21640524014811766,
          0.151496714680325,
          0.060037516749490864,
          -0.030224474707205937,
          -0.09678939698408123,
          -0.12713162071605688,
          -0.12007351008050537,
          -0.08405869601346469,
          -0.03331211096225954,
          0.016770198198295505,
          0.053704072168028784,
          0.07053960399088427,
          0.06662337664829704,
          0.046640380224705395,
          0.0184833883351996,
          -0.00930502681467818,
          -0.029797968138009882,
          -0.03913924563507372,
          -0.03696630766473694,
          -0.025878643979400318,
          -0.010255598774176857,
          0.005162939817293238,
          0.01653354893416165,
          0.021716602620573268,
          0.02051093731825912,
          0.014358892680249013,
          0.005690369336481437,
          -0.0028646825084849945,
          -0.009173720808487797,
          -0.01204956359601542,
          -0.011380594283017052
         ]
        },
        {
         "line": {
          "dash": "dot"
         },
         "name": "derivative 2",
         "type": "scatter",
         "y": [
          -0.26451739226009885,
          -0.1610603228857384,
          -0.03551826262721272,
          0.07658050557439813,
          0.14942434025261808,
          0.17168118163806764,
          0.14676877391819587,
          0.08936511098508339,
          0.019707482419056226,
          -0.042491069540478814,
          -0.08290882888656174,
          -0.09525814661392751,
          -0.08143537486665242,
          -0.049584670627053795,
          -0.010934793387102338,
          0.0235763785724784,
          0.046002370803311876,
          0.05285445038146488,
          0.04518481760547041,
          0.027512297966079874,
          0.006067223802417268,
          -0.01308146941472722,
          -0.025524641319211876,
          -0.029326551317956133,
          -0.02507101791307265,
          -0.015265333616260366,
          -0.0033664289178099585,
          0.007258317536867307,
          0.014162472566033785,
          0.016271980996822876,
          0.013910777391774015,
          0.00847004531221034,
          0.0018678796147509795,
          -0.004027313124830197,
          -0.00785811744326805,
          -0.009028588554115,
          -0.0077184631399664855,
          -0.004699646230756355,
          -0.0010364021758320777,
          0.002234574462063257
         ]
        },
        {
         "line": {
          "dash": "dot"
         },
         "name": "derivative 3",
         "type": "scatter",
         "y": [
          0.07979927571732434,
          0.12084614426037678,
          0.1241659685177332,
          0.0956491468785507,
          0.048147258177111074,
          -0.00300188119618007,
          -0.044277019958957366,
          -0.06705207651675603,
          -0.06889409730681806,
          -0.05307139879816487,
          -0.026714742610304258,
          0.001665608521417044,
          0.024567321931473318,
          0.037204173891736275,
          0.03822622817171873,
          0.029446926212213547,
          0.014822806110983983,
          -0.0009241710665123092,
          -0.013631299203155823,
          -0.0206429185622709,
          -0.021210010397969055,
          -0.016338771597961568,
          -0.00822450675302695,
          0.0005127808540820213,
          0.007563393294729105,
          0.011453824724305986,
          0.011768478413854673,
          0.009065647647109345,
          0.004563407955559875,
          -0.0002845189747233711,
          -0.004196585907050543,
          -0.006355210888391508,
          -0.006529798033037512,
          -0.005030119110777741,
          -0.0025320293112049428,
          0.0001578667501589007,
          0.0023284962964346422,
          0.0035262199665253907,
          0.003623090500983017,
          0.002790986287303946
         ]
        },
        {
         "mode": "markers",
         "name": "calculated b",
         "type": "scatter",
         "y": [
          0.5235987755982988,
          0.5235987755982988,
          0.5235987755982988,
          0.5235987755982988,
          0.5235987755982989,
          0.5235987755982988,
          0.5235987755982988,
          0.5235987755982988,
          0.5235987755982988,
          0.5235987755982988,
          0.5235987755982988,
          0.5235987755982987,
          0.5235987755982989,
          0.5235987755982988,
          0.5235987755982988,
          0.5235987755982988,
          0.5235987755982988,
          0.5235987755982989,
          0.5235987755982988,
          0.5235987755982988,
          0.5235987755982987,
          0.5235987755982988,
          0.5235987755982988,
          0.5235987755982988,
          0.5235987755982987,
          0.5235987755982989,
          0.5235987755982987,
          0.523598775598299,
          0.5235987755982988,
          0.5235987755982988,
          0.5235987755982988,
          0.5235987755982989,
          0.5235987755982987,
          0.5235987755982988,
          0.5235987755982988,
          0.5235987755982987,
          0.5235987755982988,
          0.5235987755982988,
          0.5235987755982989,
          0.5235987755982988
         ]
        }
       ],
       "layout": {
        "annotations": [
         {
          "showarrow": false,
          "text": "actual b",
          "x": 1,
          "xanchor": "right",
          "xref": "x domain",
          "y": 0.5235987755982988,
          "yanchor": "bottom",
          "yref": "y"
         }
        ],
        "margin": {
         "b": 8,
         "l": 8,
         "r": 8,
         "t": 8
        },
        "shapes": [
         {
          "line": {
           "dash": "dash"
          },
          "type": "line",
          "x0": 0,
          "x1": 1,
          "xref": "x domain",
          "y0": 0.5235987755982988,
          "y1": 0.5235987755982988,
          "yref": "y"
         }
        ],
        "template": {
         "data": {
          "bar": [
           {
            "error_x": {
             "color": "#2a3f5f"
            },
            "error_y": {
             "color": "#2a3f5f"
            },
            "marker": {
             "line": {
              "color": "#E5ECF6",
              "width": 0.5
             },
             "pattern": {
              "fillmode": "overlay",
              "size": 10,
              "solidity": 0.2
             }
            },
            "type": "bar"
           }
          ],
          "barpolar": [
           {
            "marker": {
             "line": {
              "color": "#E5ECF6",
              "width": 0.5
             },
             "pattern": {
              "fillmode": "overlay",
              "size": 10,
              "solidity": 0.2
             }
            },
            "type": "barpolar"
           }
          ],
          "carpet": [
           {
            "aaxis": {
             "endlinecolor": "#2a3f5f",
             "gridcolor": "white",
             "linecolor": "white",
             "minorgridcolor": "white",
             "startlinecolor": "#2a3f5f"
            },
            "baxis": {
             "endlinecolor": "#2a3f5f",
             "gridcolor": "white",
             "linecolor": "white",
             "minorgridcolor": "white",
             "startlinecolor": "#2a3f5f"
            },
            "type": "carpet"
           }
          ],
          "choropleth": [
           {
            "colorbar": {
             "outlinewidth": 0,
             "ticks": ""
            },
            "type": "choropleth"
           }
          ],
          "contour": [
           {
            "colorbar": {
             "outlinewidth": 0,
             "ticks": ""
            },
            "colorscale": [
             [
              0.0,
              "#0d0887"
             ],
             [
              0.1111111111111111,
              "#46039f"
             ],
             [
              0.2222222222222222,
              "#7201a8"
             ],
             [
              0.3333333333333333,
              "#9c179e"
             ],
             [
              0.4444444444444444,
              "#bd3786"
             ],
             [
              0.5555555555555556,
              "#d8576b"
             ],
             [
              0.6666666666666666,
              "#ed7953"
             ],
             [
              0.7777777777777778,
              "#fb9f3a"
             ],
             [
              0.8888888888888888,
              "#fdca26"
             ],
             [
              1.0,
              "#f0f921"
             ]
            ],
            "type": "contour"
           }
          ],
          "contourcarpet": [
           {
            "colorbar": {
             "outlinewidth": 0,
             "ticks": ""
            },
            "type": "contourcarpet"
           }
          ],
          "heatmap": [
           {
            "colorbar": {
             "outlinewidth": 0,
             "ticks": ""
            },
            "colorscale": [
             [
              0.0,
              "#0d0887"
             ],
             [
              0.1111111111111111,
              "#46039f"
             ],
             [
              0.2222222222222222,
              "#7201a8"
             ],
             [
              0.3333333333333333,
              "#9c179e"
             ],
             [
              0.4444444444444444,
              "#bd3786"
             ],
             [
              0.5555555555555556,
              "#d8576b"
             ],
             [
              0.6666666666666666,
              "#ed7953"
             ],
             [
              0.7777777777777778,
              "#fb9f3a"
             ],
             [
              0.8888888888888888,
              "#fdca26"
             ],
             [
              1.0,
              "#f0f921"
             ]
            ],
            "type": "heatmap"
           }
          ],
          "heatmapgl": [
           {
            "colorbar": {
             "outlinewidth": 0,
             "ticks": ""
            },
            "colorscale": [
             [
              0.0,
              "#0d0887"
             ],
             [
              0.1111111111111111,
              "#46039f"
             ],
             [
              0.2222222222222222,
              "#7201a8"
             ],
             [
              0.3333333333333333,
              "#9c179e"
             ],
             [
              0.4444444444444444,
              "#bd3786"
             ],
             [
              0.5555555555555556,
              "#d8576b"
             ],
             [
              0.6666666666666666,
              "#ed7953"
             ],
             [
              0.7777777777777778,
              "#fb9f3a"
             ],
             [
              0.8888888888888888,
              "#fdca26"
             ],
             [
              1.0,
              "#f0f921"
             ]
            ],
            "type": "heatmapgl"
           }
          ],
          "histogram": [
           {
            "marker": {
             "pattern": {
              "fillmode": "overlay",
              "size": 10,
              "solidity": 0.2
             }
            },
            "type": "histogram"
           }
          ],
          "histogram2d": [
           {
            "colorbar": {
             "outlinewidth": 0,
             "ticks": ""
            },
            "colorscale": [
             [
              0.0,
              "#0d0887"
             ],
             [
              0.1111111111111111,
              "#46039f"
             ],
             [
              0.2222222222222222,
              "#7201a8"
             ],
             [
              0.3333333333333333,
              "#9c179e"
             ],
             [
              0.4444444444444444,
              "#bd3786"
             ],
             [
              0.5555555555555556,
              "#d8576b"
             ],
             [
              0.6666666666666666,
              "#ed7953"
             ],
             [
              0.7777777777777778,
              "#fb9f3a"
             ],
             [
              0.8888888888888888,
              "#fdca26"
             ],
             [
              1.0,
              "#f0f921"
             ]
            ],
            "type": "histogram2d"
           }
          ],
          "histogram2dcontour": [
           {
            "colorbar": {
             "outlinewidth": 0,
             "ticks": ""
            },
            "colorscale": [
             [
              0.0,
              "#0d0887"
             ],
             [
              0.1111111111111111,
              "#46039f"
             ],
             [
              0.2222222222222222,
              "#7201a8"
             ],
             [
              0.3333333333333333,
              "#9c179e"
             ],
             [
              0.4444444444444444,
              "#bd3786"
             ],
             [
              0.5555555555555556,
              "#d8576b"
             ],
             [
              0.6666666666666666,
              "#ed7953"
             ],
             [
              0.7777777777777778,
              "#fb9f3a"
             ],
             [
              0.8888888888888888,
              "#fdca26"
             ],
             [
              1.0,
              "#f0f921"
             ]
            ],
            "type": "histogram2dcontour"
           }
          ],
          "mesh3d": [
           {
            "colorbar": {
             "outlinewidth": 0,
             "ticks": ""
            },
            "type": "mesh3d"
           }
          ],
          "parcoords": [
           {
            "line": {
             "colorbar": {
              "outlinewidth": 0,
              "ticks": ""
             }
            },
            "type": "parcoords"
           }
          ],
          "pie": [
           {
            "automargin": true,
            "type": "pie"
           }
          ],
          "scatter": [
           {
            "marker": {
             "colorbar": {
              "outlinewidth": 0,
              "ticks": ""
             }
            },
            "type": "scatter"
           }
          ],
          "scatter3d": [
           {
            "line": {
             "colorbar": {
              "outlinewidth": 0,
              "ticks": ""
             }
            },
            "marker": {
             "colorbar": {
              "outlinewidth": 0,
              "ticks": ""
             }
            },
            "type": "scatter3d"
           }
          ],
          "scattercarpet": [
           {
            "marker": {
             "colorbar": {
              "outlinewidth": 0,
              "ticks": ""
             }
            },
            "type": "scattercarpet"
           }
          ],
          "scattergeo": [
           {
            "marker": {
             "colorbar": {
              "outlinewidth": 0,
              "ticks": ""
             }
            },
            "type": "scattergeo"
           }
          ],
          "scattergl": [
           {
            "marker": {
             "colorbar": {
              "outlinewidth": 0,
              "ticks": ""
             }
            },
            "type": "scattergl"
           }
          ],
          "scattermapbox": [
           {
            "marker": {
             "colorbar": {
              "outlinewidth": 0,
              "ticks": ""
             }
            },
            "type": "scattermapbox"
           }
          ],
          "scatterpolar": [
           {
            "marker": {
             "colorbar": {
              "outlinewidth": 0,
              "ticks": ""
             }
            },
            "type": "scatterpolar"
           }
          ],
          "scatterpolargl": [
           {
            "marker": {
             "colorbar": {
              "outlinewidth": 0,
              "ticks": ""
             }
            },
            "type": "scatterpolargl"
           }
          ],
          "scatterternary": [
           {
            "marker": {
             "colorbar": {
              "outlinewidth": 0,
              "ticks": ""
             }
            },
            "type": "scatterternary"
           }
          ],
          "surface": [
           {
            "colorbar": {
             "outlinewidth": 0,
             "ticks": ""
            },
            "colorscale": [
             [
              0.0,
              "#0d0887"
             ],
             [
              0.1111111111111111,
              "#46039f"
             ],
             [
              0.2222222222222222,
              "#7201a8"
             ],
             [
              0.3333333333333333,
              "#9c179e"
             ],
             [
              0.4444444444444444,
              "#bd3786"
             ],
             [
              0.5555555555555556,
              "#d8576b"
             ],
             [
              0.6666666666666666,
              "#ed7953"
             ],
             [
              0.7777777777777778,
              "#fb9f3a"
             ],
             [
              0.8888888888888888,
              "#fdca26"
             ],
             [
              1.0,
              "#f0f921"
             ]
            ],
            "type": "surface"
           }
          ],
          "table": [
           {
            "cells": {
             "fill": {
              "color": "#EBF0F8"
             },
             "line": {
              "color": "white"
             }
            },
            "header": {
             "fill": {
              "color": "#C8D4E3"
             },
             "line": {
              "color": "white"
             }
            },
            "type": "table"
           }
          ]
         },
         "layout": {
          "annotationdefaults": {
           "arrowcolor": "#2a3f5f",
           "arrowhead": 0,
           "arrowwidth": 1
          },
          "autotypenumbers": "strict",
          "coloraxis": {
           "colorbar": {
            "outlinewidth": 0,
            "ticks": ""
           }
          },
          "colorscale": {
           "diverging": [
            [
             0,
             "#8e0152"
            ],
            [
             0.1,
             "#c51b7d"
            ],
            [
             0.2,
             "#de77ae"
            ],
            [
             0.3,
             "#f1b6da"
            ],
            [
             0.4,
             "#fde0ef"
            ],
            [
             0.5,
             "#f7f7f7"
            ],
            [
             0.6,
             "#e6f5d0"
            ],
            [
             0.7,
             "#b8e186"
            ],
            [
             0.8,
             "#7fbc41"
            ],
            [
             0.9,
             "#4d9221"
            ],
            [
             1,
             "#276419"
            ]
           ],
           "sequential": [
            [
             0.0,
             "#0d0887"
            ],
            [
             0.1111111111111111,
             "#46039f"
            ],
            [
             0.2222222222222222,
             "#7201a8"
            ],
            [
             0.3333333333333333,
             "#9c179e"
            ],
            [
             0.4444444444444444,
             "#bd3786"
            ],
            [
             0.5555555555555556,
             "#d8576b"
            ],
            [
             0.6666666666666666,
             "#ed7953"
            ],
            [
             0.7777777777777778,
             "#fb9f3a"
            ],
            [
             0.8888888888888888,
             "#fdca26"
            ],
            [
             1.0,
             "#f0f921"
            ]
           ],
           "sequentialminus": [
            [
             0.0,
             "#0d0887"
            ],
            [
             0.1111111111111111,
             "#46039f"
            ],
            [
             0.2222222222222222,
             "#7201a8"
            ],
            [
             0.3333333333333333,
             "#9c179e"
            ],
            [
             0.4444444444444444,
             "#bd3786"
            ],
            [
             0.5555555555555556,
             "#d8576b"
            ],
            [
             0.6666666666666666,
             "#ed7953"
            ],
            [
             0.7777777777777778,
             "#fb9f3a"
            ],
            [
             0.8888888888888888,
             "#fdca26"
            ],
            [
             1.0,
             "#f0f921"
            ]
           ]
          },
          "colorway": [
           "#636efa",
           "#EF553B",
           "#00cc96",
           "#ab63fa",
           "#FFA15A",
           "#19d3f3",
           "#FF6692",
           "#B6E880",
           "#FF97FF",
           "#FECB52"
          ],
          "font": {
           "color": "#2a3f5f"
          },
          "geo": {
           "bgcolor": "white",
           "lakecolor": "white",
           "landcolor": "#E5ECF6",
           "showlakes": true,
           "showland": true,
           "subunitcolor": "white"
          },
          "hoverlabel": {
           "align": "left"
          },
          "hovermode": "closest",
          "mapbox": {
           "style": "light"
          },
          "paper_bgcolor": "white",
          "plot_bgcolor": "#E5ECF6",
          "polar": {
           "angularaxis": {
            "gridcolor": "white",
            "linecolor": "white",
            "ticks": ""
           },
           "bgcolor": "#E5ECF6",
           "radialaxis": {
            "gridcolor": "white",
            "linecolor": "white",
            "ticks": ""
           }
          },
          "scene": {
           "xaxis": {
            "backgroundcolor": "#E5ECF6",
            "gridcolor": "white",
            "gridwidth": 2,
            "linecolor": "white",
            "showbackground": true,
            "ticks": "",
            "zerolinecolor": "white"
           },
           "yaxis": {
            "backgroundcolor": "#E5ECF6",
            "gridcolor": "white",
            "gridwidth": 2,
            "linecolor": "white",
            "showbackground": true,
            "ticks": "",
            "zerolinecolor": "white"
           },
           "zaxis": {
            "backgroundcolor": "#E5ECF6",
            "gridcolor": "white",
            "gridwidth": 2,
            "linecolor": "white",
            "showbackground": true,
            "ticks": "",
            "zerolinecolor": "white"
           }
          },
          "shapedefaults": {
           "line": {
            "color": "#2a3f5f"
           }
          },
          "ternary": {
           "aaxis": {
            "gridcolor": "white",
            "linecolor": "white",
            "ticks": ""
           },
           "baxis": {
            "gridcolor": "white",
            "linecolor": "white",
            "ticks": ""
           },
           "bgcolor": "#E5ECF6",
           "caxis": {
            "gridcolor": "white",
            "linecolor": "white",
            "ticks": ""
           }
          },
          "title": {
           "x": 0.05
          },
          "xaxis": {
           "automargin": true,
           "gridcolor": "white",
           "linecolor": "white",
           "ticks": "",
           "title": {
            "standoff": 15
           },
           "zerolinecolor": "white",
           "zerolinewidth": 2
          },
          "yaxis": {
           "automargin": true,
           "gridcolor": "white",
           "linecolor": "white",
           "ticks": "",
           "title": {
            "standoff": 15
           },
           "zerolinecolor": "white",
           "zerolinewidth": 2
          }
         }
        }
       }
      },
      "image/png": "[encoded data removed]"
     },
     "metadata": {},
     "output_type": "display_data"
    }
   ],
   "source": [
    "# Find exponent coefficient 'b' from derivatives\n",
    "b_vals = []\n",
    "# Iterate over the real part of derivatives at each point\n",
    "for i, derivs in enumerate(zip(*deriv_vals)):\n",
    "    derivs = [d.real for d in derivs]\n",
    "    # Deduce imaginary component of exponent\n",
    "    b = cmath.sqrt(\n",
    "            -derivs[3]**2 * derivs[0]**2\n",
    "            +6 * derivs[3] * derivs[2] * derivs[1] * derivs[0]\n",
    "            +3 * derivs[2]**2 * derivs[1]**2\n",
    "            -4 * derivs[3] * derivs[1]**3\n",
    "            -4 * derivs[2]**3 * derivs[0]\n",
    "        ).real\n",
    "    b /= 2 * (derivs[2]*derivs[0] - derivs[1]*derivs[1])\n",
    "    #CHECKME: The sqrt() must be taken with '-' sign (must confirm)\n",
    "    b_vals.append(-b)\n",
    "\n",
    "fig = go.Figure(**DEF_FIGURE)\n",
    "plot_derivs(deriv_vals)\n",
    "fig.add_scatter(y=b_vals, mode='markers', name='calculated b')\n",
    "fig.add_hline(OMEGA.imag, line_dash='dash',\n",
    "        annotation_text='actual b', annotation_position='top right')\n",
    "fig.show()"
   ]
  },
  {
   "cell_type": "markdown",
   "metadata": {},
   "source": [
    "#### Finding imaginary component of the signal value\n",
    "\n",
    "The real and imaginary components of the Euler's function are quite similar:\n",
    "\n",
    "- Real: $e^{at}cos(bt)$\n",
    "\n",
    "- Imaginary: $e^{at}sin(bt)$\n",
    "\n",
    "Thus, the imaginary component can be calculated, by multiplying the real one by $tan(bt)$:\n",
    "\n",
    "$e^{at}sin(bt) = e^{at}cos(bt)\\boxed{tan(bt)}$\n",
    "\n",
    "We already know $b$ and $2b.tan(bt)$:\n",
    "\n",
    "$b = \\frac{\\pm\\sqrt{-f'''^2f^2 + 6f'''f''f'f + 3f''^2f'^2 - 4f'''f'^3 - 4f''^3f}}{2\\left(f''f - f'^2\\right)}$,\n",
    "$2b.tan(bt) = \\frac{f'''f^2 -3f''f'f+2f'^3}{f\\left( f''f-f'^2\\right)}$\n",
    "\n",
    "$$\\implies tan(bt) = \\frac{1}{2}\\frac{2b.tan(bt)}{b}$$\n",
    "\n",
    "Since, $f$ is the real part of Euler's function $e^{at}cos(bt)$:\n",
    "\n",
    "$$e^{at}sin(bt) = f \\frac{1}{2} \\frac{f'''f^2 -3f''f'f+2f'^3}{f\\left( f''f-f'^2\\right)} \\frac{2\\left(f''f - f'^2\\right)}{\\pm\\sqrt{-f'''^2f^2 + 6f'''f''f'f + 3f''^2f'^2 - 4f'''f'^3 - 4f''^3f}} =$$\n",
    "\n",
    "$$= \\boxed{\\frac{f'''f^2 -3f''f'f+2f'^3}{\\pm\\sqrt{-f'''^2f^2 + 6f'''f''f'f + 3f''^2f'^2 - 4f'''f'^3 - 4f''^3f}}}$$"
   ]
  },
  {
   "cell_type": "code",
   "execution_count": 8,
   "metadata": {
    "execution": {
     "iopub.execute_input": "2021-11-30T20:40:58.090187Z",
     "iopub.status.busy": "2021-11-30T20:40:58.090187Z",
     "iopub.status.idle": "2021-11-30T20:40:58.246192Z",
     "shell.execute_reply": "2021-11-30T20:40:58.247192Z"
    }
   },
   "outputs": [
    {
     "data": {
      "application/vnd.plotly.v1+json": {
       "config": {
        "plotlyServerURL": "https://plot.ly"
       },
       "data": [
        {
         "name": "derivative 0",
         "type": "scatter",
         "y": [
          1.0,
          0.7850437685412247,
          0.41086247901693873,
          4.561110280047519e-17,
          -0.33761595332788846,
          -0.5300866006403276,
          -0.5548549101598534,
          -0.43558538966549404,
          -0.22796906388299834,
          -7.592263303994851e-17,
          0.18732786945227867,
          0.29412115317523113,
          0.307863971328499,
          0.2416866922497925,
          0.12648975446002694,
          2.7389027068083124e-16,
          -0.1039397881753808,
          -0.16319456602115523,
          -0.17081983615293003,
          -0.1341010479150908,
          -0.07018346134706029,
          -5.4538967749921336e-17,
          0.05767150183008511,
          0.09054930626824437,
          0.09478022484215487,
          0.0744066248932699,
          0.03894163814043068,
          1.6431886230134883e-16,
          -0.03199931596671569,
          -0.05024172719450377,
          -0.052589273139724564,
          -0.041284881170453196,
          -0.0216069591318862,
          -9.597043706654071e-17,
          0.01775497758588873,
          0.02787686902878223,
          0.02917941642331386,
          0.022907119032792026,
          0.011988727367950347,
          5.591147896084061e-17
         ]
        },
        {
         "line": {
          "dash": "dot"
         },
         "name": "derivative 1",
         "type": "scatter",
         "y": [
          -0.09817477042468103,
          -0.31439013979587904,
          -0.4129473811679122,
          -0.39002131221254116,
          -0.2730384320410516,
          -0.10820399288202039,
          0.054472753423950596,
          0.17444091277158616,
          0.22912588207866866,
          0.21640524014811766,
          0.151496714680325,
          0.060037516749490864,
          -0.030224474707205937,
          -0.09678939698408123,
          -0.12713162071605688,
          -0.12007351008050537,
          -0.08405869601346469,
          -0.03331211096225954,
          0.016770198198295505,
          0.053704072168028784,
          0.07053960399088427,
          0.06662337664829704,
          0.046640380224705395,
          0.0184833883351996,
          -0.00930502681467818,
          -0.029797968138009882,
          -0.03913924563507372,
          -0.03696630766473694,
          -0.025878643979400318,
          -0.010255598774176857,
          0.005162939817293238,
          0.01653354893416165,
          0.021716602620573268,
          0.02051093731825912,
          0.014358892680249013,
          0.005690369336481437,
          -0.0028646825084849945,
          -0.009173720808487797,
          -0.01204956359601542,
          -0.011380594283017052
         ]
        },
        {
         "line": {
          "dash": "dot"
         },
         "name": "derivative 2",
         "type": "scatter",
         "y": [
          -0.26451739226009885,
          -0.1610603228857384,
          -0.03551826262721272,
          0.07658050557439813,
          0.14942434025261808,
          0.17168118163806764,
          0.14676877391819587,
          0.08936511098508339,
          0.019707482419056226,
          -0.042491069540478814,
          -0.08290882888656174,
          -0.09525814661392751,
          -0.08143537486665242,
          -0.049584670627053795,
          -0.010934793387102338,
          0.0235763785724784,
          0.046002370803311876,
          0.05285445038146488,
          0.04518481760547041,
          0.027512297966079874,
          0.006067223802417268,
          -0.01308146941472722,
          -0.025524641319211876,
          -0.029326551317956133,
          -0.02507101791307265,
          -0.015265333616260366,
          -0.0033664289178099585,
          0.007258317536867307,
          0.014162472566033785,
          0.016271980996822876,
          0.013910777391774015,
          0.00847004531221034,
          0.0018678796147509795,
          -0.004027313124830197,
          -0.00785811744326805,
          -0.009028588554115,
          -0.0077184631399664855,
          -0.004699646230756355,
          -0.0010364021758320777,
          0.002234574462063257
         ]
        },
        {
         "line": {
          "dash": "dot"
         },
         "name": "derivative 3",
         "type": "scatter",
         "y": [
          0.07979927571732434,
          0.12084614426037678,
          0.1241659685177332,
          0.0956491468785507,
          0.048147258177111074,
          -0.00300188119618007,
          -0.044277019958957366,
          -0.06705207651675603,
          -0.06889409730681806,
          -0.05307139879816487,
          -0.026714742610304258,
          0.001665608521417044,
          0.024567321931473318,
          0.037204173891736275,
          0.03822622817171873,
          0.029446926212213547,
          0.014822806110983983,
          -0.0009241710665123092,
          -0.013631299203155823,
          -0.0206429185622709,
          -0.021210010397969055,
          -0.016338771597961568,
          -0.00822450675302695,
          0.0005127808540820213,
          0.007563393294729105,
          0.011453824724305986,
          0.011768478413854673,
          0.009065647647109345,
          0.004563407955559875,
          -0.0002845189747233711,
          -0.004196585907050543,
          -0.006355210888391508,
          -0.006529798033037512,
          -0.005030119110777741,
          -0.0025320293112049428,
          0.0001578667501589007,
          0.0023284962964346422,
          0.0035262199665253907,
          0.003623090500983017,
          0.002790986287303946
         ]
        },
        {
         "mode": "markers",
         "name": "calculated imag",
         "type": "scatter",
         "y": [
          -3.776455839434323e-18,
          0.4532452310929141,
          0.7116346885810393,
          0.7448858369977601,
          0.5847679846097059,
          0.30604564157350705,
          4.661322378167475e-17,
          -0.2514853419784408,
          -0.39485400119926783,
          -0.4133035641667393,
          -0.324461387564977,
          -0.16981092696008307,
          -5.677818954487678e-17,
          0.1395378768299677,
          0.21908668136167844,
          0.22932351196448342,
          0.18002899404770673,
          0.09422042662259844,
          6.167762952731556e-17,
          -0.07742327611238842,
          -0.12156132090415447,
          -0.1272412766285955,
          -0.09988997131850913,
          -0.052278666348904955,
          -4.2038667461087384e-17,
          0.04295868491162078,
          0.06744889578918771,
          0.07060044711238439,
          0.05542444106180172,
          0.029007074720298613,
          1.2301455282060818e-16,
          -0.023835837257222794,
          -0.03742435101349107,
          -0.039173004739787534,
          -0.03075252326600611,
          -0.0160947178379315,
          -2.0899147338861205e-17,
          0.013225431339941234,
          0.020765084919381404,
          0.021735334025586334
         ]
        },
        {
         "line": {
          "dash": "dash"
         },
         "name": "actual imag",
         "type": "scatter",
         "y": [
          0.0,
          0.45324523109291426,
          0.7116346885810394,
          0.74488583699776,
          0.5847679846097059,
          0.3060456415735071,
          6.795012897184567e-17,
          -0.2514853419784408,
          -0.39485400119926783,
          -0.41330356416673936,
          -0.32446138756497706,
          -0.16981092696008304,
          -7.540492541204777e-17,
          0.13953787682996768,
          0.21908668136167841,
          0.22932351196448342,
          0.18002899404770675,
          0.09422042662259845,
          6.275818967266832e-17,
          -0.07742327611238842,
          -0.12156132090415442,
          -0.1272412766285955,
          -0.09988997131850914,
          -0.052278666348904955,
          -4.642891959016457e-17,
          0.042958684911620776,
          0.0674488957891877,
          0.07060044711238442,
          0.05542444106180172,
          0.029007074720298613,
          1.2561895753086238e-16,
          -0.0238358372572228,
          -0.037424351013491064,
          -0.039173004739787534,
          -0.03075252326600611,
          -0.0160947178379315,
          -2.1440687354279416e-17,
          0.013225431339941236,
          0.020765084919381407,
          0.02173533402558633
         ]
        }
       ],
       "layout": {
        "margin": {
         "b": 8,
         "l": 8,
         "r": 8,
         "t": 8
        },
        "template": {
         "data": {
          "bar": [
           {
            "error_x": {
             "color": "#2a3f5f"
            },
            "error_y": {
             "color": "#2a3f5f"
            },
            "marker": {
             "line": {
              "color": "#E5ECF6",
              "width": 0.5
             },
             "pattern": {
              "fillmode": "overlay",
              "size": 10,
              "solidity": 0.2
             }
            },
            "type": "bar"
           }
          ],
          "barpolar": [
           {
            "marker": {
             "line": {
              "color": "#E5ECF6",
              "width": 0.5
             },
             "pattern": {
              "fillmode": "overlay",
              "size": 10,
              "solidity": 0.2
             }
            },
            "type": "barpolar"
           }
          ],
          "carpet": [
           {
            "aaxis": {
             "endlinecolor": "#2a3f5f",
             "gridcolor": "white",
             "linecolor": "white",
             "minorgridcolor": "white",
             "startlinecolor": "#2a3f5f"
            },
            "baxis": {
             "endlinecolor": "#2a3f5f",
             "gridcolor": "white",
             "linecolor": "white",
             "minorgridcolor": "white",
             "startlinecolor": "#2a3f5f"
            },
            "type": "carpet"
           }
          ],
          "choropleth": [
           {
            "colorbar": {
             "outlinewidth": 0,
             "ticks": ""
            },
            "type": "choropleth"
           }
          ],
          "contour": [
           {
            "colorbar": {
             "outlinewidth": 0,
             "ticks": ""
            },
            "colorscale": [
             [
              0.0,
              "#0d0887"
             ],
             [
              0.1111111111111111,
              "#46039f"
             ],
             [
              0.2222222222222222,
              "#7201a8"
             ],
             [
              0.3333333333333333,
              "#9c179e"
             ],
             [
              0.4444444444444444,
              "#bd3786"
             ],
             [
              0.5555555555555556,
              "#d8576b"
             ],
             [
              0.6666666666666666,
              "#ed7953"
             ],
             [
              0.7777777777777778,
              "#fb9f3a"
             ],
             [
              0.8888888888888888,
              "#fdca26"
             ],
             [
              1.0,
              "#f0f921"
             ]
            ],
            "type": "contour"
           }
          ],
          "contourcarpet": [
           {
            "colorbar": {
             "outlinewidth": 0,
             "ticks": ""
            },
            "type": "contourcarpet"
           }
          ],
          "heatmap": [
           {
            "colorbar": {
             "outlinewidth": 0,
             "ticks": ""
            },
            "colorscale": [
             [
              0.0,
              "#0d0887"
             ],
             [
              0.1111111111111111,
              "#46039f"
             ],
             [
              0.2222222222222222,
              "#7201a8"
             ],
             [
              0.3333333333333333,
              "#9c179e"
             ],
             [
              0.4444444444444444,
              "#bd3786"
             ],
             [
              0.5555555555555556,
              "#d8576b"
             ],
             [
              0.6666666666666666,
              "#ed7953"
             ],
             [
              0.7777777777777778,
              "#fb9f3a"
             ],
             [
              0.8888888888888888,
              "#fdca26"
             ],
             [
              1.0,
              "#f0f921"
             ]
            ],
            "type": "heatmap"
           }
          ],
          "heatmapgl": [
           {
            "colorbar": {
             "outlinewidth": 0,
             "ticks": ""
            },
            "colorscale": [
             [
              0.0,
              "#0d0887"
             ],
             [
              0.1111111111111111,
              "#46039f"
             ],
             [
              0.2222222222222222,
              "#7201a8"
             ],
             [
              0.3333333333333333,
              "#9c179e"
             ],
             [
              0.4444444444444444,
              "#bd3786"
             ],
             [
              0.5555555555555556,
              "#d8576b"
             ],
             [
              0.6666666666666666,
              "#ed7953"
             ],
             [
              0.7777777777777778,
              "#fb9f3a"
             ],
             [
              0.8888888888888888,
              "#fdca26"
             ],
             [
              1.0,
              "#f0f921"
             ]
            ],
            "type": "heatmapgl"
           }
          ],
          "histogram": [
           {
            "marker": {
             "pattern": {
              "fillmode": "overlay",
              "size": 10,
              "solidity": 0.2
             }
            },
            "type": "histogram"
           }
          ],
          "histogram2d": [
           {
            "colorbar": {
             "outlinewidth": 0,
             "ticks": ""
            },
            "colorscale": [
             [
              0.0,
              "#0d0887"
             ],
             [
              0.1111111111111111,
              "#46039f"
             ],
             [
              0.2222222222222222,
              "#7201a8"
             ],
             [
              0.3333333333333333,
              "#9c179e"
             ],
             [
              0.4444444444444444,
              "#bd3786"
             ],
             [
              0.5555555555555556,
              "#d8576b"
             ],
             [
              0.6666666666666666,
              "#ed7953"
             ],
             [
              0.7777777777777778,
              "#fb9f3a"
             ],
             [
              0.8888888888888888,
              "#fdca26"
             ],
             [
              1.0,
              "#f0f921"
             ]
            ],
            "type": "histogram2d"
           }
          ],
          "histogram2dcontour": [
           {
            "colorbar": {
             "outlinewidth": 0,
             "ticks": ""
            },
            "colorscale": [
             [
              0.0,
              "#0d0887"
             ],
             [
              0.1111111111111111,
              "#46039f"
             ],
             [
              0.2222222222222222,
              "#7201a8"
             ],
             [
              0.3333333333333333,
              "#9c179e"
             ],
             [
              0.4444444444444444,
              "#bd3786"
             ],
             [
              0.5555555555555556,
              "#d8576b"
             ],
             [
              0.6666666666666666,
              "#ed7953"
             ],
             [
              0.7777777777777778,
              "#fb9f3a"
             ],
             [
              0.8888888888888888,
              "#fdca26"
             ],
             [
              1.0,
              "#f0f921"
             ]
            ],
            "type": "histogram2dcontour"
           }
          ],
          "mesh3d": [
           {
            "colorbar": {
             "outlinewidth": 0,
             "ticks": ""
            },
            "type": "mesh3d"
           }
          ],
          "parcoords": [
           {
            "line": {
             "colorbar": {
              "outlinewidth": 0,
              "ticks": ""
             }
            },
            "type": "parcoords"
           }
          ],
          "pie": [
           {
            "automargin": true,
            "type": "pie"
           }
          ],
          "scatter": [
           {
            "marker": {
             "colorbar": {
              "outlinewidth": 0,
              "ticks": ""
             }
            },
            "type": "scatter"
           }
          ],
          "scatter3d": [
           {
            "line": {
             "colorbar": {
              "outlinewidth": 0,
              "ticks": ""
             }
            },
            "marker": {
             "colorbar": {
              "outlinewidth": 0,
              "ticks": ""
             }
            },
            "type": "scatter3d"
           }
          ],
          "scattercarpet": [
           {
            "marker": {
             "colorbar": {
              "outlinewidth": 0,
              "ticks": ""
             }
            },
            "type": "scattercarpet"
           }
          ],
          "scattergeo": [
           {
            "marker": {
             "colorbar": {
              "outlinewidth": 0,
              "ticks": ""
             }
            },
            "type": "scattergeo"
           }
          ],
          "scattergl": [
           {
            "marker": {
             "colorbar": {
              "outlinewidth": 0,
              "ticks": ""
             }
            },
            "type": "scattergl"
           }
          ],
          "scattermapbox": [
           {
            "marker": {
             "colorbar": {
              "outlinewidth": 0,
              "ticks": ""
             }
            },
            "type": "scattermapbox"
           }
          ],
          "scatterpolar": [
           {
            "marker": {
             "colorbar": {
              "outlinewidth": 0,
              "ticks": ""
             }
            },
            "type": "scatterpolar"
           }
          ],
          "scatterpolargl": [
           {
            "marker": {
             "colorbar": {
              "outlinewidth": 0,
              "ticks": ""
             }
            },
            "type": "scatterpolargl"
           }
          ],
          "scatterternary": [
           {
            "marker": {
             "colorbar": {
              "outlinewidth": 0,
              "ticks": ""
             }
            },
            "type": "scatterternary"
           }
          ],
          "surface": [
           {
            "colorbar": {
             "outlinewidth": 0,
             "ticks": ""
            },
            "colorscale": [
             [
              0.0,
              "#0d0887"
             ],
             [
              0.1111111111111111,
              "#46039f"
             ],
             [
              0.2222222222222222,
              "#7201a8"
             ],
             [
              0.3333333333333333,
              "#9c179e"
             ],
             [
              0.4444444444444444,
              "#bd3786"
             ],
             [
              0.5555555555555556,
              "#d8576b"
             ],
             [
              0.6666666666666666,
              "#ed7953"
             ],
             [
              0.7777777777777778,
              "#fb9f3a"
             ],
             [
              0.8888888888888888,
              "#fdca26"
             ],
             [
              1.0,
              "#f0f921"
             ]
            ],
            "type": "surface"
           }
          ],
          "table": [
           {
            "cells": {
             "fill": {
              "color": "#EBF0F8"
             },
             "line": {
              "color": "white"
             }
            },
            "header": {
             "fill": {
              "color": "#C8D4E3"
             },
             "line": {
              "color": "white"
             }
            },
            "type": "table"
           }
          ]
         },
         "layout": {
          "annotationdefaults": {
           "arrowcolor": "#2a3f5f",
           "arrowhead": 0,
           "arrowwidth": 1
          },
          "autotypenumbers": "strict",
          "coloraxis": {
           "colorbar": {
            "outlinewidth": 0,
            "ticks": ""
           }
          },
          "colorscale": {
           "diverging": [
            [
             0,
             "#8e0152"
            ],
            [
             0.1,
             "#c51b7d"
            ],
            [
             0.2,
             "#de77ae"
            ],
            [
             0.3,
             "#f1b6da"
            ],
            [
             0.4,
             "#fde0ef"
            ],
            [
             0.5,
             "#f7f7f7"
            ],
            [
             0.6,
             "#e6f5d0"
            ],
            [
             0.7,
             "#b8e186"
            ],
            [
             0.8,
             "#7fbc41"
            ],
            [
             0.9,
             "#4d9221"
            ],
            [
             1,
             "#276419"
            ]
           ],
           "sequential": [
            [
             0.0,
             "#0d0887"
            ],
            [
             0.1111111111111111,
             "#46039f"
            ],
            [
             0.2222222222222222,
             "#7201a8"
            ],
            [
             0.3333333333333333,
             "#9c179e"
            ],
            [
             0.4444444444444444,
             "#bd3786"
            ],
            [
             0.5555555555555556,
             "#d8576b"
            ],
            [
             0.6666666666666666,
             "#ed7953"
            ],
            [
             0.7777777777777778,
             "#fb9f3a"
            ],
            [
             0.8888888888888888,
             "#fdca26"
            ],
            [
             1.0,
             "#f0f921"
            ]
           ],
           "sequentialminus": [
            [
             0.0,
             "#0d0887"
            ],
            [
             0.1111111111111111,
             "#46039f"
            ],
            [
             0.2222222222222222,
             "#7201a8"
            ],
            [
             0.3333333333333333,
             "#9c179e"
            ],
            [
             0.4444444444444444,
             "#bd3786"
            ],
            [
             0.5555555555555556,
             "#d8576b"
            ],
            [
             0.6666666666666666,
             "#ed7953"
            ],
            [
             0.7777777777777778,
             "#fb9f3a"
            ],
            [
             0.8888888888888888,
             "#fdca26"
            ],
            [
             1.0,
             "#f0f921"
            ]
           ]
          },
          "colorway": [
           "#636efa",
           "#EF553B",
           "#00cc96",
           "#ab63fa",
           "#FFA15A",
           "#19d3f3",
           "#FF6692",
           "#B6E880",
           "#FF97FF",
           "#FECB52"
          ],
          "font": {
           "color": "#2a3f5f"
          },
          "geo": {
           "bgcolor": "white",
           "lakecolor": "white",
           "landcolor": "#E5ECF6",
           "showlakes": true,
           "showland": true,
           "subunitcolor": "white"
          },
          "hoverlabel": {
           "align": "left"
          },
          "hovermode": "closest",
          "mapbox": {
           "style": "light"
          },
          "paper_bgcolor": "white",
          "plot_bgcolor": "#E5ECF6",
          "polar": {
           "angularaxis": {
            "gridcolor": "white",
            "linecolor": "white",
            "ticks": ""
           },
           "bgcolor": "#E5ECF6",
           "radialaxis": {
            "gridcolor": "white",
            "linecolor": "white",
            "ticks": ""
           }
          },
          "scene": {
           "xaxis": {
            "backgroundcolor": "#E5ECF6",
            "gridcolor": "white",
            "gridwidth": 2,
            "linecolor": "white",
            "showbackground": true,
            "ticks": "",
            "zerolinecolor": "white"
           },
           "yaxis": {
            "backgroundcolor": "#E5ECF6",
            "gridcolor": "white",
            "gridwidth": 2,
            "linecolor": "white",
            "showbackground": true,
            "ticks": "",
            "zerolinecolor": "white"
           },
           "zaxis": {
            "backgroundcolor": "#E5ECF6",
            "gridcolor": "white",
            "gridwidth": 2,
            "linecolor": "white",
            "showbackground": true,
            "ticks": "",
            "zerolinecolor": "white"
           }
          },
          "shapedefaults": {
           "line": {
            "color": "#2a3f5f"
           }
          },
          "ternary": {
           "aaxis": {
            "gridcolor": "white",
            "linecolor": "white",
            "ticks": ""
           },
           "baxis": {
            "gridcolor": "white",
            "linecolor": "white",
            "ticks": ""
           },
           "bgcolor": "#E5ECF6",
           "caxis": {
            "gridcolor": "white",
            "linecolor": "white",
            "ticks": ""
           }
          },
          "title": {
           "x": 0.05
          },
          "xaxis": {
           "automargin": true,
           "gridcolor": "white",
           "linecolor": "white",
           "ticks": "",
           "title": {
            "standoff": 15
           },
           "zerolinecolor": "white",
           "zerolinewidth": 2
          },
          "yaxis": {
           "automargin": true,
           "gridcolor": "white",
           "linecolor": "white",
           "ticks": "",
           "title": {
            "standoff": 15
           },
           "zerolinecolor": "white",
           "zerolinewidth": 2
          }
         }
        }
       }
      },
      "image/png": "[encoded data removed]"
     },
     "metadata": {},
     "output_type": "display_data"
    }
   ],
   "source": [
    "# Find imaginary component of Euler's function\n",
    "imag_vals = []\n",
    "# Iterate over the real part of derivatives at each point\n",
    "for i, derivs in enumerate(zip(*deriv_vals)):\n",
    "    derivs = [d.real for d in derivs]\n",
    "    # Deduce imaginary component of the whole function\n",
    "    imag = (\n",
    "        derivs[3] * derivs[0] ** 2\n",
    "        -3 * derivs[2] * derivs[1] * derivs[0]\n",
    "        +2 * derivs[1] ** 3\n",
    "    )\n",
    "    # Denominator part\n",
    "    imag /= cmath.sqrt(\n",
    "            -derivs[3]**2 * derivs[0]**2\n",
    "            +6 * derivs[3] * derivs[2] * derivs[1] * derivs[0]\n",
    "            +3 * derivs[2]**2 * derivs[1]**2\n",
    "            -4 * derivs[3] * derivs[1]**3\n",
    "            -4 * derivs[2]**3 * derivs[0]\n",
    "        ).real\n",
    "    #CHECKME: The sqrt() must be taken with '-' sign (must confirm)\n",
    "    imag_vals.append(-imag)\n",
    "\n",
    "fig = go.Figure(**DEF_FIGURE)\n",
    "plot_derivs(deriv_vals)\n",
    "fig.add_scatter(y=imag_vals, mode='markers', name='calculated imag')\n",
    "fig.add_scatter(y=[v.imag for v in func_vals], line_dash='dash', name='actual imag')\n",
    "fig.show()"
   ]
  }
 ],
 "metadata": {
  "interpreter": {
   "hash": "5b45008d1052bf03c6dd057f2fb96771423420f75e961c696172b56dbb6d516e"
  },
  "kernelspec": {
   "display_name": "Python 3 (ipykernel)",
   "language": "python",
   "name": "python3"
  },
  "language_info": {
   "codemirror_mode": {
    "name": "ipython",
    "version": 3
   },
   "file_extension": ".py",
   "mimetype": "text/x-python",
   "name": "python",
   "nbconvert_exporter": "python",
   "pygments_lexer": "ipython3",
   "version": "3.10.0"
  }
 },
 "nbformat": 4,
 "nbformat_minor": 2
}
